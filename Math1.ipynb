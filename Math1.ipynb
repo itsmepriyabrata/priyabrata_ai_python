{
  "nbformat": 4,
  "nbformat_minor": 0,
  "metadata": {
    "colab": {
      "provenance": [],
      "authorship_tag": "ABX9TyMIbGVcRx6t1mZwpnwa6y8p",
      "include_colab_link": true
    },
    "kernelspec": {
      "name": "python3",
      "display_name": "Python 3"
    },
    "language_info": {
      "name": "python"
    }
  },
  "cells": [
    {
      "cell_type": "markdown",
      "metadata": {
        "id": "view-in-github",
        "colab_type": "text"
      },
      "source": [
        "<a href=\"https://colab.research.google.com/github/itsmepriyabrata/priyabrata_ai_python/blob/main/Math1.ipynb\" target=\"_parent\"><img src=\"https://colab.research.google.com/assets/colab-badge.svg\" alt=\"Open In Colab\"/></a>"
      ]
    },
    {
      "cell_type": "markdown",
      "source": [
        "The code provided calculates various minimum values within a matrix (M) using both NumPy and PyTorch."
      ],
      "metadata": {
        "id": "acLHUYpx6g3Q"
      }
    },
    {
      "cell_type": "code",
      "execution_count": 7,
      "metadata": {
        "colab": {
          "base_uri": "https://localhost:8080/"
        },
        "id": "DAUYgq9r4Q0S",
        "outputId": "a6392376-f636-4180-9a4d-a678240447c0"
      },
      "outputs": [
        {
          "output_type": "stream",
          "name": "stdout",
          "text": [
            "Min,max: -3,40\n",
            "Min,max indices: 3,1\n",
            " \n",
            "Min val is -3, max val is 40\n",
            "[[ 0  1 10]\n",
            " [20  8  5]]\n",
            " \n",
            "0\n",
            "[0 1 5]\n",
            "[0 5]\n",
            "[[ 0  1 10]\n",
            " [20  8  5]]\n",
            " \n",
            "0\n",
            "[0 0 1]\n",
            "[0 2]\n",
            "Min,max: -3,40\n",
            "Min,max indices: 3,1\n",
            " \n",
            "Min val is -3, max val is 40\n",
            "tensor([[ 0,  1, 10],\n",
            "        [20,  8,  5]])\n",
            " \n",
            "tensor(0)\n",
            " \n",
            "torch.return_types.min(\n",
            "values=tensor([0, 1, 5]),\n",
            "indices=tensor([0, 0, 1]))\n",
            " \n",
            "tensor([0, 1, 5])\n",
            "tensor([0, 0, 1])\n"
          ]
        },
        {
          "output_type": "execute_result",
          "data": {
            "text/plain": [
              "<function min.count(value, /)>"
            ]
          },
          "metadata": {},
          "execution_count": 7
        }
      ],
      "source": [
        "# import libraries\n",
        "import numpy as np\n",
        "import torch\n",
        "# create a vector\n",
        "v = np.array([ 1,40,2,-3 ])\n",
        "\n",
        "# find and report the maximum and minimum values\n",
        "minval = np.min(v)\n",
        "maxval = np.max(v)\n",
        "\n",
        "print('Min,max: %g,%g' %(minval,maxval) )\n",
        "\n",
        "\n",
        "# now for the argmin/max\n",
        "minidx = np.argmin(v)\n",
        "maxidx = np.argmax(v)\n",
        "\n",
        "print('Min,max indices: %g,%g' %(minidx,maxidx) ), print(' ')\n",
        "\n",
        "# confirm\n",
        "print(f'Min val is { v[minidx] }, max val is { v[maxidx] }')\n",
        "# repeat with matrix\n",
        "M = np.array([ [0,1,10], [20,8,5] ])\n",
        "print(M), print(' ')\n",
        "\n",
        "# various minima in this matrix!\n",
        "minvals1 = np.min(M)        # minimum from ENTIRE matrix\n",
        "minvals2 = np.min(M,axis=0) # minimum of each column (across rows)\n",
        "minvals3 = np.min(M,axis=1) # minimum of each row (across columns)\n",
        "\n",
        "# print them out\n",
        "print(minvals1)\n",
        "print(minvals2)\n",
        "print(minvals3)\n",
        "# various minima in this matrix!\n",
        "minidx1 = np.argmin(M)        # minimum from ENTIRE matrix\n",
        "minidx2 = np.argmin(M,axis=0) # minimum of each column (across rows)\n",
        "minidx3 = np.argmin(M,axis=1) # minimum of each row (across columns)\n",
        "\n",
        "# print them out\n",
        "print(M), print(' ') # reminder\n",
        "print(minidx1)\n",
        "print(minidx2)\n",
        "print(minidx3)\n",
        "# create a vector\n",
        "v = torch.tensor([ 1,40,2,-3 ])\n",
        "\n",
        "# find and report the maximum and minimum values\n",
        "minval = torch.min(v)\n",
        "maxval = torch.max(v)\n",
        "\n",
        "print('Min,max: %g,%g' %(minval,maxval) )\n",
        "\n",
        "\n",
        "# finding the indices of the minimum and maximum values in the array v using NumPy's np.argmin() and np.argmax() functions respectively, and then printing them.\n",
        "minidx = torch.argmin(v)\n",
        "maxidx = torch.argmax(v)\n",
        "\n",
        "print('Min,max indices: %g,%g' %(minidx,maxidx) ), print(' ')\n",
        "\n",
        "# confirming the minimum and maximum values in the array v by printing them using their respective indices.\n",
        "print(f'Min val is { v[minidx] }, max val is { v[maxidx] }')\n",
        "#  creating a 2D NumPy array M containing two rows and three columns and then printing it.\n",
        "M = torch.tensor([ [0,1,10], [20,8,5] ])\n",
        "print(M), print(' ')\n",
        "\n",
        "# various minima in this matrix!\n",
        "min1 = torch.min(M)        # minimum from ENTIRE matrix\n",
        "min2 = torch.min(M,axis=0) # minimum of each column (across rows)\n",
        "min3 = torch.min(M,axis=1) # minimum of each row (across columns)\n",
        "\n",
        "# print them out\n",
        "print(min1), print(' ')\n",
        "print(min2), print(' ')\n",
        "print(min2.values)\n",
        "print(min2.indices)\n",
        "min2.count\n",
        "\n",
        ""
      ]
    }
  ]
}