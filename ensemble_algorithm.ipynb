{
  "nbformat": 4,
  "nbformat_minor": 0,
  "metadata": {
    "colab": {
      "provenance": [],
      "authorship_tag": "ABX9TyN6640Gq4auZu3WOMihrvqv",
      "include_colab_link": true
    },
    "kernelspec": {
      "name": "python3",
      "display_name": "Python 3"
    },
    "language_info": {
      "name": "python"
    }
  },
  "cells": [
    {
      "cell_type": "markdown",
      "metadata": {
        "id": "view-in-github",
        "colab_type": "text"
      },
      "source": [
        "<a href=\"https://colab.research.google.com/github/itsmepriyabrata/priyabrata_ai_python/blob/main/ensemble_algorithm.ipynb\" target=\"_parent\"><img src=\"https://colab.research.google.com/assets/colab-badge.svg\" alt=\"Open In Colab\"/></a>"
      ]
    },
    {
      "cell_type": "markdown",
      "source": [
        "easy ensemble classifier"
      ],
      "metadata": {
        "id": "REoQtIDZYOr_"
      }
    },
    {
      "cell_type": "code",
      "execution_count": 1,
      "metadata": {
        "colab": {
          "base_uri": "https://localhost:8080/"
        },
        "id": "Q-U8gb84Um7R",
        "outputId": "86ab7395-1d9a-40be-bc0c-e302793d7402"
      },
      "outputs": [
        {
          "output_type": "stream",
          "name": "stdout",
          "text": [
            "Confusion Matrix:\n",
            "[[267   3]\n",
            " [  2  28]]\n",
            "\n",
            "Classification Report:\n",
            "              precision    recall  f1-score   support\n",
            "\n",
            "           0       0.99      0.99      0.99       270\n",
            "           1       0.90      0.93      0.92        30\n",
            "\n",
            "    accuracy                           0.98       300\n",
            "   macro avg       0.95      0.96      0.95       300\n",
            "weighted avg       0.98      0.98      0.98       300\n",
            "\n",
            "\n",
            "Accuracy Score: 0.9833333333333333\n"
          ]
        }
      ],
      "source": [
        "import numpy as np\n",
        "from sklearn.datasets import make_classification\n",
        "from sklearn.model_selection import train_test_split\n",
        "from sklearn.metrics import classification_report, confusion_matrix, accuracy_score\n",
        "from imblearn.ensemble import EasyEnsembleClassifier\n",
        "\n",
        "X, y = make_classification(n_samples=1000, n_features=20, n_informative=2,\n",
        "                           n_redundant=10, n_clusters_per_class=1,\n",
        "                           weights=[0.9, 0.1], flip_y=0, random_state=42)\n",
        "\n",
        "X_train, X_test, y_train, y_test = train_test_split(X, y, test_size=0.3, random_state=42, stratify=y)\n",
        "\n",
        "eec = EasyEnsembleClassifier(n_estimators=10, random_state=42)\n",
        "\n",
        "eec.fit(X_train, y_train)\n",
        "\n",
        "y_pred = eec.predict(X_test)\n",
        "\n",
        "print(\"Confusion Matrix:\")\n",
        "print(confusion_matrix(y_test, y_pred))\n",
        "\n",
        "print(\"\\nClassification Report:\")\n",
        "print(classification_report(y_test, y_pred))\n",
        "\n",
        "print(\"\\nAccuracy Score:\", accuracy_score(y_test, y_pred))\n"
      ]
    },
    {
      "cell_type": "markdown",
      "source": [
        "feature subspace ensemble"
      ],
      "metadata": {
        "id": "t4RhLyQ9YQfK"
      }
    },
    {
      "cell_type": "code",
      "source": [
        "import numpy as np\n",
        "from sklearn.datasets import make_classification\n",
        "from sklearn.model_selection import train_test_split\n",
        "from sklearn.metrics import classification_report, confusion_matrix, accuracy_score\n",
        "from sklearn.tree import DecisionTreeClassifier\n",
        "\n",
        "X, y = make_classification(n_samples=1000, n_features=20, n_informative=10, n_redundant=5, random_state=42)\n",
        "X_train, X_test, y_train, y_test = train_test_split(X, y, test_size=0.3, random_state=42, stratify=y)\n",
        "\n",
        "n_subsets = 5\n",
        "subset_size = int(X_train.shape[1] / n_subsets)\n",
        "\n",
        "classifiers = []\n",
        "for i in range(n_subsets):\n",
        "    feature_indices = np.random.choice(X_train.shape[1], subset_size, replace=False)\n",
        "    X_train_subset = X_train[:, feature_indices]\n",
        "    X_test_subset = X_test[:, feature_indices]\n",
        "    clf = DecisionTreeClassifier(random_state=42)\n",
        "    clf.fit(X_train_subset, y_train)\n",
        "    classifiers.append((clf, feature_indices))\n",
        "\n",
        "class VotingClassifierWithFeatureSubspaces:\n",
        "    def __init__(self, classifiers):\n",
        "        self.classifiers = classifiers\n",
        "\n",
        "    def predict(self, X):\n",
        "        predictions = np.array([clf.predict(X[:, indices]) for clf, indices in self.classifiers])\n",
        "        majority_vote = np.apply_along_axis(lambda x: np.bincount(x, minlength=2).argmax(), axis=0, arr=predictions)\n",
        "        return majority_vote\n",
        "\n",
        "voting_clf = VotingClassifierWithFeatureSubspaces(classifiers)\n",
        "y_pred = voting_clf.predict(X_test)\n",
        "\n",
        "print(\"Confusion Matrix:\")\n",
        "print(confusion_matrix(y_test, y_pred))\n",
        "\n",
        "print(\"\\nClassification Report:\")\n",
        "print(classification_report(y_test, y_pred))\n",
        "\n",
        "print(\"\\nAccuracy Score:\", accuracy_score(y_test, y_pred))\n"
      ],
      "metadata": {
        "colab": {
          "base_uri": "https://localhost:8080/"
        },
        "id": "nNOC0vneZedJ",
        "outputId": "b98ddb48-9ef9-4ccc-a64f-10707c133964"
      },
      "execution_count": 3,
      "outputs": [
        {
          "output_type": "stream",
          "name": "stdout",
          "text": [
            "Confusion Matrix:\n",
            "[[ 99  50]\n",
            " [ 45 106]]\n",
            "\n",
            "Classification Report:\n",
            "              precision    recall  f1-score   support\n",
            "\n",
            "           0       0.69      0.66      0.68       149\n",
            "           1       0.68      0.70      0.69       151\n",
            "\n",
            "    accuracy                           0.68       300\n",
            "   macro avg       0.68      0.68      0.68       300\n",
            "weighted avg       0.68      0.68      0.68       300\n",
            "\n",
            "\n",
            "Accuracy Score: 0.6833333333333333\n"
          ]
        }
      ]
    }
  ]
}