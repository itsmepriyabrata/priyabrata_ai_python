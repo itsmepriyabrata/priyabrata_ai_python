{
  "nbformat": 4,
  "nbformat_minor": 0,
  "metadata": {
    "colab": {
      "provenance": [],
      "authorship_tag": "ABX9TyPMvmPkcSz54kfQcv/WrUXS",
      "include_colab_link": true
    },
    "kernelspec": {
      "name": "python3",
      "display_name": "Python 3"
    },
    "language_info": {
      "name": "python"
    }
  },
  "cells": [
    {
      "cell_type": "markdown",
      "metadata": {
        "id": "view-in-github",
        "colab_type": "text"
      },
      "source": [
        "<a href=\"https://colab.research.google.com/github/itsmepriyabrata/priyabrata_ai_python/blob/main/day14.ipynb\" target=\"_parent\"><img src=\"https://colab.research.google.com/assets/colab-badge.svg\" alt=\"Open In Colab\"/></a>"
      ]
    },
    {
      "cell_type": "code",
      "execution_count": 1,
      "metadata": {
        "colab": {
          "base_uri": "https://localhost:8080/"
        },
        "id": "XYCAFjsuqFxG",
        "outputId": "b3ab7ffd-6c54-4054-8307-83d50431d63f"
      },
      "outputs": [
        {
          "output_type": "stream",
          "name": "stdout",
          "text": [
            "Original stack: [1, 2, 3, 4]\n",
            "Reversed stack: [4, 3, 2, 1]\n"
          ]
        }
      ],
      "source": [
        "class Stack:\n",
        "    def __init__(self):\n",
        "        self.items = []\n",
        "\n",
        "    def push(self, item):\n",
        "        self.items.append(item)\n",
        "\n",
        "    def pop(self):\n",
        "        return self.items.pop()\n",
        "\n",
        "    def is_empty(self):\n",
        "        return len(self.items) == 0\n",
        "\n",
        "    def size(self):\n",
        "        return len(self.items)\n",
        "\n",
        "    def peek(self):\n",
        "        if not self.is_empty():\n",
        "            return self.items[-1]\n",
        "        else:\n",
        "            return None\n",
        "\n",
        "    def reverse_stack(self):\n",
        "        if not self.is_empty():\n",
        "             temp = self.pop()\n",
        "            self.reverse_stack()\n",
        "            self.insert_at_bottom(temp)\n",
        "\n",
        "    def insert_at_bottom(self, item):\n",
        "        if self.is_empty():\n",
        "            self.push(item)\n",
        "        else:\n",
        "            temp = self.pop()\n",
        "            self.insert_at_bottom(item)\n",
        "            self.push(temp)\n",
        "\n",
        "\n",
        "# Example usage:\n",
        "s = Stack()\n",
        "s.push(1)\n",
        "s.push(2)\n",
        "s.push(3)\n",
        "s.push(4)\n",
        "\n",
        "print(\"Original stack:\", s.items)\n",
        "\n",
        "s.reverse_stack()\n",
        "\n",
        "print(\"Reversed stack:\", s.items)\n"
      ]
    },
    {
      "cell_type": "code",
      "source": [
        "import queue\n",
        "import threading\n",
        "import time\n",
        "\n",
        "class Worker(threading.Thread):\n",
        "    def __init__(self, name, priority_queue):\n",
        "        threading.Thread.__init__(self)\n",
        "        self.name = name\n",
        "        self.priority_queue = priority_queue\n",
        "\n",
        "    def run(self):\n",
        "        while True:\n",
        "            try:\n",
        "                task = self.priority_queue.get(timeout=1)\n",
        "                print(f\"{self.name} processing task: {task}\")\n",
        "                time.sleep(2)  # Simulate task processing\n",
        "                print(f\"{self.name} finished task: {task}\")\n",
        "                self.priority_queue.task_done()\n",
        "            except queue.Empty:\n",
        "                break\n",
        "\n",
        "def main():\n",
        "    priority_queue = queue.PriorityQueue()\n",
        "\n",
        "    priority_queue.put((3, \"Low priority task\"))\n",
        "    priority_queue.put((1, \"High priority task\"))\n",
        "    priority_queue.put((2, \"Medium priority task\"))\n",
        "\n",
        "    worker1 = Worker(\"Worker 1\", priority_queue)\n",
        "    worker2 = Worker(\"Worker 2\", priority_queue)\n",
        "\n",
        "    worker1.start()\n",
        "    worker2.start()\n",
        "\n",
        "    priority_queue.join()\n",
        "\n",
        "    worker1.join()\n",
        "    worker2.join()\n",
        "\n",
        "if __name__ == \"__main__\":\n",
        "    main()\n"
      ],
      "metadata": {
        "colab": {
          "base_uri": "https://localhost:8080/"
        },
        "id": "fegoAK6issq-",
        "outputId": "39f96340-93b0-4830-edba-e6ce109a0bec"
      },
      "execution_count": 3,
      "outputs": [
        {
          "output_type": "stream",
          "name": "stdout",
          "text": [
            "Worker 1 processing task: (1, 'High priority task')Worker 2 processing task: (2, 'Medium priority task')\n",
            "\n",
            "Worker 2 finished task: (2, 'Medium priority task')\n",
            "Worker 2 processing task: (3, 'Low priority task')\n",
            "Worker 1 finished task: (1, 'High priority task')\n",
            "Worker 2 finished task: (3, 'Low priority task')\n"
          ]
        }
      ]
    },
    {
      "cell_type": "code",
      "source": [
        "class Stack:\n",
        "    def __init__(self):\n",
        "        self.items = []\n",
        "\n",
        "    def push(self, item):\n",
        "        self.items.append(item)\n",
        "\n",
        "    def pop(self):\n",
        "        if not self.is_empty():\n",
        "            return self.items.pop()\n",
        "        else:\n",
        "            return None\n",
        "\n",
        "    def is_empty(self):\n",
        "        return len(self.items) == 0\n",
        "\n",
        "def is_palindrome(string):\n",
        "    stack = Stack()\n",
        "\n",
        "    for char in string:\n",
        "        stack.push(char)\n",
        "\n",
        "    reversed_string = \"\"\n",
        "    while not stack.is_empty():\n",
        "        reversed_string += stack.pop()\n",
        "\n",
        "    return string == reversed_string\n",
        "\n",
        "# Example usage:\n",
        "input_string = \"radar\"\n",
        "if is_palindrome(input_string):\n",
        "    print(f\"{input_string} is a palindrome\")\n",
        "else:\n",
        "    print(f\"{input_string} is not a palindrome\")\n"
      ],
      "metadata": {
        "colab": {
          "base_uri": "https://localhost:8080/"
        },
        "id": "DcYLlTQZty-M",
        "outputId": "7c9a3e41-09a2-48ba-8797-8648d6e1d855"
      },
      "execution_count": 5,
      "outputs": [
        {
          "output_type": "stream",
          "name": "stdout",
          "text": [
            "radar is a palindrome\n"
          ]
        }
      ]
    }
  ]
}