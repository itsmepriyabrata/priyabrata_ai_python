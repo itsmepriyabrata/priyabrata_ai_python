{
  "nbformat": 4,
  "nbformat_minor": 0,
  "metadata": {
    "colab": {
      "provenance": [],
      "authorship_tag": "ABX9TyMl35KtnCeklEMhaato4l04",
      "include_colab_link": true
    },
    "kernelspec": {
      "name": "python3",
      "display_name": "Python 3"
    },
    "language_info": {
      "name": "python"
    }
  },
  "cells": [
    {
      "cell_type": "markdown",
      "metadata": {
        "id": "view-in-github",
        "colab_type": "text"
      },
      "source": [
        "<a href=\"https://colab.research.google.com/github/itsmepriyabrata/priyabrata_ai_python/blob/main/Sort.ipynb\" target=\"_parent\"><img src=\"https://colab.research.google.com/assets/colab-badge.svg\" alt=\"Open In Colab\"/></a>"
      ]
    },
    {
      "cell_type": "code",
      "source": [
        "import bisect\n",
        "\n",
        "def binary_search(arr, x):\n",
        "    index = bisect.bisect_left(arr, x)\n",
        "\n",
        "    if index < len(arr) and arr[index] == x:\n",
        "        return index\n",
        "    else:\n",
        "        return -1\n",
        "\n",
        "# Example usage:\n",
        "arr = [1, 2, 3, 4, 5, 6, 7, 8, 9]\n",
        "x = 5\n",
        "index = binary_search(arr, x)\n",
        "if index != -1:\n",
        "    print(f\"Element {x} found at index {index}.\")\n",
        "else:\n",
        "    print(f\"Element {x} not found in the array.\")\n"
      ],
      "metadata": {
        "colab": {
          "base_uri": "https://localhost:8080/"
        },
        "id": "3th7cSNtAoy2",
        "outputId": "25b1a75b-2a76-41a4-8d84-cd4135df2f58"
      },
      "execution_count": 1,
      "outputs": [
        {
          "output_type": "stream",
          "name": "stdout",
          "text": [
            "Element 5 found at index 4.\n"
          ]
        }
      ]
    },
    {
      "cell_type": "code",
      "source": [
        "def linear_search(arr, x):\n",
        "\n",
        "    for i in range(len(arr)):\n",
        "        if arr[i] == x:\n",
        "            return i  # Element found at index i\n",
        "    return -1  # Element not found\n",
        "\n",
        "# Example usage:\n",
        "arr = [10, 5, 7, 2, 8, 3]\n",
        "x = 7\n",
        "index = linear_search(arr, x)\n",
        "if index != -1:\n",
        "    print(f\"Element {x} found at index {index}.\")\n",
        "else:\n",
        "    print(f\"Element {x} not found in the array.\")\n"
      ],
      "metadata": {
        "colab": {
          "base_uri": "https://localhost:8080/"
        },
        "id": "lg1ikVMIVuGQ",
        "outputId": "fce1ed11-cb52-4145-a5fe-b3b9a737b5ac"
      },
      "execution_count": 1,
      "outputs": [
        {
          "output_type": "stream",
          "name": "stdout",
          "text": [
            "Element 7 found at index 2.\n"
          ]
        }
      ]
    },
    {
      "cell_type": "code",
      "source": [
        "def bubble_sort(arr):\n",
        "\n",
        "    n = len(arr)\n",
        "    # Traverse through all array elements\n",
        "    for i in range(n):\n",
        "        for j in range(0, n-i-1):\n",
        "            if arr[j] > arr[j+1]:\n",
        "                arr[j], arr[j+1] = arr[j+1], arr[j]\n",
        "\n",
        "# Example usage:\n",
        "arr = [64, 34, 25, 12, 22, 11, 90]\n",
        "bubble_sort(arr)\n",
        "print(\"Sorted array:\", arr)\n"
      ],
      "metadata": {
        "colab": {
          "base_uri": "https://localhost:8080/"
        },
        "id": "BU6ySJbkWaaf",
        "outputId": "2091bed9-9b69-46fe-b9c3-8c5ba496608b"
      },
      "execution_count": 2,
      "outputs": [
        {
          "output_type": "stream",
          "name": "stdout",
          "text": [
            "Sorted array: [11, 12, 22, 25, 34, 64, 90]\n"
          ]
        }
      ]
    },
    {
      "cell_type": "code",
      "source": [
        "def selection_sort(arr):\n",
        "\n",
        "    n = len(arr)\n",
        "    for i in range(n):\n",
        "        min_idx = i\n",
        "        for j in range(i+1, n):\n",
        "            if arr[j] < arr[min_idx]:\n",
        "                min_idx = j\n",
        "        arr[i], arr[min_idx] = arr[min_idx], arr[i]\n",
        "\n",
        "# Example usage:\n",
        "arr = [64, 34, 25, 12, 22, 11, 90]\n",
        "selection_sort(arr)\n",
        "print(\"Sorted array:\", arr)\n"
      ],
      "metadata": {
        "colab": {
          "base_uri": "https://localhost:8080/"
        },
        "id": "Hxr7VdTZXP5u",
        "outputId": "5ef592fc-3432-4e52-b38d-0f0ab0b243ed"
      },
      "execution_count": 3,
      "outputs": [
        {
          "output_type": "stream",
          "name": "stdout",
          "text": [
            "Sorted array: [11, 12, 22, 25, 34, 64, 90]\n"
          ]
        }
      ]
    },
    {
      "cell_type": "code",
      "source": [
        "def insertion_sort(arr):\n",
        "\n",
        "    for i in range(1, len(arr)):\n",
        "        key = arr[i]  # Current element to be compared\n",
        "\n",
        "        j = i - 1\n",
        "        while j >= 0 and key < arr[j]:\n",
        "            arr[j + 1] = arr[j]\n",
        "            j -= 1\n",
        "        arr[j + 1] = key\n",
        "\n",
        "# Example usage:\n",
        "arr = [64, 34, 25, 12, 22, 11, 90]\n",
        "insertion_sort(arr)\n",
        "print(\"Sorted array:\", arr)\n"
      ],
      "metadata": {
        "colab": {
          "base_uri": "https://localhost:8080/"
        },
        "id": "lDBXmdfNXuSP",
        "outputId": "7c701781-12a4-4b65-c0a4-1ea0ddbc0501"
      },
      "execution_count": 4,
      "outputs": [
        {
          "output_type": "stream",
          "name": "stdout",
          "text": [
            "Sorted array: [11, 12, 22, 25, 34, 64, 90]\n"
          ]
        }
      ]
    },
    {
      "cell_type": "code",
      "source": [
        "def recursive_insertion_sort(arr, n):\n",
        "\n",
        "    if n <= 1:\n",
        "        return\n",
        "\n",
        "    recursive_insertion_sort(arr, n - 1)\n",
        "\n",
        "    key = arr[n - 1]\n",
        "    j = n - 2\n",
        "    while j >= 0 and arr[j] > key:\n",
        "        arr[j + 1] = arr[j]\n",
        "        j -= 1\n",
        "    arr[j + 1] = key\n",
        "\n",
        "# Example usage:\n",
        "arr = [64, 34, 25, 12, 22, 11, 90]\n",
        "recursive_insertion_sort(arr, len(arr))\n",
        "print(\"Sorted array:\", arr)\n"
      ],
      "metadata": {
        "colab": {
          "base_uri": "https://localhost:8080/"
        },
        "id": "ZVZjXAlFYYXE",
        "outputId": "8aba72ee-267f-419e-df69-99010c7e1b21"
      },
      "execution_count": 5,
      "outputs": [
        {
          "output_type": "stream",
          "name": "stdout",
          "text": [
            "Sorted array: [11, 12, 22, 25, 34, 64, 90]\n"
          ]
        }
      ]
    },
    {
      "cell_type": "code",
      "source": [
        "def binary_search_recursive(arr, low, high, x):\n",
        "\n",
        "    if high >= low:\n",
        "        mid = low + (high - low) // 2\n",
        "\n",
        "        if arr[mid] == x:\n",
        "            return mid\n",
        "        elif arr[mid] > x:\n",
        "            return binary_search_recursive(arr, low, mid - 1, x)\n",
        "        else:\n",
        "            return binary_search_recursive(arr, mid + 1, high, x)\n",
        "    else:\n",
        "        return -1\n",
        "\n",
        "def binary_search_iterative(arr, x):\n",
        "\n",
        "    low = 0\n",
        "    high = len(arr) - 1\n",
        "\n",
        "    while low <= high:\n",
        "        mid = low + (high - low) // 2\n",
        "\n",
        "        if arr[mid] == x:\n",
        "            return mid\n",
        "        elif arr[mid] > x:\n",
        "            high = mid - 1\n",
        "        else:\n",
        "            low = mid + 1\n",
        "\n",
        "    return -1\n",
        "\n",
        "# Example usage:\n",
        "arr = [2, 3, 4, 10, 40]\n",
        "x = 10\n",
        "\n",
        "# Recursive binary search\n",
        "result_recursive = binary_search_recursive(arr, 0, len(arr) - 1, x)\n",
        "if result_recursive != -1:\n",
        "    print(\"Element is present at index (recursive):\", result_recursive)\n",
        "else:\n",
        "    print(\"Element is not present in array (recursive)\")\n",
        "\n",
        "# Iterative binary search\n",
        "result_iterative = binary_search_iterative(arr, x)\n",
        "if result_iterative != -1:\n",
        "    print(\"Element is present at index (iterative):\", result_iterative)\n",
        "else:\n",
        "    print(\"Element is not present in array (iterative)\")\n"
      ],
      "metadata": {
        "colab": {
          "base_uri": "https://localhost:8080/"
        },
        "id": "OpBz5_Bva-Z9",
        "outputId": "74c5f917-f6ae-499b-fbb9-525f747b5e12"
      },
      "execution_count": 6,
      "outputs": [
        {
          "output_type": "stream",
          "name": "stdout",
          "text": [
            "Element is present at index (recursive): 3\n",
            "Element is present at index (iterative): 3\n"
          ]
        }
      ]
    }
  ]
}