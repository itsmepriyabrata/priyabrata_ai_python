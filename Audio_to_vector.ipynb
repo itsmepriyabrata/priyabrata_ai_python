{
  "nbformat": 4,
  "nbformat_minor": 0,
  "metadata": {
    "colab": {
      "provenance": [],
      "authorship_tag": "ABX9TyOGmNWwbEbBX9LbT6zyjQit",
      "include_colab_link": true
    },
    "kernelspec": {
      "name": "python3",
      "display_name": "Python 3"
    },
    "language_info": {
      "name": "python"
    }
  },
  "cells": [
    {
      "cell_type": "markdown",
      "metadata": {
        "id": "view-in-github",
        "colab_type": "text"
      },
      "source": [
        "<a href=\"https://colab.research.google.com/github/itsmepriyabrata/priyabrata_ai_python/blob/main/Audio_to_vector.ipynb\" target=\"_parent\"><img src=\"https://colab.research.google.com/assets/colab-badge.svg\" alt=\"Open In Colab\"/></a>"
      ]
    },
    {
      "cell_type": "code",
      "execution_count": 10,
      "metadata": {
        "colab": {
          "base_uri": "https://localhost:8080/"
        },
        "id": "o_JXpYLsL3Eb",
        "outputId": "89a3ee73-c348-49c3-fcc7-9d2ccef413cf"
      },
      "outputs": [
        {
          "output_type": "stream",
          "name": "stdout",
          "text": [
            "Data saved to vector_data_1.txt.\n"
          ]
        }
      ],
      "source": [
        "import numpy as np\n",
        "\n",
        "data = np.load('/content/combined_files.npy')\n",
        "\n",
        "if len(data.shape) > 1:\n",
        "    vector_data = data.flatten()\n",
        "else:\n",
        "    vector_data = data\n",
        "\n",
        "np.savetxt('vector_data_1.txt', vector_data)\n",
        "\n",
        "print(\"Data saved to vector_data_1.txt.\")\n"
      ]
    },
    {
      "cell_type": "code",
      "source": [
        "import numpy as np\n",
        "\n",
        "data = np.load('/content/combined_files.npy')\n",
        "\n",
        "if len(data.shape) > 1:\n",
        "    vector_data = data.reshape(-1)\n",
        "\n",
        "\n",
        "    print(\"Shape of flattened vector:\", vector_data.shape)\n",
        "else:\n",
        "    vector_data = data\n",
        "    print(\"Data is already in vector form.\")\n",
        "\n"
      ],
      "metadata": {
        "colab": {
          "base_uri": "https://localhost:8080/"
        },
        "id": "tfdbjEZzjvod",
        "outputId": "eab9d109-15ff-4304-b8bc-23c78afe06fe"
      },
      "execution_count": 11,
      "outputs": [
        {
          "output_type": "stream",
          "name": "stdout",
          "text": [
            "Shape of flattened vector: (2099721,)\n"
          ]
        }
      ]
    },
    {
      "cell_type": "code",
      "source": [
        "import numpy as np\n",
        "import librosa\n",
        "\n",
        "with open('/content/vector_data_1.txt', 'r') as f:\n",
        "    vector_data = np.loadtxt(f)\n",
        "\n",
        "audio_signal = vector_data\n",
        "\n",
        "np.save('audio_signal.npy', audio_signal)\n",
        "\n",
        "print(\"Audio signal saved as audio_signal.npy.\")\n"
      ],
      "metadata": {
        "colab": {
          "base_uri": "https://localhost:8080/"
        },
        "id": "WwZLYaytmhKA",
        "outputId": "f7cefc9f-2935-4324-e1ef-8fc9f58f6c67"
      },
      "execution_count": 12,
      "outputs": [
        {
          "output_type": "stream",
          "name": "stdout",
          "text": [
            "Audio signal saved as audio_signal.npy.\n"
          ]
        }
      ]
    },
    {
      "cell_type": "code",
      "source": [
        "import numpy as np\n",
        "from sklearn.model_selection import train_test_split\n",
        "\n",
        "file_paths = ['/content/preprocessed_audio (1).npy', '/content/preprocessed_audio 2.npy', '/content/preprocessed_audio 3.npy','/content/preprocessed_audio 4.npy','/content/preprocessed_audio 5.npy','/content/preprocessed_audio 6.npy','/content/preprocessed_audio 7.npy']  # Add more paths as needed\n",
        "\n",
        "data_list = []\n",
        "for file_path in file_paths:\n",
        "    data = np.load(file_path)\n",
        "    data_list.append(data)\n",
        "\n",
        "combined_data = np.concatenate(data_list, axis=1)\n",
        "\n",
        "\n",
        "train_data, test_data = train_test_split(combined_data, test_size=0.2, random_state=42)\n",
        "train_data, val_data = train_test_split(train_data, test_size=0.2, random_state=42)\n",
        "\n",
        "np.save('combined_data.npy', combined_data)\n",
        "\n",
        "print(\"Combined dataset saved to combined_data.npy.\")\n"
      ],
      "metadata": {
        "colab": {
          "base_uri": "https://localhost:8080/"
        },
        "id": "d3itiZyPTmFU",
        "outputId": "ddd7ef32-3075-476d-a7b4-dabd1f3fa168"
      },
      "execution_count": 7,
      "outputs": [
        {
          "output_type": "stream",
          "name": "stdout",
          "text": [
            "Combined dataset saved to combined_data.npy.\n"
          ]
        }
      ]
    }
  ]
}