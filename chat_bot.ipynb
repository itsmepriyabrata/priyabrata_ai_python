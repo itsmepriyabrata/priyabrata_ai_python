{
  "nbformat": 4,
  "nbformat_minor": 0,
  "metadata": {
    "colab": {
      "provenance": [],
      "authorship_tag": "ABX9TyPIzOFz6/er02h0jhKr5fVv",
      "include_colab_link": true
    },
    "kernelspec": {
      "name": "python3",
      "display_name": "Python 3"
    },
    "language_info": {
      "name": "python"
    }
  },
  "cells": [
    {
      "cell_type": "markdown",
      "metadata": {
        "id": "view-in-github",
        "colab_type": "text"
      },
      "source": [
        "<a href=\"https://colab.research.google.com/github/itsmepriyabrata/priyabrata_ai_python/blob/main/chat_bot.ipynb\" target=\"_parent\"><img src=\"https://colab.research.google.com/assets/colab-badge.svg\" alt=\"Open In Colab\"/></a>"
      ]
    },
    {
      "cell_type": "code",
      "execution_count": null,
      "metadata": {
        "id": "asyCf3rAizFc"
      },
      "outputs": [],
      "source": [
        "import streamlit as st\n",
        "from PyPDF2 import PdfReader\n",
        "from langchain.text_splitter import RecursiveCharacterTextSplitter\n",
        "from langchain.embeddings.openai import OpenAIEmbeddings\n",
        "from langchain.vectorstores import FAISS\n",
        "from langchain.chains.question_answering import load_qa_chain\n",
        "from langchain_community.chat_models import ChatOpenAI\n",
        "\n",
        "\n",
        "OPENAI_API_KEY = \"sk-PHzh89333124kjfd38493jjfdk84035i5Z\" #Pass your key here\n",
        "\n",
        "#Upload PDF files\n",
        "st.header(\"My first Chatbot\")\n",
        "\n",
        "with  st.sidebar:\n",
        "    st.title(\"Your Documents\")\n",
        "    file = st.file_uploader(\" Upload a PDf file and start asking questions\", type=\"pdf\")\n",
        "\n",
        "#Extract the text\n",
        "if file is not None:\n",
        "    pdf_reader = PdfReader(file)\n",
        "    text = \"\"\n",
        "    for page in pdf_reader.pages:\n",
        "        text += page.extract_text()\n",
        "        #st.write(text)\n",
        "\n",
        "#Break it into chunks\n",
        "    text_splitter = RecursiveCharacterTextSplitter(\n",
        "        separators=\"\\n\",\n",
        "        chunk_size=1000,\n",
        "        chunk_overlap=150,\n",
        "        length_function=len\n",
        "    )\n",
        "    chunks = text_splitter.split_text(text)\n",
        "    #st.write(chunks)\n",
        "\n",
        "\n",
        "    # generating embedding\n",
        "    embeddings = OpenAIEmbeddings(openai_api_key=OPENAI_API_KEY)\n",
        "\n",
        "    # creating vector store - FAISS\n",
        "    vector_store = FAISS.from_texts(chunks, embeddings)\n",
        "\n",
        "    # get user question\n",
        "    user_question = st.text_input(\"Type Your question here\")\n",
        "\n",
        "    # do similarity search\n",
        "    if user_question:\n",
        "        match = vector_store.similarity_search(user_question)\n",
        "        #st.write(match)\n",
        "\n",
        "        #define the LLM\n",
        "        llm = ChatOpenAI(\n",
        "            openai_api_key = OPENAI_API_KEY,\n",
        "            temperature = 0,\n",
        "            max_tokens = 1000,\n",
        "            model_name = \"gpt-3.5-turbo\"\n",
        "        )\n",
        "\n",
        "        #output results\n",
        "        #chain -> take the question, get relevant document, pass it to the LLM, generate the output\n",
        "        chain = load_qa_chain(llm, chain_type=\"stuff\")\n",
        "        response = chain.run(input_documents = match, question = user_question)\n",
        "        st.write(response)"
      ]
    }
  ]
}