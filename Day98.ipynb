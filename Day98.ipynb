{
  "nbformat": 4,
  "nbformat_minor": 0,
  "metadata": {
    "colab": {
      "provenance": [],
      "authorship_tag": "ABX9TyOlXIv0xJ1mQOyq2LZLIzNY",
      "include_colab_link": true
    },
    "kernelspec": {
      "name": "python3",
      "display_name": "Python 3"
    },
    "language_info": {
      "name": "python"
    }
  },
  "cells": [
    {
      "cell_type": "markdown",
      "metadata": {
        "id": "view-in-github",
        "colab_type": "text"
      },
      "source": [
        "<a href=\"https://colab.research.google.com/github/itsmepriyabrata/priyabrata_ai_python/blob/main/Day98.ipynb\" target=\"_parent\"><img src=\"https://colab.research.google.com/assets/colab-badge.svg\" alt=\"Open In Colab\"/></a>"
      ]
    },
    {
      "cell_type": "code",
      "execution_count": 1,
      "metadata": {
        "colab": {
          "base_uri": "https://localhost:8080/"
        },
        "id": "P56ASqLnTg85",
        "outputId": "b32b0330-c04e-4047-9a13-b6778cae7398"
      },
      "outputs": [
        {
          "output_type": "stream",
          "name": "stdout",
          "text": [
            "Index of object with attribute 'b' is: 1\n"
          ]
        }
      ],
      "source": [
        "class MyClass:\n",
        "    def __init__(self, attr):\n",
        "        self.attr = attr\n",
        "\n",
        "my_list = [MyClass(\"a\"), MyClass(\"b\"), MyClass(\"c\")]\n",
        "\n",
        "search_attr = \"b\"\n",
        "\n",
        "index = None\n",
        "for i, obj in enumerate(my_list):\n",
        "    if obj.attr == search_attr:\n",
        "        index = i\n",
        "        break\n",
        "\n",
        "if index is not None:\n",
        "    print(\"Index of object with attribute '{}' is: {}\".format(search_attr, index))\n",
        "else:\n",
        "    print(\"Object with attribute '{}' not found in the list.\".format(search_attr))\n"
      ]
    },
    {
      "cell_type": "code",
      "source": [
        "class Flashcard:\n",
        "    def __init__(self, term, definition):\n",
        "        self.term = term\n",
        "        self.definition = definition\n",
        "\n",
        "class FlashcardDeck:\n",
        "    def __init__(self):\n",
        "        self.cards = []\n",
        "\n",
        "    def add_card(self, term, definition):\n",
        "        card = Flashcard(term, definition)\n",
        "        self.cards.append(card)\n",
        "\n",
        "    def display_cards(self):\n",
        "        for i, card in enumerate(self.cards):\n",
        "            print(\"Card {}: Term - {}, Definition - {}\".format(i+1, card.term, card.definition))\n",
        "\n",
        "# Example usage\n",
        "if __name__ == \"__main__\":\n",
        "    deck = FlashcardDeck()\n",
        "    deck.add_card(\"Python\", \"A high-level, interpreted programming language.\")\n",
        "    deck.add_card(\"Variable\", \"A placeholder for storing data.\")\n",
        "    deck.add_card(\"Function\", \"A block of organized, reusable code that is used to perform a single, related action.\")\n",
        "\n",
        "    deck.display_cards()\n"
      ],
      "metadata": {
        "colab": {
          "base_uri": "https://localhost:8080/"
        },
        "id": "gcFBsy9IUNPF",
        "outputId": "c9c3fca6-d6cc-4cec-de51-a7b71c7fbf19"
      },
      "execution_count": 2,
      "outputs": [
        {
          "output_type": "stream",
          "name": "stdout",
          "text": [
            "Card 1: Term - Python, Definition - A high-level, interpreted programming language.\n",
            "Card 2: Term - Variable, Definition - A placeholder for storing data.\n",
            "Card 3: Term - Function, Definition - A block of organized, reusable code that is used to perform a single, related action.\n"
          ]
        }
      ]
    },
    {
      "cell_type": "code",
      "source": [
        "class MyClass:\n",
        "    instance_count = 0\n",
        "\n",
        "    def __init__(self):\n",
        "        MyClass.instance_count += 1\n",
        "\n",
        "    @classmethod\n",
        "    def get_instance_count(cls):\n",
        "        return cls.instance_count\n",
        "\n",
        "obj1 = MyClass()\n",
        "obj2 = MyClass()\n",
        "obj3 = MyClass()\n",
        "\n",
        "# Getting the count of instances\n",
        "print(\"Number of instances of MyClass:\", MyClass.get_instance_count())  # Output: 3\n"
      ],
      "metadata": {
        "colab": {
          "base_uri": "https://localhost:8080/"
        },
        "id": "jVGRHLYjUiJr",
        "outputId": "69e3e039-6c3b-4778-b3c4-dd274e6d941c"
      },
      "execution_count": 3,
      "outputs": [
        {
          "output_type": "stream",
          "name": "stdout",
          "text": [
            "Number of instances of MyClass: 3\n"
          ]
        }
      ]
    },
    {
      "cell_type": "code",
      "source": [
        "import random\n",
        "\n",
        "class Card:\n",
        "    def __init__(self, suit, rank):\n",
        "        self.suit = suit\n",
        "        self.rank = rank\n",
        "\n",
        "    def __str__(self):\n",
        "        return f\"{self.rank} of {self.suit}\"\n",
        "\n",
        "class Deck:\n",
        "    def __init__(self):\n",
        "        self.cards = []\n",
        "        self.generate_deck()\n",
        "\n",
        "    def generate_deck(self):\n",
        "        suits = ['Hearts', 'Diamonds', 'Clubs', 'Spades']\n",
        "        ranks = ['2', '3', '4', '5', '6', '7', '8', '9', '10', 'Jack', 'Queen', 'King', 'Ace']\n",
        "        for suit in suits:\n",
        "            for rank in ranks:\n",
        "                self.cards.append(Card(suit, rank))\n",
        "\n",
        "    def shuffle(self):\n",
        "        random.shuffle(self.cards)\n",
        "\n",
        "    def display_deck(self):\n",
        "        for card in self.cards:\n",
        "            print(card)\n",
        "\n",
        "# Example usage\n",
        "if __name__ == \"__main__\":\n",
        "    deck = Deck()\n",
        "    print(\"Original deck:\")\n",
        "    deck.display_deck()\n",
        "\n",
        "    print(\"\\nShuffling deck...\")\n",
        "    deck.shuffle()\n",
        "    print(\"\\nShuffled deck:\")\n",
        "    deck.display_deck()\n"
      ],
      "metadata": {
        "colab": {
          "base_uri": "https://localhost:8080/"
        },
        "id": "yOGFoX57VBSa",
        "outputId": "84b1cd6e-8563-462f-d15f-212df289fbcf"
      },
      "execution_count": 4,
      "outputs": [
        {
          "output_type": "stream",
          "name": "stdout",
          "text": [
            "Original deck:\n",
            "2 of Hearts\n",
            "3 of Hearts\n",
            "4 of Hearts\n",
            "5 of Hearts\n",
            "6 of Hearts\n",
            "7 of Hearts\n",
            "8 of Hearts\n",
            "9 of Hearts\n",
            "10 of Hearts\n",
            "Jack of Hearts\n",
            "Queen of Hearts\n",
            "King of Hearts\n",
            "Ace of Hearts\n",
            "2 of Diamonds\n",
            "3 of Diamonds\n",
            "4 of Diamonds\n",
            "5 of Diamonds\n",
            "6 of Diamonds\n",
            "7 of Diamonds\n",
            "8 of Diamonds\n",
            "9 of Diamonds\n",
            "10 of Diamonds\n",
            "Jack of Diamonds\n",
            "Queen of Diamonds\n",
            "King of Diamonds\n",
            "Ace of Diamonds\n",
            "2 of Clubs\n",
            "3 of Clubs\n",
            "4 of Clubs\n",
            "5 of Clubs\n",
            "6 of Clubs\n",
            "7 of Clubs\n",
            "8 of Clubs\n",
            "9 of Clubs\n",
            "10 of Clubs\n",
            "Jack of Clubs\n",
            "Queen of Clubs\n",
            "King of Clubs\n",
            "Ace of Clubs\n",
            "2 of Spades\n",
            "3 of Spades\n",
            "4 of Spades\n",
            "5 of Spades\n",
            "6 of Spades\n",
            "7 of Spades\n",
            "8 of Spades\n",
            "9 of Spades\n",
            "10 of Spades\n",
            "Jack of Spades\n",
            "Queen of Spades\n",
            "King of Spades\n",
            "Ace of Spades\n",
            "\n",
            "Shuffling deck...\n",
            "\n",
            "Shuffled deck:\n",
            "King of Spades\n",
            "5 of Clubs\n",
            "3 of Clubs\n",
            "Jack of Diamonds\n",
            "Queen of Diamonds\n",
            "Ace of Diamonds\n",
            "2 of Hearts\n",
            "5 of Spades\n",
            "Jack of Clubs\n",
            "6 of Hearts\n",
            "6 of Clubs\n",
            "6 of Spades\n",
            "8 of Spades\n",
            "5 of Diamonds\n",
            "8 of Clubs\n",
            "2 of Diamonds\n",
            "Ace of Hearts\n",
            "4 of Clubs\n",
            "Jack of Spades\n",
            "7 of Hearts\n",
            "King of Clubs\n",
            "9 of Clubs\n",
            "3 of Spades\n",
            "7 of Clubs\n",
            "10 of Clubs\n",
            "3 of Diamonds\n",
            "King of Diamonds\n",
            "2 of Spades\n",
            "10 of Diamonds\n",
            "7 of Spades\n",
            "4 of Diamonds\n",
            "Queen of Hearts\n",
            "Ace of Clubs\n",
            "7 of Diamonds\n",
            "9 of Spades\n",
            "3 of Hearts\n",
            "4 of Spades\n",
            "10 of Hearts\n",
            "8 of Diamonds\n",
            "5 of Hearts\n",
            "Queen of Spades\n",
            "10 of Spades\n",
            "9 of Hearts\n",
            "8 of Hearts\n",
            "6 of Diamonds\n",
            "Jack of Hearts\n",
            "4 of Hearts\n",
            "9 of Diamonds\n",
            "King of Hearts\n",
            "Ace of Spades\n",
            "2 of Clubs\n",
            "Queen of Clubs\n"
          ]
        }
      ]
    },
    {
      "cell_type": "code",
      "source": [
        "class DictToClass:\n",
        "    def __init__(self, **entries):\n",
        "        self.__dict__.update(entries)\n",
        "\n",
        "# Example dictionary\n",
        "my_dict = {'name': 'John', 'age': 30, 'city': 'New York'}\n",
        "\n",
        "# Convert dictionary to class\n",
        "my_class_instance = DictToClass(**my_dict)\n",
        "\n",
        "# Accessing attributes of the class\n",
        "print(my_class_instance.name)  # Output: John\n",
        "print(my_class_instance.age)   # Output: 30\n",
        "print(my_class_instance.city)  # Output: New York\n"
      ],
      "metadata": {
        "colab": {
          "base_uri": "https://localhost:8080/"
        },
        "id": "B8tGGuEyWBWu",
        "outputId": "1ad80e3c-b1c7-4670-a4ef-a084bd0048e4"
      },
      "execution_count": 6,
      "outputs": [
        {
          "output_type": "stream",
          "name": "stdout",
          "text": [
            "John\n",
            "30\n",
            "New York\n"
          ]
        }
      ]
    },
    {
      "cell_type": "code",
      "source": [
        "class Student:\n",
        "    def __init__(self, name, roll_number, marks):\n",
        "        self.name = name\n",
        "        self.roll_number = roll_number\n",
        "        self.marks = marks\n",
        "\n",
        "class StudentManagementSystem:\n",
        "    def __init__(self):\n",
        "        self.students = []\n",
        "\n",
        "    def add_student(self, name, roll_number, marks):\n",
        "        student = Student(name, roll_number, marks)\n",
        "        self.students.append(student)\n",
        "        print(f\"Student {name} added successfully!\")\n",
        "\n",
        "    def remove_student(self, roll_number):\n",
        "        for student in self.students:\n",
        "            if student.roll_number == roll_number:\n",
        "                self.students.remove(student)\n",
        "                print(f\"Student with roll number {roll_number} removed successfully!\")\n",
        "                return\n",
        "        print(f\"Student with roll number {roll_number} not found.\")\n",
        "\n",
        "    def view_student_details(self, roll_number):\n",
        "        for student in self.students:\n",
        "            if student.roll_number == roll_number:\n",
        "                print(f\"Name: {student.name}\")\n",
        "                print(f\"Roll Number: {student.roll_number}\")\n",
        "                print(f\"Marks: {student.marks}\")\n",
        "                return\n",
        "        print(f\"Student with roll number {roll_number} not found.\")\n",
        "\n",
        "    def display_all_students(self):\n",
        "        if not self.students:\n",
        "            print(\"No students found.\")\n",
        "            return\n",
        "        print(\"Student Details:\")\n",
        "        for student in self.students:\n",
        "            print(f\"Name: {student.name}, Roll Number: {student.roll_number}, Marks: {student.marks}\")\n",
        "\n",
        "# Example usage\n",
        "if __name__ == \"__main__\":\n",
        "    system = StudentManagementSystem()\n",
        "\n",
        "    system.add_student(\"John\", \"101\", 85)\n",
        "    system.add_student(\"Alice\", \"102\", 78)\n",
        "\n",
        "    system.display_all_students()\n",
        "\n",
        "    system.view_student_details(\"101\")\n",
        "\n",
        "    system.remove_student(\"102\")\n",
        "\n",
        "    system.display_all_students()\n"
      ],
      "metadata": {
        "colab": {
          "base_uri": "https://localhost:8080/"
        },
        "id": "ydJ0VtgAWISi",
        "outputId": "71d7dca2-0be7-456d-917f-f4734729b999"
      },
      "execution_count": 7,
      "outputs": [
        {
          "output_type": "stream",
          "name": "stdout",
          "text": [
            "Student John added successfully!\n",
            "Student Alice added successfully!\n",
            "Student Details:\n",
            "Name: John, Roll Number: 101, Marks: 85\n",
            "Name: Alice, Roll Number: 102, Marks: 78\n",
            "Name: John\n",
            "Roll Number: 101\n",
            "Marks: 85\n",
            "Student with roll number 102 removed successfully!\n",
            "Student Details:\n",
            "Name: John, Roll Number: 101, Marks: 85\n"
          ]
        }
      ]
    }
  ]
}