{
  "nbformat": 4,
  "nbformat_minor": 0,
  "metadata": {
    "colab": {
      "provenance": [],
      "authorship_tag": "ABX9TyMkN40TIcbK3SGeAK0FoPh0",
      "include_colab_link": true
    },
    "kernelspec": {
      "name": "python3",
      "display_name": "Python 3"
    },
    "language_info": {
      "name": "python"
    }
  },
  "cells": [
    {
      "cell_type": "markdown",
      "metadata": {
        "id": "view-in-github",
        "colab_type": "text"
      },
      "source": [
        "<a href=\"https://colab.research.google.com/github/itsmepriyabrata/priyabrata_ai_python/blob/main/day4.ipynb\" target=\"_parent\"><img src=\"https://colab.research.google.com/assets/colab-badge.svg\" alt=\"Open In Colab\"/></a>"
      ]
    },
    {
      "cell_type": "code",
      "execution_count": 1,
      "metadata": {
        "colab": {
          "base_uri": "https://localhost:8080/"
        },
        "id": "ea9oC2pA3SkS",
        "outputId": "a5615c6b-395f-4b90-9b9c-050799e12856"
      },
      "outputs": [
        {
          "output_type": "stream",
          "name": "stdout",
          "text": [
            "Sub-array 1: [1 2 3]\n",
            "Sub-array 2: [4 5 6]\n",
            "Sub-array 3: [7 8 9]\n",
            "Sub-array 4: [10 11 12]\n"
          ]
        }
      ],
      "source": [
        "import numpy as np\n",
        "\n",
        "data = np.array([1, 2, 3, 4, 5, 6, 7, 8, 9, 10, 11, 12])\n",
        "\n",
        "split_arrays = np.split(data, 4)\n",
        "\n",
        "# Print the split arrays\n",
        "for i, sub_array in enumerate(split_arrays):\n",
        "    print(f\"Sub-array {i+1}: {sub_array}\")\n"
      ]
    },
    {
      "cell_type": "code",
      "source": [
        "import numpy as np\n",
        "\n",
        "arr = np.array([[4, 2, 3],\n",
        "                [1, 7, 5],\n",
        "                [0, 9, 8]])\n",
        "\n",
        "sorted_by_second_row = arr[:, arr[1].argsort()]\n",
        "print(\"Sorted by second row:\")\n",
        "print(sorted_by_second_row)\n",
        "\n",
        "sorted_by_second_column = arr[arr[:, 1].argsort()]\n",
        "print(\"\\nSorted by second column:\")\n",
        "print(sorted_by_second_column)\n"
      ],
      "metadata": {
        "colab": {
          "base_uri": "https://localhost:8080/"
        },
        "id": "h1wMSFqx3qe5",
        "outputId": "1316b8fa-ea5f-46a6-851b-d241ab18fb78"
      },
      "execution_count": 2,
      "outputs": [
        {
          "output_type": "stream",
          "name": "stdout",
          "text": [
            "Sorted by second row:\n",
            "[[4 3 2]\n",
            " [1 5 7]\n",
            " [0 8 9]]\n",
            "\n",
            "Sorted by second column:\n",
            "[[4 2 3]\n",
            " [1 7 5]\n",
            " [0 9 8]]\n"
          ]
        }
      ]
    },
    {
      "cell_type": "code",
      "source": [
        "import numpy as np\n",
        "\n",
        "arr = np.array([[1, 2, 3],\n",
        "                [4, 5, 6],\n",
        "                [7, 8, 9]])\n",
        "\n",
        "max_axis_0 = np.max(arr, axis=0)\n",
        "print(\"Maximum along axis 0:\", max_axis_0)\n",
        "\n",
        "min_axis_1 = np.min(arr, axis=1)\n",
        "print(\"Minimum along axis 1:\", min_axis_1)\n"
      ],
      "metadata": {
        "colab": {
          "base_uri": "https://localhost:8080/"
        },
        "id": "nP8z40Mr36hd",
        "outputId": "56dc6f30-5220-4b4e-a344-12ac8cb149d9"
      },
      "execution_count": 3,
      "outputs": [
        {
          "output_type": "stream",
          "name": "stdout",
          "text": [
            "Maximum along axis 0: [7 8 9]\n",
            "Minimum along axis 1: [1 4 7]\n"
          ]
        }
      ]
    },
    {
      "cell_type": "code",
      "source": [
        "import numpy as np\n",
        "\n",
        "original_array = np.array([[1, 2, 3],\n",
        "                           [4, 5, 6],\n",
        "                           [7, 8, 9]])\n",
        "\n",
        "new_column = np.array([[10],\n",
        "                       [11],\n",
        "                       [12]])\n",
        "\n",
        "modified_array = np.delete(original_array, 1, axis=1)\n",
        "\n",
        "modified_array = np.insert(modified_array, 1, new_column, axis=1)\n",
        "\n",
        "print(\"Original Array:\")\n",
        "print(original_array)\n",
        "print(\"\\nModified Array:\")\n",
        "print(modified_array)\n"
      ],
      "metadata": {
        "colab": {
          "base_uri": "https://localhost:8080/"
        },
        "id": "m8OwuENF4KUo",
        "outputId": "78010f3f-6b47-4362-9481-fb30d916ff42"
      },
      "execution_count": 4,
      "outputs": [
        {
          "output_type": "stream",
          "name": "stdout",
          "text": [
            "Original Array:\n",
            "[[1 2 3]\n",
            " [4 5 6]\n",
            " [7 8 9]]\n",
            "\n",
            "Modified Array:\n",
            "[[ 1 10 11 12  3]\n",
            " [ 4 10 11 12  6]\n",
            " [ 7 10 11 12  9]]\n"
          ]
        }
      ]
    },
    {
      "cell_type": "code",
      "source": [
        "import numpy as np\n",
        "import matplotlib.pyplot as plt\n",
        "\n",
        "array1 = np.random.rand(5, 5)\n",
        "array2 = np.random.rand(5, 5)\n",
        "\n",
        "plt.subplot(1, 2, 1)\n",
        "plt.imshow(array1, cmap='viridis', interpolation='nearest')\n",
        "plt.title('Array 1')\n",
        "\n",
        "plt.subplot(1, 2, 2)\n",
        "plt.imshow(array2, cmap='plasma', interpolation='nearest')\n",
        "plt.title('Array 2')\n",
        "\n",
        "plt.tight_layout()  # Adjust layout to prevent overlap\n",
        "plt.show()\n"
      ],
      "metadata": {
        "colab": {
          "base_uri": "https://localhost:8080/",
          "height": 361
        },
        "id": "35yNrM-44epM",
        "outputId": "b6866c2c-a8c6-48f2-c609-15d6daebfbb6"
      },
      "execution_count": 5,
      "outputs": [
        {
          "output_type": "display_data",
          "data": {
            "text/plain": [
              "<Figure size 640x480 with 2 Axes>"
            ],
            "image/png": "[encoded data removed]"
          },
          "metadata": {}
        }
      ]
    },
    {
      "cell_type": "code",
      "source": [
        "class MyClass:\n",
        "    # Define a class attribute\n",
        "    shared_property = \"Same value for all instances\"\n",
        "\n",
        "    def __init__(self, value):\n",
        "        # Instance attribute\n",
        "        self.value = value\n",
        "\n",
        "obj1 = MyClass(10)\n",
        "obj2 = MyClass(20)\n",
        "\n",
        "print(obj1.shared_property)  # Output: Same value for all instances\n",
        "print(obj2.shared_property)  # Output: Same value for all instances\n"
      ],
      "metadata": {
        "colab": {
          "base_uri": "https://localhost:8080/"
        },
        "id": "x0Ln-Yuz46KL",
        "outputId": "60b8d573-53d8-495a-81a5-d85ce04ac3f1"
      },
      "execution_count": 6,
      "outputs": [
        {
          "output_type": "stream",
          "name": "stdout",
          "text": [
            "Same value for all instances\n",
            "Same value for all instances\n"
          ]
        }
      ]
    },
    {
      "cell_type": "code",
      "source": [
        "class Animal:\n",
        "    def __init__(self, name):\n",
        "        self.name = name\n",
        "\n",
        "    def sound(self):\n",
        "        pass  # This method will be overridden by subclasses\n",
        "\n",
        "class Dog(Animal):\n",
        "    def sound(self):\n",
        "        return \"Woof!\"\n",
        "\n",
        "class Cat(Animal):\n",
        "    def sound(self):\n",
        "        return \"Meow!\"\n",
        "\n",
        "dog = Dog(\"Buddy\")\n",
        "cat = Cat(\"Whiskers\")\n",
        "\n",
        "print(dog.name)     # Output: Buddy\n",
        "print(dog.sound())  # Output: Woof!\n",
        "print(cat.name)     # Output: Whiskers\n",
        "print(cat.sound())  # Output: Meow!\n"
      ],
      "metadata": {
        "colab": {
          "base_uri": "https://localhost:8080/"
        },
        "id": "7cxzwg7B5UXX",
        "outputId": "346ed06c-103e-451b-c07a-71bdd02632a0"
      },
      "execution_count": 7,
      "outputs": [
        {
          "output_type": "stream",
          "name": "stdout",
          "text": [
            "Buddy\n",
            "Woof!\n",
            "Whiskers\n",
            "Meow!\n"
          ]
        }
      ]
    }
  ]
}