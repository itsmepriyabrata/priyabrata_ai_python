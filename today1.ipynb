{
  "nbformat": 4,
  "nbformat_minor": 0,
  "metadata": {
    "colab": {
      "provenance": [],
      "authorship_tag": "ABX9TyODFlqoVj6f7sdVu+J++Y3z",
      "include_colab_link": true
    },
    "kernelspec": {
      "name": "python3",
      "display_name": "Python 3"
    },
    "language_info": {
      "name": "python"
    }
  },
  "cells": [
    {
      "cell_type": "markdown",
      "metadata": {
        "id": "view-in-github",
        "colab_type": "text"
      },
      "source": [
        "<a href=\"https://colab.research.google.com/github/itsmepriyabrata/priyabrata_ai_python/blob/main/today1.ipynb\" target=\"_parent\"><img src=\"https://colab.research.google.com/assets/colab-badge.svg\" alt=\"Open In Colab\"/></a>"
      ]
    },
    {
      "cell_type": "code",
      "source": [
        "def is_symmetrical(string):\n",
        "    return string == string[::-1]\n",
        "\n",
        "def is_palindrome(string):\n",
        "    string = ''.join(string.split()).lower()  # Removing spaces and converting to lowercase\n",
        "    return is_symmetrical(string)\n",
        "\n",
        "# Test the functions\n",
        "string = input(\"Enter a string: \")\n",
        "if is_symmetrical(string):\n",
        "    print(\"The string is symmetrical.\")\n",
        "else:\n",
        "    print(\"The string is not symmetrical.\")\n",
        "\n",
        "if is_palindrome(string):\n",
        "    print(\"The string is a palindrome.\")\n",
        "else:\n",
        "    print(\"The string is not a palindrome.\")\n"
      ],
      "metadata": {
        "colab": {
          "base_uri": "https://localhost:8080/"
        },
        "id": "VAszCH0LkdvZ",
        "outputId": "bb371581-3a49-45f4-fb80-eadc3fe3af26"
      },
      "execution_count": 2,
      "outputs": [
        {
          "output_type": "stream",
          "name": "stdout",
          "text": [
            "Enter a string: amama\n",
            "The string is symmetrical.\n",
            "The string is a palindrome.\n"
          ]
        }
      ]
    },
    {
      "cell_type": "code",
      "source": [
        "from datetime import datetime\n",
        "\n",
        "def get_current_time():\n",
        "    current_time = datetime.now().time()\n",
        "    return current_time\n",
        "\n",
        "# Test the function\n",
        "current_time = get_current_time()\n",
        "print(\"Current Time:\", current_time)\n"
      ],
      "metadata": {
        "colab": {
          "base_uri": "https://localhost:8080/"
        },
        "id": "84bARcgGwbQ2",
        "outputId": "8412f806-be27-45d9-c246-7c363e40d7d0"
      },
      "execution_count": 6,
      "outputs": [
        {
          "output_type": "stream",
          "name": "stdout",
          "text": [
            "Current Time: 14:12:34.236653\n"
          ]
        }
      ]
    },
    {
      "cell_type": "code",
      "source": [
        "def selection_sort(arr):\n",
        "    n = len(arr)\n",
        "\n",
        "    for i in range(n):\n",
        "        min_index = i\n",
        "        for j in range(i + 1, n):\n",
        "            if arr[j] < arr[min_index]:\n",
        "                min_index = j\n",
        "\n",
        "        arr[i], arr[min_index] = arr[min_index], arr[i]\n",
        "\n",
        "# Test the function\n",
        "arr = [64, 25, 12, 22, 11]\n",
        "selection_sort(arr)\n",
        "print(\"Sorted array is:\", arr)\n"
      ],
      "metadata": {
        "colab": {
          "base_uri": "https://localhost:8080/"
        },
        "id": "YQgCJGL_w7j5",
        "outputId": "c134a917-db33-43a8-98a3-dd21d8383af9"
      },
      "execution_count": 7,
      "outputs": [
        {
          "output_type": "stream",
          "name": "stdout",
          "text": [
            "Sorted array is: [11, 12, 22, 25, 64]\n"
          ]
        }
      ]
    },
    {
      "cell_type": "code",
      "source": [
        "def insertion_sort(arr):\n",
        "    n = len(arr)\n",
        "\n",
        "    for i in range(1, n):\n",
        "        key = arr[i]\n",
        "\n",
        "        j = i - 1\n",
        "        while j >= 0 and key < arr[j]:\n",
        "            arr[j + 1] = arr[j]\n",
        "            j -= 1\n",
        "        arr[j + 1] = key\n",
        "\n",
        "# Test the function\n",
        "arr = [64, 25, 12, 22, 11]\n",
        "insertion_sort(arr)\n",
        "print(\"Sorted array is:\", arr)\n"
      ],
      "metadata": {
        "colab": {
          "base_uri": "https://localhost:8080/"
        },
        "id": "WupRYIJNxN1J",
        "outputId": "6ac2c446-d714-4f73-84d9-85512daa5d78"
      },
      "execution_count": 8,
      "outputs": [
        {
          "output_type": "stream",
          "name": "stdout",
          "text": [
            "Sorted array is: [11, 12, 22, 25, 64]\n"
          ]
        }
      ]
    },
    {
      "cell_type": "code",
      "source": [
        "def recursive_insertion_sort(arr, n):\n",
        "    if n <= 1:\n",
        "        return\n",
        "\n",
        "    recursive_insertion_sort(arr, n-1)\n",
        "\n",
        "    last = arr[n-1]\n",
        "    j = n-2\n",
        "    while j >= 0 and arr[j] > last:\n",
        "        arr[j+1] = arr[j]\n",
        "        j -= 1\n",
        "    arr[j+1] = last\n",
        "\n",
        "# Test the function\n",
        "arr = [64, 25, 12, 22, 11]\n",
        "recursive_insertion_sort(arr, len(arr))\n",
        "print(\"Sorted array is:\", arr)\n"
      ],
      "metadata": {
        "colab": {
          "base_uri": "https://localhost:8080/"
        },
        "id": "oBpVZDp5xefJ",
        "outputId": "38dbd036-c1a7-44e8-82c1-44e7375c15ec"
      },
      "execution_count": 9,
      "outputs": [
        {
          "output_type": "stream",
          "name": "stdout",
          "text": [
            "Sorted array is: [11, 12, 22, 25, 64]\n"
          ]
        }
      ]
    },
    {
      "cell_type": "code",
      "source": [
        "def binary_search_recursive(arr, low, high, target):\n",
        "    if high >= low:\n",
        "        mid = (high + low) // 2\n",
        "\n",
        "        if arr[mid] == target:\n",
        "            return mid\n",
        "\n",
        "        elif arr[mid] > target:\n",
        "            return binary_search_recursive(arr, low, mid - 1, target)\n",
        "\n",
        "        else:\n",
        "            return binary_search_recursive(arr, mid + 1, high, target)\n",
        "\n",
        "    else:\n",
        "        return -1\n",
        "\n",
        "# Test the function\n",
        "arr = [2, 3, 4, 10, 40]\n",
        "target = 10\n",
        "result = binary_search_recursive(arr, 0, len(arr) - 1, target)\n",
        "\n",
        "if result != -1:\n",
        "    print(\"Element is present at index\", result)\n",
        "else:\n",
        "    print(\"Element is not present in array\")\n"
      ],
      "metadata": {
        "colab": {
          "base_uri": "https://localhost:8080/"
        },
        "id": "2Aha5NX2x8ts",
        "outputId": "1d210925-18f5-41fa-8208-a90509701897"
      },
      "execution_count": 10,
      "outputs": [
        {
          "output_type": "stream",
          "name": "stdout",
          "text": [
            "Element is present at index 3\n"
          ]
        }
      ]
    },
    {
      "cell_type": "code",
      "source": [
        "def binary_search_iterative(arr, target):\n",
        "    low = 0\n",
        "    high = len(arr) - 1\n",
        "\n",
        "    while low <= high:\n",
        "        mid = (high + low) // 2\n",
        "\n",
        "        # Check if target is present at mid\n",
        "        if arr[mid] == target:\n",
        "            return mid\n",
        "\n",
        "        # If target is greater, ignore left half\n",
        "        elif arr[mid] < target:\n",
        "            low = mid + 1\n",
        "\n",
        "        # If target is smaller, ignore right half\n",
        "        else:\n",
        "            high = mid - 1\n",
        "\n",
        "    # If we reach here, then the element was not present\n",
        "    return -1\n",
        "\n",
        "# Test the function\n",
        "arr = [2, 3, 4, 10, 40]\n",
        "target = 10\n",
        "result = binary_search_iterative(arr, target)\n",
        "\n",
        "if result != -1:\n",
        "    print(\"Element is present at index\", result)\n",
        "else:\n",
        "    print(\"Element is not present in array\")\n"
      ],
      "metadata": {
        "colab": {
          "base_uri": "https://localhost:8080/"
        },
        "id": "h_YikmKoyJBE",
        "outputId": "ef219fc5-8641-4c30-bd92-e25e423ef8a8"
      },
      "execution_count": 11,
      "outputs": [
        {
          "output_type": "stream",
          "name": "stdout",
          "text": [
            "Element is present at index 3\n"
          ]
        }
      ]
    },
    {
      "cell_type": "code",
      "source": [
        "def contains_substring(string, substring):\n",
        "    return string.find(substring) != -1\n",
        "\n",
        "# Test the function\n",
        "string = input(\"Enter a string: \")\n",
        "substring = input(\"Enter a substring to check for: \")\n",
        "\n",
        "if contains_substring(string, substring):\n",
        "    print(\"The string contains the substring.\")\n",
        "else:\n",
        "    print(\"The string does not contain the substring.\")\n"
      ],
      "metadata": {
        "colab": {
          "base_uri": "https://localhost:8080/"
        },
        "id": "5CLiD0Cfo4OB",
        "outputId": "f05c34c2-f12c-4396-8756-c79a6998081f"
      },
      "execution_count": 3,
      "outputs": [
        {
          "output_type": "stream",
          "name": "stdout",
          "text": [
            "Enter a string: priyabrata\n",
            "Enter a substring to check for: priya\n",
            "The string contains the substring.\n"
          ]
        }
      ]
    },
    {
      "cell_type": "code",
      "source": [
        "def create_tuples_with_cubes(numbers):\n",
        "    tuples_with_cubes = [(num, num ** 3) for num in numbers]\n",
        "    return tuples_with_cubes\n",
        "\n",
        "# Test the function\n",
        "numbers = [1, 2, 3, 4, 5]\n",
        "result = create_tuples_with_cubes(numbers)\n",
        "print(result)\n"
      ],
      "metadata": {
        "colab": {
          "base_uri": "https://localhost:8080/"
        },
        "id": "UCNEOPj0o4Q4",
        "outputId": "ad54648d-92fb-44f6-be25-1901f8243c32"
      },
      "execution_count": 4,
      "outputs": [
        {
          "output_type": "stream",
          "name": "stdout",
          "text": [
            "[(1, 1), (2, 8), (3, 27), (4, 64), (5, 125)]\n"
          ]
        }
      ]
    },
    {
      "cell_type": "code",
      "source": [
        "def print_double_sided_staircase(rows):\n",
        "    for i in range(1, rows + 1):\n",
        "        print(' ' * (rows - i), end='')\n",
        "\n",
        "        print('*' * i, end='')\n",
        "\n",
        "\n",
        "        print('*' * (i - 1))\n",
        "\n",
        "# Test the function\n",
        "rows = int(input(\"Enter the number of rows: \"))\n",
        "print_double_sided_staircase(rows)\n"
      ],
      "metadata": {
        "colab": {
          "base_uri": "https://localhost:8080/"
        },
        "id": "y-EUm1VQpusG",
        "outputId": "cabc91c8-6e3a-48fd-a715-f1f02e5df96c"
      },
      "execution_count": 5,
      "outputs": [
        {
          "output_type": "stream",
          "name": "stdout",
          "text": [
            "Enter the number of rows: 6\n",
            "     *\n",
            "    ***\n",
            "   *****\n",
            "  *******\n",
            " *********\n",
            "***********\n"
          ]
        }
      ]
    }
  ]
}