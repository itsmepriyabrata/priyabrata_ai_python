{
  "nbformat": 4,
  "nbformat_minor": 0,
  "metadata": {
    "colab": {
      "provenance": [],
      "authorship_tag": "ABX9TyMCkXNhGPQD0hS1gzRypMs2",
      "include_colab_link": true
    },
    "kernelspec": {
      "name": "python3",
      "display_name": "Python 3"
    },
    "language_info": {
      "name": "python"
    }
  },
  "cells": [
    {
      "cell_type": "markdown",
      "metadata": {
        "id": "view-in-github",
        "colab_type": "text"
      },
      "source": [
        "<a href=\"https://colab.research.google.com/github/itsmepriyabrata/priyabrata_ai_python/blob/main/Embedding_and_Softmax.ipynb\" target=\"_parent\"><img src=\"https://colab.research.google.com/assets/colab-badge.svg\" alt=\"Open In Colab\"/></a>"
      ]
    },
    {
      "cell_type": "code",
      "execution_count": 1,
      "metadata": {
        "colab": {
          "base_uri": "https://localhost:8080/"
        },
        "id": "d3Jh6c9zyJ0R",
        "outputId": "99ab5e50-1a62-4290-c854-2e8bcb6782ba"
      },
      "outputs": [
        {
          "output_type": "stream",
          "name": "stdout",
          "text": [
            "Embedding for word with index 3 : [ 0.28924842 -1.21357627  0.48694962 -2.1271125  -1.26986131]\n"
          ]
        }
      ],
      "source": [
        "import numpy as np\n",
        "\n",
        "class WordEmbeddings:\n",
        "    def __init__(self, vocab_size, embedding_size):\n",
        "        self.word_embeddings = np.random.randn(vocab_size, embedding_size)\n",
        "\n",
        "    def get_embedding(self, word_index):\n",
        "        if word_index < len(self.word_embeddings):\n",
        "            return self.word_embeddings[word_index]\n",
        "        else:\n",
        "            print(\"Word index out of range.\")\n",
        "            return None\n",
        "\n",
        "vocab_size = 10\n",
        "embedding_size = 5\n",
        "\n",
        "word_embeddings_model = WordEmbeddings(vocab_size, embedding_size)\n",
        "\n",
        "word_index = 3\n",
        "embedding = word_embeddings_model.get_embedding(word_index)\n",
        "\n",
        "print(\"Embedding for word with index\", word_index, \":\", embedding)\n"
      ]
    },
    {
      "cell_type": "code",
      "source": [
        "import numpy as np\n",
        "\n",
        "def softmax(x):\n",
        "\n",
        "    e_x = np.exp(x - np.max(x, axis=-1, keepdims=True))\n",
        "    softmax_probs = e_x / np.sum(e_x, axis=-1, keepdims=True)\n",
        "    return softmax_probs\n",
        "\n",
        "scores = np.array([1.0, 2.0, 3.0])\n",
        "\n",
        "softmax_scores = softmax(scores)\n",
        "\n",
        "print(\"Input scores:\", scores)\n",
        "print(\"Softmax scores:\", softmax_scores)\n"
      ],
      "metadata": {
        "colab": {
          "base_uri": "https://localhost:8080/"
        },
        "id": "SCQnjZNNyZR6",
        "outputId": "58bc7c27-5362-48c9-c198-345d3b2311c8"
      },
      "execution_count": 2,
      "outputs": [
        {
          "output_type": "stream",
          "name": "stdout",
          "text": [
            "Input scores: [1. 2. 3.]\n",
            "Softmax scores: [0.09003057 0.24472847 0.66524096]\n"
          ]
        }
      ]
    }
  ]
}