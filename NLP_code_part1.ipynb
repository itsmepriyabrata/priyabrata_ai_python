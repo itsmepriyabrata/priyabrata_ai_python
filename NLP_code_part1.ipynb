{
  "nbformat": 4,
  "nbformat_minor": 0,
  "metadata": {
    "colab": {
      "provenance": [],
      "authorship_tag": "ABX9TyPTQHqY4IRWwB2x+HQ58jYa",
      "include_colab_link": true
    },
    "kernelspec": {
      "name": "python3",
      "display_name": "Python 3"
    },
    "language_info": {
      "name": "python"
    }
  },
  "cells": [
    {
      "cell_type": "markdown",
      "metadata": {
        "id": "view-in-github",
        "colab_type": "text"
      },
      "source": [
        "<a href=\"https://colab.research.google.com/github/itsmepriyabrata/priyabrata_ai_python/blob/main/NLP_code_part1.ipynb\" target=\"_parent\"><img src=\"https://colab.research.google.com/assets/colab-badge.svg\" alt=\"Open In Colab\"/></a>"
      ]
    },
    {
      "cell_type": "markdown",
      "source": [
        "Bag of words"
      ],
      "metadata": {
        "id": "f0W_s1hOI9Q3"
      }
    },
    {
      "cell_type": "code",
      "execution_count": 1,
      "metadata": {
        "colab": {
          "base_uri": "https://localhost:8080/"
        },
        "id": "VztkvhrtI1Jp",
        "outputId": "74149dcc-fadc-41d2-b5a5-fdb695934f9b"
      },
      "outputs": [
        {
          "output_type": "stream",
          "name": "stdout",
          "text": [
            "Requirement already satisfied: scikit-learn in /usr/local/lib/python3.10/dist-packages (1.2.2)\n",
            "Requirement already satisfied: numpy>=1.17.3 in /usr/local/lib/python3.10/dist-packages (from scikit-learn) (1.25.2)\n",
            "Requirement already satisfied: scipy>=1.3.2 in /usr/local/lib/python3.10/dist-packages (from scikit-learn) (1.11.4)\n",
            "Requirement already satisfied: joblib>=1.1.1 in /usr/local/lib/python3.10/dist-packages (from scikit-learn) (1.4.2)\n",
            "Requirement already satisfied: threadpoolctl>=2.0.0 in /usr/local/lib/python3.10/dist-packages (from scikit-learn) (3.5.0)\n"
          ]
        }
      ],
      "source": [
        "pip install scikit-learn\n"
      ]
    },
    {
      "cell_type": "code",
      "source": [
        "from sklearn.feature_extraction.text import CountVectorizer\n",
        "\n",
        "documents = [\n",
        "    \"The quick brown fox jumps over the lazy dog.\",\n",
        "    \"Never jump over the lazy dog quickly.\",\n",
        "    \"A lazy dog is quick to jump over.\"\n",
        "]\n",
        "\n",
        "vectorizer = CountVectorizer()\n",
        "\n",
        "X = vectorizer.fit_transform(documents)\n",
        "\n",
        "feature_names = vectorizer.get_feature_names_out()\n",
        "\n",
        "X_array = X.toarray()\n",
        "\n",
        "print(\"Feature Names (Vocabulary):\")\n",
        "print(feature_names)\n",
        "\n",
        "print(\"\\nDocument-Term Matrix:\")\n",
        "print(X_array)\n"
      ],
      "metadata": {
        "colab": {
          "base_uri": "https://localhost:8080/"
        },
        "id": "ZihjxnRSI4si",
        "outputId": "bbb18468-3796-4b31-a531-930b9adc8f79"
      },
      "execution_count": 2,
      "outputs": [
        {
          "output_type": "stream",
          "name": "stdout",
          "text": [
            "Feature Names (Vocabulary):\n",
            "['brown' 'dog' 'fox' 'is' 'jump' 'jumps' 'lazy' 'never' 'over' 'quick'\n",
            " 'quickly' 'the' 'to']\n",
            "\n",
            "Document-Term Matrix:\n",
            "[[1 1 1 0 0 1 1 0 1 1 0 2 0]\n",
            " [0 1 0 0 1 0 1 1 1 0 1 1 0]\n",
            " [0 1 0 1 1 0 1 0 1 1 0 0 1]]\n"
          ]
        }
      ]
    },
    {
      "cell_type": "markdown",
      "source": [
        "Term frequency inverse document fequency (tf-idf)"
      ],
      "metadata": {
        "id": "LFCt-i_fbaZ7"
      }
    },
    {
      "cell_type": "code",
      "source": [
        "from sklearn.feature_extraction.text import TfidfVectorizer\n",
        "\n",
        "documents = [\n",
        "    \"The quick brown fox jumps over the lazy dog.\",\n",
        "    \"Never jump over the lazy dog quickly.\",\n",
        "    \"A lazy dog is quick to jump over.\"\n",
        "]\n",
        "\n",
        "vectorizer = TfidfVectorizer()\n",
        "\n",
        "X = vectorizer.fit_transform(documents)\n",
        "\n",
        "feature_names = vectorizer.get_feature_names_out()\n",
        "\n",
        "X_array = X.toarray()\n",
        "\n",
        "print(\"Feature Names (Vocabulary):\")\n",
        "print(feature_names)\n",
        "\n",
        "print(\"\\nTF-IDF Document-Term Matrix:\")\n",
        "print(X_array)\n"
      ],
      "metadata": {
        "colab": {
          "base_uri": "https://localhost:8080/"
        },
        "id": "OfIgVKQ5bZWr",
        "outputId": "1364eae2-5320-4837-f070-67f9eb757c97"
      },
      "execution_count": 1,
      "outputs": [
        {
          "output_type": "stream",
          "name": "stdout",
          "text": [
            "Feature Names (Vocabulary):\n",
            "['brown' 'dog' 'fox' 'is' 'jump' 'jumps' 'lazy' 'never' 'over' 'quick'\n",
            " 'quickly' 'the' 'to']\n",
            "\n",
            "TF-IDF Document-Term Matrix:\n",
            "[[0.3796364  0.22421937 0.3796364  0.         0.         0.3796364\n",
            "  0.22421937 0.         0.22421937 0.28872327 0.         0.57744654\n",
            "  0.        ]\n",
            " [0.         0.28807865 0.         0.         0.37095371 0.\n",
            "  0.28807865 0.48775955 0.28807865 0.         0.48775955 0.37095371\n",
            "  0.        ]\n",
            " [0.         0.28807865 0.         0.48775955 0.37095371 0.\n",
            "  0.28807865 0.         0.28807865 0.37095371 0.         0.\n",
            "  0.48775955]]\n"
          ]
        }
      ]
    },
    {
      "cell_type": "markdown",
      "source": [
        "Word2vec"
      ],
      "metadata": {
        "id": "DncKOtzzfRW1"
      }
    },
    {
      "cell_type": "code",
      "source": [
        "pip install gensim\n"
      ],
      "metadata": {
        "colab": {
          "base_uri": "https://localhost:8080/"
        },
        "id": "CG1ZWKjbfYoQ",
        "outputId": "a8b438de-c4da-4af6-b64f-c4ad445b966b"
      },
      "execution_count": 1,
      "outputs": [
        {
          "output_type": "stream",
          "name": "stdout",
          "text": [
            "Requirement already satisfied: gensim in /usr/local/lib/python3.10/dist-packages (4.3.2)\n",
            "Requirement already satisfied: numpy>=1.18.5 in /usr/local/lib/python3.10/dist-packages (from gensim) (1.25.2)\n",
            "Requirement already satisfied: scipy>=1.7.0 in /usr/local/lib/python3.10/dist-packages (from gensim) (1.11.4)\n",
            "Requirement already satisfied: smart-open>=1.8.1 in /usr/local/lib/python3.10/dist-packages (from gensim) (6.4.0)\n"
          ]
        }
      ]
    },
    {
      "cell_type": "code",
      "source": [
        "from gensim.models import Word2Vec\n",
        "from gensim.utils import simple_preprocess\n",
        "\n",
        "documents = [\n",
        "    \"The quick brown fox jumps over the lazy dog.\",\n",
        "    \"Never jump over the lazy dog quickly.\",\n",
        "    \"A lazy dog is quick to jump over.\"\n",
        "]\n",
        "\n",
        "tokenized_documents = [simple_preprocess(doc) for doc in documents]\n",
        "\n",
        "print(\"Tokenized Documents:\")\n",
        "print(tokenized_documents)\n"
      ],
      "metadata": {
        "colab": {
          "base_uri": "https://localhost:8080/"
        },
        "id": "VN9G8D78ftqk",
        "outputId": "72104f37-476a-43a9-be5d-9885492fc8be"
      },
      "execution_count": 2,
      "outputs": [
        {
          "output_type": "stream",
          "name": "stdout",
          "text": [
            "Tokenized Documents:\n",
            "[['the', 'quick', 'brown', 'fox', 'jumps', 'over', 'the', 'lazy', 'dog'], ['never', 'jump', 'over', 'the', 'lazy', 'dog', 'quickly'], ['lazy', 'dog', 'is', 'quick', 'to', 'jump', 'over']]\n"
          ]
        }
      ]
    }
  ]
}