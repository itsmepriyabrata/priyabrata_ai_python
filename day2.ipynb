{
  "nbformat": 4,
  "nbformat_minor": 0,
  "metadata": {
    "colab": {
      "provenance": [],
      "authorship_tag": "ABX9TyNZI2f55W3Z6nOuZMmJhgPU",
      "include_colab_link": true
    },
    "kernelspec": {
      "name": "python3",
      "display_name": "Python 3"
    },
    "language_info": {
      "name": "python"
    }
  },
  "cells": [
    {
      "cell_type": "markdown",
      "metadata": {
        "id": "view-in-github",
        "colab_type": "text"
      },
      "source": [
        "<a href=\"https://colab.research.google.com/github/itsmepriyabrata/priyabrata_ai_python/blob/main/day2.ipynb\" target=\"_parent\"><img src=\"https://colab.research.google.com/assets/colab-badge.svg\" alt=\"Open In Colab\"/></a>"
      ]
    },
    {
      "cell_type": "code",
      "execution_count": 1,
      "metadata": {
        "colab": {
          "base_uri": "https://localhost:8080/"
        },
        "id": "b-Sszzkqv1zS",
        "outputId": "932ab25a-265d-42f4-feee-6f6e28833a3d"
      },
      "outputs": [
        {
          "output_type": "stream",
          "name": "stdout",
          "text": [
            "Move disk 1 from A to C\n",
            "Move disk 2 from A to B\n",
            "Move disk 1 from C to B\n",
            "Move disk 3 from A to C\n",
            "Move disk 1 from B to A\n",
            "Move disk 2 from B to C\n",
            "Move disk 1 from A to C\n"
          ]
        }
      ],
      "source": [
        "def tower_of_hanoi(n, source, target, auxiliary):\n",
        "    if n == 1:\n",
        "        print(\"Move disk 1 from {} to {}\".format(source, target))\n",
        "        return\n",
        "    tower_of_hanoi(n-1, source, auxiliary, target)\n",
        "    print(\"Move disk {} from {} to {}\".format(n, source, target))\n",
        "    tower_of_hanoi(n-1, auxiliary, target, source)\n",
        "\n",
        "# Example usage:\n",
        "n = 3  # Number of disks\n",
        "tower_of_hanoi(n, 'A', 'C', 'B')\n"
      ]
    },
    {
      "cell_type": "code",
      "source": [
        "def sieve_of_eratosthenes(limit):\n",
        "    primes = [True] * (limit + 1)\n",
        "    primes[0] = primes[1] = False\n",
        "\n",
        "    for i in range(2, int(limit ** 0.5) + 1):\n",
        "        if primes[i]:\n",
        "            for j in range(i * i, limit + 1, i):\n",
        "                primes[j] = False\n",
        "\n",
        "    prime_numbers = [i for i in range(limit + 1) if primes[i]]\n",
        "    return prime_numbers\n",
        "\n",
        "# Example usage:\n",
        "limit = 50\n",
        "print(\"Prime numbers up to\", limit, \"are:\", sieve_of_eratosthenes(limit))\n"
      ],
      "metadata": {
        "colab": {
          "base_uri": "https://localhost:8080/"
        },
        "id": "FieFzOBZwEmX",
        "outputId": "c83f9576-1500-47e2-9c50-b31634f9dffe"
      },
      "execution_count": 2,
      "outputs": [
        {
          "output_type": "stream",
          "name": "stdout",
          "text": [
            "Prime numbers up to 50 are: [2, 3, 5, 7, 11, 13, 17, 19, 23, 29, 31, 37, 41, 43, 47]\n"
          ]
        }
      ]
    },
    {
      "cell_type": "code",
      "source": [
        "def binary_search_recursive(arr, low, high, x):\n",
        "    if high >= low:\n",
        "        mid = low + (high - low) // 2\n",
        "\n",
        "        if arr[mid] == x:\n",
        "            return mid\n",
        "\n",
        "        elif arr[mid] > x:\n",
        "            return binary_search_recursive(arr, low, mid - 1, x)\n",
        "\n",
        "        else:\n",
        "            return binary_search_recursive(arr, mid + 1, high, x)\n",
        "    else:\n",
        "        return -1\n",
        "\n",
        "# Example usage:\n",
        "arr = [2, 3, 4, 10, 40]\n",
        "x = 10\n",
        "result = binary_search_recursive(arr, 0, len(arr) - 1, x)\n",
        "if result != -1:\n",
        "    print(\"Element is present at index\", result)\n",
        "else:\n",
        "    print(\"Element is not present in array\")\n"
      ],
      "metadata": {
        "colab": {
          "base_uri": "https://localhost:8080/"
        },
        "id": "3-bPtygowl0d",
        "outputId": "51fb3134-0acc-4c23-9a69-8c26237d57f0"
      },
      "execution_count": 3,
      "outputs": [
        {
          "output_type": "stream",
          "name": "stdout",
          "text": [
            "Element is present at index 3\n"
          ]
        }
      ]
    },
    {
      "cell_type": "code",
      "source": [
        "def binary_search_iterative(arr, x):\n",
        "    low, high = 0, len(arr) - 1\n",
        "\n",
        "    while low <= high:\n",
        "        mid = low + (high - low) // 2\n",
        "\n",
        "        if arr[mid] == x:\n",
        "            return mid\n",
        "\n",
        "        elif arr[mid] > x:\n",
        "            high = mid - 1\n",
        "\n",
        "        else:\n",
        "            low = mid + 1\n",
        "\n",
        "    return -1\n",
        "\n",
        "# Example usage:\n",
        "arr = [2, 3, 4, 10, 40]\n",
        "x = 10\n",
        "result = binary_search_iterative(arr, x)\n",
        "if result != -1:\n",
        "    print(\"Element is present at index\", result)\n",
        "else:\n",
        "    print(\"Element is not present in array\")\n"
      ],
      "metadata": {
        "colab": {
          "base_uri": "https://localhost:8080/"
        },
        "id": "IfOacii2w0HE",
        "outputId": "4a5f4bf0-7a67-48c7-eb3b-c33c9433a715"
      },
      "execution_count": 4,
      "outputs": [
        {
          "output_type": "stream",
          "name": "stdout",
          "text": [
            "Element is present at index 3\n"
          ]
        }
      ]
    },
    {
      "cell_type": "code",
      "source": [
        "def recursive_insertion_sort(arr, n):\n",
        "    if n <= 1:\n",
        "        return\n",
        "\n",
        "    # Sort first n-1 elements\n",
        "    recursive_insertion_sort(arr, n - 1)\n",
        "\n",
        "    last = arr[n - 1]\n",
        "    j = n - 2\n",
        "\n",
        "    while j >= 0 and arr[j] > last:\n",
        "        arr[j + 1] = arr[j]\n",
        "        j -= 1\n",
        "\n",
        "    arr[j + 1] = last\n",
        "\n",
        "# Example usage:\n",
        "arr = [12, 11, 13, 5, 6]\n",
        "n = len(arr)\n",
        "recursive_insertion_sort(arr, n)\n",
        "print(\"Sorted array is:\", arr)\n"
      ],
      "metadata": {
        "colab": {
          "base_uri": "https://localhost:8080/"
        },
        "id": "S2ukYwLUw5Gp",
        "outputId": "0c3bd7ea-4a7b-4742-ac43-df408b359345"
      },
      "execution_count": 5,
      "outputs": [
        {
          "output_type": "stream",
          "name": "stdout",
          "text": [
            "Sorted array is: [5, 6, 11, 12, 13]\n"
          ]
        }
      ]
    }
  ]
}