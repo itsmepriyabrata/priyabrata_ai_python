{
  "nbformat": 4,
  "nbformat_minor": 0,
  "metadata": {
    "colab": {
      "provenance": [],
      "authorship_tag": "ABX9TyPT6NbIHCnC+HNkVVPRxi/M",
      "include_colab_link": true
    },
    "kernelspec": {
      "name": "python3",
      "display_name": "Python 3"
    },
    "language_info": {
      "name": "python"
    }
  },
  "cells": [
    {
      "cell_type": "markdown",
      "metadata": {
        "id": "view-in-github",
        "colab_type": "text"
      },
      "source": [
        "<a href=\"https://colab.research.google.com/github/itsmepriyabrata/priyabrata_ai_python/blob/main/pre-processing%20code.ipynb\" target=\"_parent\"><img src=\"https://colab.research.google.com/assets/colab-badge.svg\" alt=\"Open In Colab\"/></a>"
      ]
    },
    {
      "cell_type": "code",
      "source": [
        "import librosa\n",
        "import numpy as np\n",
        "from scipy.signal import resample\n",
        "\n",
        "\n",
        "# Load the audio file\n",
        "audio_path = ''\n",
        "y, sr = librosa.load(audio_path, sr=None)\n",
        "\n",
        "\n",
        "print(\"Type of y:\", type(y))\n",
        "print(\"Type of sr:\", type(sr))\n",
        "\n",
        "\n",
        "# Resample the audio to a common sample rate (e.g., 22050 Hz)\n",
        "target_sr = 22050\n",
        "y_resampled = resample(y, int(len(y) * target_sr / sr))\n",
        "\n",
        "\n",
        "print(\"Type of y_resampled:\", type(y_resampled))\n",
        "\n",
        "\n",
        "# Normalize the audio\n",
        "y_normalized = librosa.util.normalize(y_resampled)\n",
        "\n",
        "\n",
        "# Optionally, remove silence\n",
        "y_trimmed, _ = librosa.effects.trim(y_normalized)\n",
        "\n",
        "\n",
        "# Optionally, apply noise reduction techniques\n",
        "# e.g., using spectral subtraction\n",
        "y_denoised = librosa.effects.preemphasis(y_trimmed)\n",
        "\n",
        "\n",
        "# Extract features (e.g., Mel-Frequency Cepstral Coefficients (MFCCs))\n",
        "mfccs = librosa.feature.mfcc(y=y_denoised, sr=target_sr, n_mfcc=13)\n",
        "\n",
        "\n",
        "# Optionally, save the preprocessed data\n",
        "np.save('preprocessed_audio.npy', mfccs)\n",
        "\n",
        "\n",
        "# Print the shape of the extracted features\n",
        "print(\"Shape of extracted features:\", mfccs.shape)\n"
      ],
      "metadata": {
        "colab": {
          "base_uri": "https://localhost:8080/"
        },
        "id": "po0GN1yHUEHo",
        "outputId": "860db99c-6e64-4e6e-8300-78f0232e7c88"
      },
      "execution_count": 5,
      "outputs": [
        {
          "output_type": "stream",
          "name": "stdout",
          "text": [
            "Type of y: <class 'numpy.ndarray'>\n",
            "Type of sr: <class 'int'>\n",
            "Type of y_resampled: <class 'numpy.ndarray'>\n",
            "Shape of extracted features: (13, 6460)\n"
          ]
        }
      ]
    },
    {
      "cell_type": "code",
      "source": [
        "import librosa\n",
        "import numpy as np\n",
        "from scipy.signal import resample\n",
        "\n",
        "\n",
        "# Load the audio file\n",
        "audio_path = '/content/ଓଡ଼ିଶାର ପୁରାତନ ଇତିହାସ for OCS_RI_Forest_Fire by _ Chandan Sir(MP3_320K).mp3'\n",
        "y, sr = librosa.load(audio_path, sr=None, mono=True, res_type='kaiser_best')\n",
        "\n",
        "\n",
        "print(\"Type of y:\", type(y))\n",
        "print(\"Type of sr:\", type(sr))\n",
        "\n",
        "\n",
        "# Resample the audio to a common sample rate (e.g., 22050 Hz)\n",
        "target_sr = 22050\n",
        "y_resampled = resample(y, int(len(y) * target_sr / sr))\n",
        "\n",
        "\n",
        "print(\"Type of y_resampled:\", type(y_resampled))\n",
        "\n",
        "\n",
        "# Normalize the audio\n",
        "y_normalized = librosa.util.normalize(y_resampled)\n",
        "\n",
        "\n",
        "# Optionally, remove silence\n",
        "y_trimmed, _ = librosa.effects.trim(y_normalized)\n",
        "\n",
        "\n",
        "# Optionally, apply noise reduction techniques\n",
        "# e.g., using spectral subtraction\n",
        "y_denoised = librosa.effects.preemphasis(y_trimmed)\n",
        "\n",
        "\n",
        "# Extract features (e.g., Mel-Frequency Cepstral Coefficients (MFCCs))\n",
        "mfccs = librosa.feature.mfcc(y=y_denoised, sr=target_sr, n_mfcc=13)\n",
        "\n",
        "\n",
        "# Optionally, save the preprocessed data\n",
        "np.save('preprocessed_audio.npy', mfccs)\n",
        "\n",
        "\n",
        "# Print the shape of the extracted features\n",
        "print(\"Shape of extracted features:\", mfccs.shape)\n"
      ],
      "metadata": {
        "colab": {
          "base_uri": "https://localhost:8080/"
        },
        "id": "ADrJL3PBWDkU",
        "outputId": "b5f3870d-d310-490e-f6fe-a81b95769ca1"
      },
      "execution_count": 4,
      "outputs": [
        {
          "output_type": "stream",
          "name": "stdout",
          "text": [
            "Type of y: <class 'numpy.ndarray'>\n",
            "Type of sr: <class 'int'>\n",
            "Type of y_resampled: <class 'numpy.ndarray'>\n",
            "Shape of extracted features: (13, 6462)\n"
          ]
        }
      ]
    }
  ]
}