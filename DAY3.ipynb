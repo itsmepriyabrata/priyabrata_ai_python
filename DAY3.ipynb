{
  "nbformat": 4,
  "nbformat_minor": 0,
  "metadata": {
    "colab": {
      "provenance": [],
      "authorship_tag": "ABX9TyNq6MN/naXqY23eB6jz2LNn",
      "include_colab_link": true
    },
    "kernelspec": {
      "name": "python3",
      "display_name": "Python 3"
    },
    "language_info": {
      "name": "python"
    }
  },
  "cells": [
    {
      "cell_type": "markdown",
      "metadata": {
        "id": "view-in-github",
        "colab_type": "text"
      },
      "source": [
        "<a href=\"https://colab.research.google.com/github/itsmepriyabrata/priyabrata_ai_python/blob/main/DAY3.ipynb\" target=\"_parent\"><img src=\"https://colab.research.google.com/assets/colab-badge.svg\" alt=\"Open In Colab\"/></a>"
      ]
    },
    {
      "cell_type": "code",
      "execution_count": 1,
      "metadata": {
        "colab": {
          "base_uri": "https://localhost:8080/"
        },
        "id": "mpQz3rMe2VIR",
        "outputId": "79bf157e-2b5f-4a35-819f-aad05c8002d6"
      },
      "outputs": [
        {
          "output_type": "stream",
          "name": "stdout",
          "text": [
            "Array:\n",
            "[[1 2]\n",
            " [3 4]\n",
            " [5 6]\n",
            " [7 8]]\n",
            "\n",
            "Shape of array: (4, 2)\n",
            "Number of dimensions: 2\n",
            "Data type of array elements: int64\n",
            "Number of elements in the array: 8\n",
            "Size of each element in bytes: 8 bytes\n",
            "Total size of the array in bytes: 64 bytes\n"
          ]
        }
      ],
      "source": [
        "import numpy as np\n",
        "\n",
        "array = np.array([[1, 2],\n",
        "                  [3, 4],\n",
        "                  [5, 6],\n",
        "                  [7, 8]])\n",
        "\n",
        "print(\"Array:\")\n",
        "print(array)\n",
        "\n",
        "print(\"\\nShape of array:\", array.shape)\n",
        "\n",
        "print(\"Number of dimensions:\", array.ndim)\n",
        "\n",
        "print(\"Data type of array elements:\", array.dtype)\n",
        "\n",
        "print(\"Number of elements in the array:\", array.size)\n",
        "\n",
        "print(\"Size of each element in bytes:\", array.itemsize, \"bytes\")\n",
        "\n",
        "print(\"Total size of the array in bytes:\", array.nbytes, \"bytes\")\n"
      ]
    },
    {
      "cell_type": "code",
      "source": [
        "import numpy as np\n",
        "\n",
        "arr_range = np.arange(100, 200, 10)\n",
        "\n",
        "array = arr_range.reshape(5, 2)\n",
        "\n",
        "# Print the resulting array\n",
        "print(\"5x2 Array:\")\n",
        "print(array)\n"
      ],
      "metadata": {
        "colab": {
          "base_uri": "https://localhost:8080/"
        },
        "id": "jeDzTtPd3r5T",
        "outputId": "edd3bd33-be87-4b63-ddaf-3e0165397717"
      },
      "execution_count": 2,
      "outputs": [
        {
          "output_type": "stream",
          "name": "stdout",
          "text": [
            "5x2 Array:\n",
            "[[100 110]\n",
            " [120 130]\n",
            " [140 150]\n",
            " [160 170]\n",
            " [180 190]]\n"
          ]
        }
      ]
    },
    {
      "cell_type": "code",
      "source": [
        "import numpy as np\n",
        "\n",
        "array = np.array([[1, 2, 3],\n",
        "                  [4, 5, 6],\n",
        "                  [7, 8, 9]])\n",
        "\n",
        "third_column = array[:, 2]\n",
        "\n",
        "# Printing the array of items from the third column\n",
        "print(\"Array of items from the third column:\")\n",
        "print(third_column)\n"
      ],
      "metadata": {
        "colab": {
          "base_uri": "https://localhost:8080/"
        },
        "id": "5vIYh_q_4CAV",
        "outputId": "2972210f-9f75-469d-a6a7-b7164b24666b"
      },
      "execution_count": 3,
      "outputs": [
        {
          "output_type": "stream",
          "name": "stdout",
          "text": [
            "Array of items from the third column:\n",
            "[3 6 9]\n"
          ]
        }
      ]
    },
    {
      "cell_type": "code",
      "source": [
        "import numpy as np\n",
        "\n",
        "# Given NumPy array\n",
        "array = np.array([[1, 2, 3, 4],\n",
        "                  [5, 6, 7, 8],\n",
        "                  [9, 10, 11, 12],\n",
        "                  [13, 14, 15, 16],\n",
        "                  [17, 18, 19, 20]])\n",
        "\n",
        "odd_rows_even_columns = array[::2, 1::2]\n",
        "\n",
        "# Printing the resulting array\n",
        "print(\"Array of odd rows and even columns:\")\n",
        "print(odd_rows_even_columns)\n"
      ],
      "metadata": {
        "colab": {
          "base_uri": "https://localhost:8080/"
        },
        "id": "J9Q338hh4Elw",
        "outputId": "58caa95a-b3a3-4b03-d6ab-74e0fde04a30"
      },
      "execution_count": 4,
      "outputs": [
        {
          "output_type": "stream",
          "name": "stdout",
          "text": [
            "Array of odd rows and even columns:\n",
            "[[ 2  4]\n",
            " [10 12]\n",
            " [18 20]]\n"
          ]
        }
      ]
    },
    {
      "cell_type": "code",
      "source": [
        "import numpy as np\n",
        "\n",
        "# Two NumPy arrays\n",
        "array1 = np.array([[1, 2],\n",
        "                   [3, 4]])\n",
        "array2 = np.array([[5, 6],\n",
        "                   [7, 8]])\n",
        "\n",
        "result_array = array1 + array2\n",
        "\n",
        "result_array_squared = result_array ** 2\n",
        "\n",
        "# Printing the result array and the modified result array\n",
        "print(\"Result array after addition:\")\n",
        "print(result_array)\n",
        "\n",
        "print(\"\\nResult array after squaring each element:\")\n",
        "print(result_array_squared)\n"
      ],
      "metadata": {
        "colab": {
          "base_uri": "https://localhost:8080/"
        },
        "id": "6XWWOXvy4XvN",
        "outputId": "08b88a4e-4db9-47c8-e871-4ff71a41344a"
      },
      "execution_count": 5,
      "outputs": [
        {
          "output_type": "stream",
          "name": "stdout",
          "text": [
            "Result array after addition:\n",
            "[[ 6  8]\n",
            " [10 12]]\n",
            "\n",
            "Result array after squaring each element:\n",
            "[[ 36  64]\n",
            " [100 144]]\n"
          ]
        }
      ]
    }
  ]
}