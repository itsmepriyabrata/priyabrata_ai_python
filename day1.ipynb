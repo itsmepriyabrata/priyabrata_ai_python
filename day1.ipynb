{
  "nbformat": 4,
  "nbformat_minor": 0,
  "metadata": {
    "colab": {
      "provenance": [],
      "authorship_tag": "ABX9TyNDcT43KyxAGitRQ7yHQjCz",
      "include_colab_link": true
    },
    "kernelspec": {
      "name": "python3",
      "display_name": "Python 3"
    },
    "language_info": {
      "name": "python"
    }
  },
  "cells": [
    {
      "cell_type": "markdown",
      "metadata": {
        "id": "view-in-github",
        "colab_type": "text"
      },
      "source": [
        "<a href=\"https://colab.research.google.com/github/itsmepriyabrata/priyabrata_ai_python/blob/main/day1.ipynb\" target=\"_parent\"><img src=\"https://colab.research.google.com/assets/colab-badge.svg\" alt=\"Open In Colab\"/></a>"
      ]
    },
    {
      "cell_type": "code",
      "execution_count": 1,
      "metadata": {
        "colab": {
          "base_uri": "https://localhost:8080/"
        },
        "id": "33qYOsvgmw_d",
        "outputId": "50d4cf63-149a-4276-b696-af94d35853ce"
      },
      "outputs": [
        {
          "output_type": "stream",
          "name": "stdout",
          "text": [
            "Given Linked List:\n",
            "85 15 4 20 \n",
            "Reversed Linked List:\n",
            "20 4 15 85 \n"
          ]
        }
      ],
      "source": [
        "class Node:\n",
        "    def __init__(self, data):\n",
        "        self.data = data\n",
        "        self.next = None\n",
        "\n",
        "class LinkedList:\n",
        "    def __init__(self):\n",
        "        self.head = None\n",
        "\n",
        "    def push(self, new_data):\n",
        "        new_node = Node(new_data)\n",
        "        new_node.next = self.head\n",
        "        self.head = new_node\n",
        "\n",
        "    def reverse(self):\n",
        "        prev = None\n",
        "        current = self.head\n",
        "        while current is not None:\n",
        "            next_node = current.next\n",
        "            current.next = prev\n",
        "            prev = current\n",
        "            current = next_node\n",
        "        self.head = prev\n",
        "\n",
        "    def printList(self):\n",
        "        temp = self.head\n",
        "        while temp:\n",
        "            print(temp.data, end=\" \")\n",
        "            temp = temp.next\n",
        "        print()\n",
        "\n",
        "# Example usage:\n",
        "# Create a linked list\n",
        "llist = LinkedList()\n",
        "llist.push(20)\n",
        "llist.push(4)\n",
        "llist.push(15)\n",
        "llist.push(85)\n",
        "\n",
        "print(\"Given Linked List:\")\n",
        "llist.printList()\n",
        "\n",
        "llist.reverse()\n",
        "\n",
        "print(\"Reversed Linked List:\")\n",
        "llist.printList()\n"
      ]
    },
    {
      "cell_type": "code",
      "source": [
        "def largest_prime_factor(n):\n",
        "    max_prime = -1\n",
        "\n",
        "    while n % 2 == 0:\n",
        "        max_prime = 2\n",
        "        n //= 2\n",
        "\n",
        "    for i in range(3, int(n**0.5) + 1, 2):\n",
        "        while n % i == 0:\n",
        "            max_prime = i\n",
        "            n //= i\n",
        "\n",
        "    if n > 2:\n",
        "        max_prime = n\n",
        "\n",
        "    return max_prime\n",
        "\n",
        "# Example usage:\n",
        "number = int(input(\"Enter a number: \"))\n",
        "result = largest_prime_factor(number)\n",
        "print(\"The largest prime factor of\", number, \"is:\", result)\n"
      ],
      "metadata": {
        "colab": {
          "base_uri": "https://localhost:8080/"
        },
        "id": "hjHgulsQnVl3",
        "outputId": "541fbb6c-54ae-4627-d62f-8193609d13d0"
      },
      "execution_count": 2,
      "outputs": [
        {
          "output_type": "stream",
          "name": "stdout",
          "text": [
            "Enter a number: 10\n",
            "The largest prime factor of 10 is: 5\n"
          ]
        }
      ]
    },
    {
      "cell_type": "code",
      "source": [
        "def sum_of_odd_factors(n):\n",
        "    odd_factors_sum = 0\n",
        "\n",
        "    for i in range(1, int(n**0.5) + 1):\n",
        "        if n % i == 0:\n",
        "            if i % 2 != 0:\n",
        "                odd_factors_sum += i\n",
        "            if i != n // i and (n // i) % 2 != 0:\n",
        "                odd_factors_sum += n // i\n",
        "\n",
        "    return odd_factors_sum\n",
        "\n",
        "# Example usage:\n",
        "number = int(input(\"Enter a number: \"))\n",
        "result = sum_of_odd_factors(number)\n",
        "print(\"The sum of odd factors of\", number, \"is:\", result)\n"
      ],
      "metadata": {
        "colab": {
          "base_uri": "https://localhost:8080/"
        },
        "id": "x0Wak_obnvEf",
        "outputId": "69685819-c80a-4013-c017-d72ef93d4f2b"
      },
      "execution_count": 3,
      "outputs": [
        {
          "output_type": "stream",
          "name": "stdout",
          "text": [
            "Enter a number: 45\n",
            "The sum of odd factors of 45 is: 78\n"
          ]
        }
      ]
    },
    {
      "cell_type": "code",
      "source": [
        "def count_ways(coins, m, amount):\n",
        "    dp = [0] * (amount + 1)\n",
        "\n",
        "    # Base case: there is 1 way to make change for amount 0\n",
        "    dp[0] = 1\n",
        "\n",
        "    # Iterate over all coins and update dp[] values\n",
        "    for coin in coins:\n",
        "        for j in range(coin, amount + 1):\n",
        "            dp[j] += dp[j - coin]\n",
        "\n",
        "    return dp[amount]\n",
        "\n",
        "# Example usage:\n",
        "coins = [1, 2, 5]\n",
        "amount = 12\n",
        "ways = count_ways(coins, len(coins), amount)\n",
        "print(\"Number of ways to make change for\", amount, \"is:\", ways)\n"
      ],
      "metadata": {
        "colab": {
          "base_uri": "https://localhost:8080/"
        },
        "id": "vEl1UHggoKfa",
        "outputId": "242f1fa8-8f0c-4dd3-9f8f-88cc3d47233f"
      },
      "execution_count": 4,
      "outputs": [
        {
          "output_type": "stream",
          "name": "stdout",
          "text": [
            "Number of ways to make change for 12 is: 13\n"
          ]
        }
      ]
    }
  ]
}