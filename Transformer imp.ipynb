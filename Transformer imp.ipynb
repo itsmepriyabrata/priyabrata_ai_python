{
  "nbformat": 4,
  "nbformat_minor": 0,
  "metadata": {
    "colab": {
      "provenance": [],
      "authorship_tag": "ABX9TyMia6TCa/w9s+EfoBoSCTEv",
      "include_colab_link": true
    },
    "kernelspec": {
      "name": "python3",
      "display_name": "Python 3"
    },
    "language_info": {
      "name": "python"
    }
  },
  "cells": [
    {
      "cell_type": "markdown",
      "metadata": {
        "id": "view-in-github",
        "colab_type": "text"
      },
      "source": [
        "<a href=\"https://colab.research.google.com/github/itsmepriyabrata/priyabrata_ai_python/blob/main/Transformer%20imp.ipynb\" target=\"_parent\"><img src=\"https://colab.research.google.com/assets/colab-badge.svg\" alt=\"Open In Colab\"/></a>"
      ]
    },
    {
      "cell_type": "markdown",
      "source": [
        "The transformer model uses positional encoding to incorporate the order of the sequence. We'll implement a simple version of it.\n"
      ],
      "metadata": {
        "id": "CDryUwCPkUfT"
      }
    },
    {
      "cell_type": "code",
      "source": [
        "import torch\n",
        "import torch.nn as nn\n",
        "import torch.nn.functional as F\n",
        "import math\n",
        "\n",
        "class PositionalEncoding(nn.Module):\n",
        "    def __init__(self, d_model, max_len=5000):\n",
        "        super(PositionalEncoding, self).__init__()\n",
        "        self.encoding = torch.zeros(max_len, d_model)\n",
        "        position = torch.arange(0, max_len).unsqueeze(1).float()\n",
        "        div_term = torch.exp(torch.arange(0, d_model, 2).float() * -(math.log(10000.0) / d_model))\n",
        "        self.encoding[:, 0::2] = torch.sin(position * div_term)\n",
        "        self.encoding[:, 1::2] = torch.cos(position * div_term)\n",
        "        self.encoding = self.encoding.unsqueeze(0)\n",
        "\n",
        "    def forward(self, x):\n",
        "        x = x + self.encoding[:, :x.size(1), :].to(x.device)\n",
        "        return x\n",
        "\n",
        "# Example usage\n",
        "d_model = 4\n",
        "pos_encoder = PositionalEncoding(d_model)\n",
        "input_seq = torch.tensor([[[1.0, 0.0, 1.0, 0.0], [0.0, 2.0, 0.0, 1.0]]])  # Added batch dimension\n",
        "pos_encoded_input = pos_encoder(input_seq)\n",
        "print(\"Positional Encoded Input:\\n\", pos_encoded_input)\n"
      ],
      "metadata": {
        "colab": {
          "base_uri": "https://localhost:8080/"
        },
        "id": "775_Vm_0ku0g",
        "outputId": "84794e08-7611-45c5-d646-ea9a83b8c9fa"
      },
      "execution_count": 2,
      "outputs": [
        {
          "output_type": "stream",
          "name": "stdout",
          "text": [
            "Positional Encoded Input:\n",
            " tensor([[[1.0000, 1.0000, 1.0000, 1.0000],\n",
            "         [0.8415, 2.5403, 0.0100, 1.9999]]])\n"
          ]
        }
      ]
    },
    {
      "cell_type": "markdown",
      "source": [
        "Multi-head attention allows the model to jointly attend to information from different representation subspaces."
      ],
      "metadata": {
        "id": "b_9oRY9lky0z"
      }
    },
    {
      "cell_type": "code",
      "source": [
        "class MultiHeadAttention(nn.Module):\n",
        "    def __init__(self, d_model, num_heads):\n",
        "        super(MultiHeadAttention, self).__init__()\n",
        "        self.num_heads = num_heads\n",
        "        self.d_k = d_model // num_heads\n",
        "\n",
        "        self.q_linear = nn.Linear(d_model, d_model)\n",
        "        self.k_linear = nn.Linear(d_model, d_model)\n",
        "        self.v_linear = nn.Linear(d_model, d_model)\n",
        "        self.out_linear = nn.Linear(d_model, d_model)\n",
        "\n",
        "    def forward(self, x):\n",
        "        batch_size = x.size(0)\n",
        "\n",
        "        # Perform linear operation and split into num_heads\n",
        "        Q = self.q_linear(x).view(batch_size, -1, self.num_heads, self.d_k).transpose(1, 2)\n",
        "        K = self.k_linear(x).view(batch_size, -1, self.num_heads, self.d_k).transpose(1, 2)\n",
        "        V = self.v_linear(x).view(batch_size, -1, self.num_heads, self.d_k).transpose(1, 2)\n",
        "\n",
        "        # Compute attention scores\n",
        "        scores = torch.matmul(Q, K.transpose(-2, -1)) / math.sqrt(self.d_k)\n",
        "        attention_weights = F.softmax(scores, dim=-1)\n",
        "\n",
        "        # Compute the attention output\n",
        "        attention_output = torch.matmul(attention_weights, V)\n",
        "        attention_output = attention_output.transpose(1, 2).contiguous().view(batch_size, -1, self.num_heads * self.d_k)\n",
        "\n",
        "        return self.out_linear(attention_output)\n",
        "\n",
        "# Example usage\n",
        "num_heads = 2\n",
        "multi_head_attention = MultiHeadAttention(d_model, num_heads)\n",
        "multi_head_output = multi_head_attention(pos_encoded_input.unsqueeze(0))\n",
        "print(\"Multi-Head Attention Output:\\n\", multi_head_output)\n"
      ],
      "metadata": {
        "colab": {
          "base_uri": "https://localhost:8080/"
        },
        "id": "mGg4jydDkyet",
        "outputId": "bb842521-a7fc-448c-b4e7-77dbd0c010ed"
      },
      "execution_count": 3,
      "outputs": [
        {
          "output_type": "stream",
          "name": "stdout",
          "text": [
            "Multi-Head Attention Output:\n",
            " tensor([[[ 0.3992,  0.3363,  0.0131, -0.1204],\n",
            "         [ 0.3962,  0.2500, -0.0358, -0.1234]]], grad_fn=<ViewBackward0>)\n"
          ]
        }
      ]
    },
    {
      "cell_type": "markdown",
      "source": [
        "Here's how you can integrate positional encoding and multi-head self-attention in a transformer block\n",
        "\n"
      ],
      "metadata": {
        "id": "nIBGbP7ZlL0f"
      }
    },
    {
      "cell_type": "code",
      "source": [
        "class TransformerBlock(nn.Module):\n",
        "    def __init__(self, d_model, num_heads):\n",
        "        super(TransformerBlock, self).__init__()\n",
        "        self.attention = MultiHeadAttention(d_model, num_heads)\n",
        "        self.norm1 = nn.LayerNorm(d_model)\n",
        "        self.norm2 = nn.LayerNorm(d_model)\n",
        "        self.ffn = nn.Sequential(\n",
        "            nn.Linear(d_model, d_model * 4),\n",
        "            nn.ReLU(),\n",
        "            nn.Linear(d_model * 4, d_model)\n",
        "        )\n",
        "\n",
        "    def forward(self, x):\n",
        "        # Apply multi-head attention\n",
        "        attention_output = self.attention(x)\n",
        "        x = self.norm1(x + attention_output)\n",
        "\n",
        "        # Apply feed-forward network\n",
        "        ffn_output = self.ffn(x)\n",
        "        x = self.norm2(x + ffn_output)\n",
        "\n",
        "        return x\n",
        "\n",
        "# Example usage\n",
        "transformer_block = TransformerBlock(d_model, num_heads)\n",
        "transformer_output = transformer_block(pos_encoded_input.unsqueeze(0))\n",
        "print(\"Transformer Block Output:\\n\", transformer_output)\n"
      ],
      "metadata": {
        "colab": {
          "base_uri": "https://localhost:8080/"
        },
        "id": "LaJr3qKMlTxS",
        "outputId": "b99b9e2c-45ad-4dc7-fa13-522ca3f3f1c2"
      },
      "execution_count": 4,
      "outputs": [
        {
          "output_type": "stream",
          "name": "stdout",
          "text": [
            "Transformer Block Output:\n",
            " tensor([[[[-0.0039,  1.1578, -1.5754,  0.4214],\n",
            "          [-0.2514,  1.0388, -1.5223,  0.7349]]]],\n",
            "       grad_fn=<NativeLayerNormBackward0>)\n"
          ]
        }
      ]
    },
    {
      "cell_type": "markdown",
      "source": [
        "Here's a basic transformer encoder model that combines the above components.\n",
        "\n"
      ],
      "metadata": {
        "id": "ZJbADGUqljcc"
      }
    },
    {
      "cell_type": "code",
      "source": [
        "class TransformerEncoder(nn.Module):\n",
        "    def __init__(self, d_model, num_heads, num_layers, max_len=5000):\n",
        "        super(TransformerEncoder, self).__init__()\n",
        "        self.pos_encoder = PositionalEncoding(d_model, max_len)\n",
        "        self.layers = nn.ModuleList([TransformerBlock(d_model, num_heads) for _ in range(num_layers)])\n",
        "        self.norm = nn.LayerNorm(d_model)\n",
        "\n",
        "    def forward(self, x):\n",
        "        x = self.pos_encoder(x)\n",
        "        for layer in self.layers:\n",
        "            x = layer(x)\n",
        "        return self.norm(x)\n",
        "\n",
        "# Example usage\n",
        "num_layers = 2\n",
        "transformer_encoder = TransformerEncoder(d_model, num_heads, num_layers)\n",
        "encoder_output = transformer_encoder(input_seq.unsqueeze(0))\n",
        "print(\"Transformer Encoder Output:\\n\", encoder_output)\n"
      ],
      "metadata": {
        "colab": {
          "base_uri": "https://localhost:8080/"
        },
        "id": "iTUOTXaBll60",
        "outputId": "42239f91-4040-4427-f843-24ceaf053872"
      },
      "execution_count": 5,
      "outputs": [
        {
          "output_type": "stream",
          "name": "stdout",
          "text": [
            "Transformer Encoder Output:\n",
            " tensor([[[[-0.1246,  1.5678, -1.2140, -0.2293],\n",
            "          [-0.8749,  1.4999, -0.9408,  0.3158]]]],\n",
            "       grad_fn=<NativeLayerNormBackward0>)\n"
          ]
        }
      ]
    }
  ]
}