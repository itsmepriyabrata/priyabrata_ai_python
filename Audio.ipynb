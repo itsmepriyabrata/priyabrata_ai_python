{
  "nbformat": 4,
  "nbformat_minor": 0,
  "metadata": {
    "colab": {
      "provenance": [],
      "mount_file_id": "1TdjtXMWamReN6IpRGnxNfQflR7l9jDam",
      "authorship_tag": "ABX9TyOZArduPEnfYOdzu9DwJy4x",
      "include_colab_link": true
    },
    "kernelspec": {
      "name": "python3",
      "display_name": "Python 3"
    },
    "language_info": {
      "name": "python"
    }
  },
  "cells": [
    {
      "cell_type": "markdown",
      "metadata": {
        "id": "view-in-github",
        "colab_type": "text"
      },
      "source": [
        "<a href=\"https://colab.research.google.com/github/itsmepriyabrata/priyabrata_ai_python/blob/main/Audio.ipynb\" target=\"_parent\"><img src=\"https://colab.research.google.com/assets/colab-badge.svg\" alt=\"Open In Colab\"/></a>"
      ]
    },
    {
      "cell_type": "code",
      "execution_count": 3,
      "metadata": {
        "colab": {
          "base_uri": "https://localhost:8080/"
        },
        "id": "VD1NHDZ8Sizq",
        "outputId": "501056c0-4d9a-489c-984d-3a72f3272676"
      },
      "outputs": [
        {
          "output_type": "stream",
          "name": "stdout",
          "text": [
            "Requirement already satisfied: SpeechRecognition in /usr/local/lib/python3.10/dist-packages (3.12.0)\n",
            "Requirement already satisfied: typing-extensions in /usr/local/lib/python3.10/dist-packages (from SpeechRecognition) (4.12.2)\n",
            "Collecting pyttsx3\n",
            "  Downloading pyttsx3-2.98-py3-none-any.whl.metadata (3.8 kB)\n",
            "Downloading pyttsx3-2.98-py3-none-any.whl (34 kB)\n",
            "Installing collected packages: pyttsx3\n",
            "Successfully installed pyttsx3-2.98\n",
            "Requirement already satisfied: numpy in /usr/local/lib/python3.10/dist-packages (1.26.4)\n",
            "Requirement already satisfied: scipy in /usr/local/lib/python3.10/dist-packages (1.13.1)\n",
            "Requirement already satisfied: numpy<2.3,>=1.22.4 in /usr/local/lib/python3.10/dist-packages (from scipy) (1.26.4)\n"
          ]
        }
      ],
      "source": [
        "!pip install SpeechRecognition\n",
        "!pip install pyttsx3\n",
        "!pip install numpy\n",
        "!pip install scipy\n"
      ]
    },
    {
      "cell_type": "code",
      "source": [
        "pip install gtts\n"
      ],
      "metadata": {
        "colab": {
          "base_uri": "https://localhost:8080/"
        },
        "id": "fJgRKOyFV2ke",
        "outputId": "9f9410fb-ed70-4f62-82fe-51f08b242499"
      },
      "execution_count": 5,
      "outputs": [
        {
          "output_type": "stream",
          "name": "stdout",
          "text": [
            "Collecting gtts\n",
            "  Downloading gTTS-2.5.4-py3-none-any.whl.metadata (4.1 kB)\n",
            "Requirement already satisfied: requests<3,>=2.27 in /usr/local/lib/python3.10/dist-packages (from gtts) (2.32.3)\n",
            "Requirement already satisfied: click<8.2,>=7.1 in /usr/local/lib/python3.10/dist-packages (from gtts) (8.1.7)\n",
            "Requirement already satisfied: charset-normalizer<4,>=2 in /usr/local/lib/python3.10/dist-packages (from requests<3,>=2.27->gtts) (3.4.0)\n",
            "Requirement already satisfied: idna<4,>=2.5 in /usr/local/lib/python3.10/dist-packages (from requests<3,>=2.27->gtts) (3.10)\n",
            "Requirement already satisfied: urllib3<3,>=1.21.1 in /usr/local/lib/python3.10/dist-packages (from requests<3,>=2.27->gtts) (2.2.3)\n",
            "Requirement already satisfied: certifi>=2017.4.17 in /usr/local/lib/python3.10/dist-packages (from requests<3,>=2.27->gtts) (2024.8.30)\n",
            "Downloading gTTS-2.5.4-py3-none-any.whl (29 kB)\n",
            "Installing collected packages: gtts\n",
            "Successfully installed gtts-2.5.4\n"
          ]
        }
      ]
    },
    {
      "cell_type": "code",
      "source": [
        "import speech_recognition as sr\n",
        "from gtts import gTTS\n",
        "import numpy as np\n",
        "import wave\n",
        "import os\n",
        "\n",
        "# Paths for reference and live audio\n",
        "reference_audio_path = \"/content/drive/MyDrive/archive/Audio.wav\"\n",
        "live_audio_path = \"live_input.wav\"\n",
        "\n",
        "def respond(message):\n",
        "    \"\"\"Converts text to speech.\"\"\"\n",
        "    tts = gTTS(text=message, lang='en')\n",
        "    tts.save(\"response.mp3\")\n",
        "    os.system(\"mpg321 response.mp3\")  # Use 'afplay' on macOS or 'play' on Linux\n",
        "\n",
        "def record_audio(file_path):\n",
        "    \"\"\"Records audio and saves to a file.\"\"\"\n",
        "    import sounddevice as sd\n",
        "    from scipy.io.wavfile import write\n",
        "\n",
        "    print(\"Recording... Please speak now.\")\n",
        "    fs = 44100  # Sample rate\n",
        "    duration = 5  # Duration in seconds\n",
        "    audio = sd.rec(int(duration * fs), samplerate=fs, channels=1)\n",
        "    sd.wait()  # Wait until recording is finished\n",
        "    write(file_path, fs, audio)\n",
        "    print(f\"Audio recorded and saved to {file_path}\")\n",
        "\n",
        "def compare_audio(file1, file2):\n",
        "    \"\"\"Compares two audio files for similarity.\"\"\"\n",
        "    with wave.open(file1, 'rb') as wav1, wave.open(file2, 'rb') as wav2:\n",
        "        if wav1.getnframes() != wav2.getnframes():\n",
        "            return False\n",
        "\n",
        "        frames1 = np.frombuffer(wav1.readframes(wav1.getnframes()), dtype=np.int16)\n",
        "        frames2 = np.frombuffer(wav2.readframes(wav2.getnframes()), dtype=np.int16)\n",
        "\n",
        "        # Simple comparison (you can use advanced methods like embeddings for accuracy)\n",
        "        similarity = np.correlate(frames1, frames2)\n",
        "        return similarity[0] > 0.8 * np.max(similarity)\n",
        "\n",
        "def main():\n",
        "    # Check if reference audio exists\n",
        "    if not os.path.exists(reference_audio_path):\n",
        "        print(\"Recording reference audio for Priyabrata.\")\n",
        "        record_audio(reference_audio_path)\n",
        "        print(\"Reference audio recorded. Run the script again to test.\")\n",
        "        return\n",
        "\n",
        "    try:\n",
        "        print(\"Listening for your voice...\")\n",
        "        record_audio(live_audio_path)\n",
        "\n",
        "        print(\"Comparing voice with the reference...\")\n",
        "        if compare_audio(reference_audio_path, live_audio_path):\n",
        "            response = \"Hello Priyabrata, how are you?\"\n",
        "        else:\n",
        "            response = \"No, you are not Priyabrata. I can't recognize you as Priyabrata.\"\n",
        "\n",
        "        print(response)\n",
        "        respond(response)\n",
        "\n",
        "    except Exception as e:\n",
        "        print(f\"An error occurred: {e}\")\n",
        "        respond(\"An unexpected error occurred.\")\n",
        "\n",
        "if __name__ == \"__main__\":\n",
        "    main()"
      ],
      "metadata": {
        "colab": {
          "base_uri": "https://localhost:8080/"
        },
        "id": "W77KM3b0dSCN",
        "outputId": "b225ba75-2cf5-4e6e-9ef6-f4a2d45539c8"
      },
      "execution_count": 7,
      "outputs": [
        {
          "output_type": "stream",
          "name": "stdout",
          "text": [
            "Listening for your voice...\n",
            "An error occurred: No module named 'sounddevice'\n"
          ]
        }
      ]
    }
  ]
}