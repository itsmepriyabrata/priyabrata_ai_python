{
  "nbformat": 4,
  "nbformat_minor": 0,
  "metadata": {
    "colab": {
      "provenance": [],
      "authorship_tag": "ABX9TyOo/9xrnoDDc4n44smc+t7N",
      "include_colab_link": true
    },
    "kernelspec": {
      "name": "python3",
      "display_name": "Python 3"
    },
    "language_info": {
      "name": "python"
    }
  },
  "cells": [
    {
      "cell_type": "markdown",
      "metadata": {
        "id": "view-in-github",
        "colab_type": "text"
      },
      "source": [
        "<a href=\"https://colab.research.google.com/github/itsmepriyabrata/priyabrata_ai_python/blob/main/day7.ipynb\" target=\"_parent\"><img src=\"https://colab.research.google.com/assets/colab-badge.svg\" alt=\"Open In Colab\"/></a>"
      ]
    },
    {
      "cell_type": "code",
      "execution_count": 1,
      "metadata": {
        "colab": {
          "base_uri": "https://localhost:8080/"
        },
        "id": "62AC2Uvbsr4K",
        "outputId": "ec4a2475-f391-4325-e474-8afb7eb890be"
      },
      "outputs": [
        {
          "output_type": "stream",
          "name": "stdout",
          "text": [
            "Three random integers between 100 and 999 that are divisible by 5: [830, 535, 765]\n"
          ]
        }
      ],
      "source": [
        "import random\n",
        "\n",
        "def generate_random_integers(divisible_by, lower_limit, upper_limit, count):\n",
        "    result = []\n",
        "    while len(result) < count:\n",
        "        num = random.randint(lower_limit, upper_limit)\n",
        "        if num % divisible_by == 0:\n",
        "            result.append(num)\n",
        "    return result\n",
        "\n",
        "random_integers = generate_random_integers(5, 100, 999, 3)\n",
        "print(\"Three random integers between 100 and 999 that are divisible by 5:\", random_integers)\n"
      ]
    },
    {
      "cell_type": "code",
      "source": [
        "import random\n",
        "\n",
        "def generate_lottery_ticket():\n",
        "    return random.randint(100000, 999999)\n",
        "\n",
        "def pick_lucky_tickets(num_tickets, num_winners):\n",
        "    lottery_tickets = [generate_lottery_ticket() for _ in range(num_tickets)]\n",
        "    lucky_winners = random.sample(lottery_tickets, num_winners)\n",
        "    return lucky_winners\n",
        "\n",
        "# Generate 100 random lottery tickets and pick two lucky winners\n",
        "lottery_winners = pick_lucky_tickets(100, 2)\n",
        "\n",
        "print(\"The lucky winners are:\")\n",
        "for i, winner in enumerate(lottery_winners, 1):\n",
        "    print(f\"Winner {i}: {winner}\")\n"
      ],
      "metadata": {
        "colab": {
          "base_uri": "https://localhost:8080/"
        },
        "id": "LPYBF6TTtILK",
        "outputId": "0d83abea-1007-44c3-8532-9fb0eff01af0"
      },
      "execution_count": 2,
      "outputs": [
        {
          "output_type": "stream",
          "name": "stdout",
          "text": [
            "The lucky winners are:\n",
            "Winner 1: 957658\n",
            "Winner 2: 685208\n"
          ]
        }
      ]
    },
    {
      "cell_type": "code",
      "source": [
        "import secrets\n",
        "\n",
        "def generate_otp():\n",
        "    return str(secrets.randbelow(10**6)).zfill(6)\n",
        "\n",
        "otp = generate_otp()\n",
        "print(\"Generated OTP:\", otp)\n"
      ],
      "metadata": {
        "colab": {
          "base_uri": "https://localhost:8080/"
        },
        "id": "BY9FQEpstXrG",
        "outputId": "a2a97a96-6621-4acb-cafc-ad94192fa672"
      },
      "execution_count": 3,
      "outputs": [
        {
          "output_type": "stream",
          "name": "stdout",
          "text": [
            "Generated OTP: 934185\n"
          ]
        }
      ]
    },
    {
      "cell_type": "code",
      "source": [
        "import random\n",
        "import string\n",
        "\n",
        "def generate_random_string(length):\n",
        "    return ''.join(random.choices(string.ascii_letters + string.digits, k=length))\n",
        "\n",
        "random_string = generate_random_string(5)\n",
        "print(\"Randomly generated string of length 5:\", random_string)\n"
      ],
      "metadata": {
        "colab": {
          "base_uri": "https://localhost:8080/"
        },
        "id": "Euyt6uVjuIk-",
        "outputId": "b78d364a-7a15-4e4e-fbfa-00ffd7419eb2"
      },
      "execution_count": 5,
      "outputs": [
        {
          "output_type": "stream",
          "name": "stdout",
          "text": [
            "Randomly generated string of length 5: t808h\n"
          ]
        }
      ]
    },
    {
      "cell_type": "code",
      "source": [
        "import random\n",
        "import string\n",
        "\n",
        "def generate_random_password(length=12):\n",
        "    lowercase_letters = string.ascii_lowercase\n",
        "    uppercase_letters = string.ascii_uppercase\n",
        "    digits = string.digits\n",
        "    special_characters = string.punctuation\n",
        "\n",
        "    password_characters = []\n",
        "    password_characters.extend(random.choice(lowercase_letters))\n",
        "    password_characters.extend(random.choice(uppercase_letters))\n",
        "    password_characters.extend(random.choice(digits))\n",
        "    password_characters.extend(random.choice(special_characters))\n",
        "\n",
        "    password_characters.extend(random.choices(lowercase_letters + uppercase_letters + digits + special_characters, k=length - 4))\n",
        "\n",
        "    random.shuffle(password_characters)\n",
        "\n",
        "    # Convert the list of characters to a string\n",
        "    password = ''.join(password_characters)\n",
        "    return password\n",
        "\n",
        "random_password = generate_random_password()\n",
        "print(\"Randomly generated password:\", random_password)\n"
      ],
      "metadata": {
        "colab": {
          "base_uri": "https://localhost:8080/"
        },
        "id": "crQyKR9LuWis",
        "outputId": "939d30d0-e7cc-4ea3-8a0f-89d7d7fe9805"
      },
      "execution_count": 6,
      "outputs": [
        {
          "output_type": "stream",
          "name": "stdout",
          "text": [
            "Randomly generated password: ?e;d^wH9W3.h\n"
          ]
        }
      ]
    },
    {
      "cell_type": "code",
      "source": [
        "import random\n",
        "\n",
        "def multiply_random_floats():\n",
        "    # Generate two random float numbers between 0 and 1\n",
        "    num1 = random.random()\n",
        "    num2 = random.random()\n",
        "\n",
        "    # Calculate the multiplication\n",
        "    result = num1 * num2\n",
        "    return result\n",
        "\n",
        "multiplication_result = multiply_random_floats()\n",
        "print(\"Multiplication of two random float numbers:\", multiplication_result)\n"
      ],
      "metadata": {
        "colab": {
          "base_uri": "https://localhost:8080/"
        },
        "id": "SD5Btncmuhcp",
        "outputId": "53db485c-bc99-4558-c9f3-6c3f7b7940ff"
      },
      "execution_count": 7,
      "outputs": [
        {
          "output_type": "stream",
          "name": "stdout",
          "text": [
            "Multiplication of two random float numbers: 0.04845704377280624\n"
          ]
        }
      ]
    },
    {
      "cell_type": "code",
      "source": [
        "import secrets\n",
        "import random\n",
        "import string\n",
        "\n",
        "def generate_random_token(length):\n",
        "    return secrets.token_bytes(length)\n",
        "\n",
        "def generate_random_url(length):\n",
        "    characters = string.ascii_letters + string.digits + '-_'\n",
        "    return ''.join(random.choice(characters) for _ in range(length))\n",
        "\n",
        "random_token = generate_random_token(64)\n",
        "random_url = generate_random_url(random.randint(10, 20))\n",
        "\n",
        "print(\"Random secure token:\", random_token)\n",
        "print(\"Random URL:\", random_url)\n"
      ],
      "metadata": {
        "colab": {
          "base_uri": "https://localhost:8080/"
        },
        "id": "dvZ6mAOBu690",
        "outputId": "f469d4a7-29ec-4605-fd7e-7de9f9529ce9"
      },
      "execution_count": 8,
      "outputs": [
        {
          "output_type": "stream",
          "name": "stdout",
          "text": [
            "Random secure token: b'\\x19R\\xadf\\xa3\\xc0\\x8f\\x92\\x97\\xaa\\xf0\\xa4\\r\\x1a\\xf46-\\xb1\\xda\\x88\\x18\\xa6\\x88=\\xb4\\xee\\x89\\xa4\\x98\\xaa-\\xca\\xb0\\xecRt\\x9b\\x937@f\\xed\\x8e\\x17\\x89mk\\x86\\xaf\\x7f\\x80\\x05\\xdf\\xa9\\xe5u9J\\xf6\\xe69\\xdd\\x8c0'\n",
            "Random URL: hYZCG6_uQ4p3jr\n"
          ]
        }
      ]
    },
    {
      "cell_type": "code",
      "source": [
        "\n",
        "def roll_same_number(number):\n",
        "    return number\n",
        "\n",
        "desired_number = 5\n",
        "\n",
        "result = roll_same_number(desired_number)\n",
        "\n",
        "print(\"Result of rolling the dice:\", result)\n"
      ],
      "metadata": {
        "colab": {
          "base_uri": "https://localhost:8080/"
        },
        "id": "LUY2fiVyvRmp",
        "outputId": "3217f566-9b57-4617-98ae-6daef7b8469f"
      },
      "execution_count": 9,
      "outputs": [
        {
          "output_type": "stream",
          "name": "stdout",
          "text": [
            "Result of rolling the dice: 5\n"
          ]
        }
      ]
    }
  ]
}