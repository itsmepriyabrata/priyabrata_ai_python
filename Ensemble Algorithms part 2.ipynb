{
  "nbformat": 4,
  "nbformat_minor": 0,
  "metadata": {
    "colab": {
      "provenance": [],
      "mount_file_id": "1ZiSX_Y0L8IGzdRQu8R-mTCiwMnXDnBaL",
      "authorship_tag": "ABX9TyPEpQ1WQbMKWMk8qErRCeI8",
      "include_colab_link": true
    },
    "kernelspec": {
      "name": "python3",
      "display_name": "Python 3"
    },
    "language_info": {
      "name": "python"
    }
  },
  "cells": [
    {
      "cell_type": "markdown",
      "metadata": {
        "id": "view-in-github",
        "colab_type": "text"
      },
      "source": [
        "<a href=\"https://colab.research.google.com/github/itsmepriyabrata/priyabrata_ai_python/blob/main/Ensemble%20Algorithms%20part%202.ipynb\" target=\"_parent\"><img src=\"https://colab.research.google.com/assets/colab-badge.svg\" alt=\"Open In Colab\"/></a>"
      ]
    },
    {
      "cell_type": "markdown",
      "source": [
        "catBoost"
      ],
      "metadata": {
        "id": "DmkMiNcQh94t"
      }
    },
    {
      "cell_type": "code",
      "source": [
        "!pip install catboost\n",
        "\n",
        "import numpy as np\n",
        "import pandas as pd\n",
        "from sklearn.model_selection import train_test_split\n",
        "from sklearn.metrics import mean_squared_error\n",
        "from catboost import CatBoostRegressor, Pool\n",
        "\n",
        "df = pd.read_csv('/content/drive/MyDrive/Data.csv')\n",
        "\n",
        "print(df.columns)\n",
        "\n",
        "X_train, X_test, y_train, y_test = train_test_split(df.drop('Age', axis=1), df['Age'], test_size=0.2, random_state=42)\n",
        "\n",
        "model = CatBoostRegressor(iterations=100, learning_rate=0.1, depth=6, loss_function='RMSE', task_type='GPU')\n",
        "\n",
        "cat_features = ['Country']\n",
        "\n",
        "train_pool = Pool(X_train, y_train, cat_features=cat_features)\n",
        "test_pool = Pool(X_test, y_test, cat_features=cat_features)\n",
        "\n",
        "model.fit(train_pool, eval_set=test_pool, use_best_model=True, verbose=True)\n",
        "\n",
        "y_pred = model.predict(test_pool)\n",
        "\n",
        "mse = mean_squared_error(y_test, y_pred)\n",
        "print(f'MSE: {mse:.3f}')"
      ],
      "metadata": {
        "id": "qhqqjazKh9UE"
      },
      "execution_count": null,
      "outputs": []
    },
    {
      "cell_type": "markdown",
      "source": [
        "Random subspace"
      ],
      "metadata": {
        "id": "4BZcMwXziK-K"
      }
    },
    {
      "cell_type": "code",
      "source": [
        "import numpy as np\n",
        "from sklearn.datasets import make_regression\n",
        "from sklearn.model_selection import train_test_split\n",
        "from sklearn.ensemble import RandomForestRegressor\n",
        "from sklearn.metrics import mean_squared_error\n",
        "\n",
        "X, y = make_regression(n_samples=1000, n_features=20, n_informative=10, random_state=42)\n",
        "\n",
        "X_train, X_test, y_train, y_test = train_test_split(X, y, test_size=0.2, random_state=42)\n",
        "\n",
        "class RandomSubspaceEnsembleRegressor:\n",
        "    def __init__(self, base_estimator=RandomForestRegressor, n_estimators=10, max_features=0.5, random_state=42):\n",
        "        self.base_estimator = base_estimator\n",
        "        self.n_estimators = n_estimators\n",
        "        self.max_features = max_features\n",
        "        self.random_state = random_state\n",
        "        self.estimators_ = []\n",
        "\n",
        "    def fit(self, X, y):\n",
        "        for _ in range(self.n_estimators):\n",
        "            subset_features = np.random.choice(X.shape[1], int(X.shape[1] * self.max_features), replace=False)\n",
        "            X_subset = X[:, subset_features]\n",
        "\n",
        "            estimator = self.base_estimator(random_state=self.random_state)\n",
        "            estimator.fit(X_subset, y)\n",
        "            self.estimators_.append(estimator)\n",
        "\n",
        "    def predict(self, X):\n",
        "        predictions = []\n",
        "        for estimator in self.estimators_:\n",
        "            subset_features = np.random.choice(X.shape[1], int(X.shape[1] * self.max_features), replace=False)\n",
        "            X_subset = X[:, subset_features]\n",
        "            predictions.append(estimator.predict(X_subset))\n",
        "\n",
        "        return np.mean(predictions, axis=0)\n",
        "\n",
        "model = RandomSubspaceEnsembleRegressor(n_estimators=10, max_features=0.5, random_state=42)\n",
        "model.fit(X_train, y_train)\n",
        "\n",
        "y_pred = model.predict(X_test)\n",
        "mse = mean_squared_error(y_test, y_pred)\n",
        "print(f'Mean Squared Error: {mse:.3f}')"
      ],
      "metadata": {
        "colab": {
          "base_uri": "https://localhost:8080/"
        },
        "id": "y-EXZBE9igAU",
        "outputId": "2aee6307-44fc-402a-d5bd-f1cd7e70f70e"
      },
      "execution_count": 11,
      "outputs": [
        {
          "output_type": "stream",
          "name": "stdout",
          "text": [
            "Mean Squared Error: 29241.754\n"
          ]
        }
      ]
    },
    {
      "cell_type": "markdown",
      "source": [
        "Stacking"
      ],
      "metadata": {
        "id": "nbc_tTcxiq23"
      }
    },
    {
      "cell_type": "code",
      "source": [
        "import numpy as np\n",
        "from sklearn.datasets import make_regression\n",
        "from sklearn.model_selection import train_test_split\n",
        "from sklearn.ensemble import StackingRegressor\n",
        "from sklearn.linear_model import LinearRegression\n",
        "from sklearn.neighbors import KNeighborsRegressor\n",
        "from sklearn.tree import DecisionTreeRegressor\n",
        "from sklearn.svm import SVR\n",
        "from sklearn.metrics import mean_squared_error\n",
        "\n",
        "X, y = make_regression(n_samples=1000, n_features=20, n_informative=10, random_state=42)\n",
        "\n",
        "X_train, X_test, y_train, y_test = train_test_split(X, y, test_size=0.2, random_state=42)\n",
        "\n",
        "base_models = [\n",
        "    ('lr', LinearRegression()),\n",
        "    ('knn', KNeighborsRegressor()),\n",
        "    ('cart', DecisionTreeRegressor()),\n",
        "    ('svm', SVR())\n",
        "]\n",
        "\n",
        "meta_model = LinearRegression()\n",
        "\n",
        "model = StackingRegressor(estimators=base_models, final_estimator=meta_model)\n",
        "\n",
        "model.fit(X_train, y_train)\n",
        "\n",
        "y_pred = model.predict(X_test)\n",
        "\n",
        "mse = mean_squared_error(y_test, y_pred)\n",
        "print(f'Mean Squared Error: {mse:.3f}')"
      ],
      "metadata": {
        "colab": {
          "base_uri": "https://localhost:8080/"
        },
        "id": "UldzSt9YizFA",
        "outputId": "3da29a11-3cb3-4806-e750-9e953c51c96b"
      },
      "execution_count": 12,
      "outputs": [
        {
          "output_type": "stream",
          "name": "stdout",
          "text": [
            "Mean Squared Error: 0.000\n"
          ]
        }
      ]
    },
    {
      "cell_type": "markdown",
      "source": [
        "voting clasifier"
      ],
      "metadata": {
        "id": "oSE-vejrjG5K"
      }
    },
    {
      "cell_type": "code",
      "source": [
        "import numpy as np\n",
        "from sklearn.datasets import load_iris\n",
        "from sklearn.model_selection import train_test_split\n",
        "from sklearn.ensemble import VotingClassifier\n",
        "from sklearn.linear_model import LogisticRegression\n",
        "from sklearn.svm import SVC\n",
        "from sklearn.tree import DecisionTreeClassifier\n",
        "from sklearn.metrics import accuracy_score\n",
        "\n",
        "iris = load_iris()\n",
        "X = iris.data[:, :2]\n",
        "y = iris.target\n",
        "\n",
        "X_train, X_test, y_train, y_test = train_test_split(X, y, test_size=0.2, random_state=42)\n",
        "\n",
        "base_models = [\n",
        "    ('lr', LogisticRegression()),\n",
        "    ('svm', SVC(probability=True)),\n",
        "    ('cart', DecisionTreeClassifier())\n",
        "]\n",
        "\n",
        "model = VotingClassifier(estimators=base_models, voting='hard')\n",
        "\n",
        "model.fit(X_train, y_train)\n",
        "\n",
        "y_pred = model.predict(X_test)\n",
        "\n",
        "accuracy = accuracy_score(y_test, y_pred)\n",
        "print(f'Accuracy: {accuracy:.3f}')"
      ],
      "metadata": {
        "colab": {
          "base_uri": "https://localhost:8080/"
        },
        "id": "q_79v7J3jd5p",
        "outputId": "6dda8fbf-ce63-4edf-ada3-a6b724dddba4"
      },
      "execution_count": 14,
      "outputs": [
        {
          "output_type": "stream",
          "name": "stdout",
          "text": [
            "Accuracy: 0.900\n"
          ]
        }
      ]
    }
  ]
}