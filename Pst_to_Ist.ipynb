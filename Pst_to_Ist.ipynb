{
  "nbformat": 4,
  "nbformat_minor": 0,
  "metadata": {
    "colab": {
      "provenance": [],
      "authorship_tag": "ABX9TyMUgnhxQEC8abqklf+CQ4WD",
      "include_colab_link": true
    },
    "kernelspec": {
      "name": "python3",
      "display_name": "Python 3"
    },
    "language_info": {
      "name": "python"
    }
  },
  "cells": [
    {
      "cell_type": "markdown",
      "metadata": {
        "id": "view-in-github",
        "colab_type": "text"
      },
      "source": [
        "<a href=\"https://colab.research.google.com/github/itsmepriyabrata/priyabrata_ai_python/blob/main/Pst_to_Ist.ipynb\" target=\"_parent\"><img src=\"https://colab.research.google.com/assets/colab-badge.svg\" alt=\"Open In Colab\"/></a>"
      ]
    },
    {
      "cell_type": "code",
      "source": [
        "import pytz\n",
        "from datetime import datetime\n",
        "\n",
        "def convert_pst_to_ist(pst_time):\n",
        "    pst_timezone = pytz.timezone('America/Los_Angeles')\n",
        "    ist_timezone = pytz.timezone('Asia/Kolkata')\n",
        "\n",
        "    pst_datetime = datetime.strptime(pst_time, '%Y-%m-%d %I:%M:%S %p')\n",
        "\n",
        "    pst_datetime = pst_timezone.localize(pst_datetime)\n",
        "\n",
        "    ist_datetime = pst_datetime.astimezone(ist_timezone)\n",
        "\n",
        "    return ist_datetime\n",
        "\n",
        "pst_time = '2024-05-13 07:15:00 AM'\n",
        "ist_time = convert_pst_to_ist(pst_time)\n",
        "print(\"Pacific Standard Time (PST):\", pst_time)\n",
        "print(\"Indian Standard Time (IST):\", ist_time.strftime('%Y-%m-%d %I:%M:%S %p'))\n"
      ],
      "metadata": {
        "colab": {
          "base_uri": "https://localhost:8080/"
        },
        "id": "LhDbzj0X_-qg",
        "outputId": "e17517e5-d1a6-4944-bb8b-9b9ae68da96d"
      },
      "execution_count": 3,
      "outputs": [
        {
          "output_type": "stream",
          "name": "stdout",
          "text": [
            "Pacific Standard Time (PST): 2024-05-13 07:15:00 AM\n",
            "Indian Standard Time (IST): 2024-05-13 07:45:00 PM\n"
          ]
        }
      ]
    }
  ]
}