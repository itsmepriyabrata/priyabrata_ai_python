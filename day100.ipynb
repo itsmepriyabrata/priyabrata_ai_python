{
  "nbformat": 4,
  "nbformat_minor": 0,
  "metadata": {
    "colab": {
      "provenance": [],
      "authorship_tag": "ABX9TyNkygMtMx8aCLKjq1jx57O9",
      "include_colab_link": true
    },
    "kernelspec": {
      "name": "python3",
      "display_name": "Python 3"
    },
    "language_info": {
      "name": "python"
    }
  },
  "cells": [
    {
      "cell_type": "markdown",
      "metadata": {
        "id": "view-in-github",
        "colab_type": "text"
      },
      "source": [
        "<a href=\"https://colab.research.google.com/github/itsmepriyabrata/priyabrata_ai_python/blob/main/day100.ipynb\" target=\"_parent\"><img src=\"https://colab.research.google.com/assets/colab-badge.svg\" alt=\"Open In Colab\"/></a>"
      ]
    },
    {
      "cell_type": "code",
      "execution_count": 1,
      "metadata": {
        "colab": {
          "base_uri": "https://localhost:8080/"
        },
        "id": "MnpoW44OWYpV",
        "outputId": "51671f6a-dbbd-471d-df02-0ee05cca981a"
      },
      "outputs": [
        {
          "output_type": "stream",
          "name": "stdout",
          "text": [
            "Object 1\n",
            "Object 2\n",
            "Object 3\n"
          ]
        }
      ],
      "source": [
        "class MyClass:\n",
        "    def __init__(self, name):\n",
        "        self.name = name\n",
        "\n",
        "class_objects = []\n",
        "\n",
        "class_objects.append(MyClass(\"Object 1\"))\n",
        "class_objects.append(MyClass(\"Object 2\"))\n",
        "class_objects.append(MyClass(\"Object 3\"))\n",
        "\n",
        "for obj in class_objects:\n",
        "    print(obj.name)\n"
      ]
    },
    {
      "cell_type": "code",
      "source": [
        "class Student:\n",
        "    def __init__(self, name, roll_number, age):\n",
        "        self.name = name\n",
        "        self.roll_number = roll_number\n",
        "        self.age = age\n",
        "\n",
        "class StudentManagementSystem:\n",
        "    def __init__(self):\n",
        "        self.students = []\n",
        "\n",
        "    def add_student(self, name, roll_number, age):\n",
        "        student = Student(name, roll_number, age)\n",
        "        self.students.append(student)\n",
        "        print(f\"Student {name} added successfully.\")\n",
        "\n",
        "    def display_all_students(self):\n",
        "        print(\"List of all students:\")\n",
        "        for student in self.students:\n",
        "            print(f\"Name: {student.name}, Roll Number: {student.roll_number}, Age: {student.age}\")\n",
        "\n",
        "    def search_student(self, name):\n",
        "        for student in self.students:\n",
        "            if student.name == name:\n",
        "                print(f\"Student {name} found. Roll Number: {student.roll_number}, Age: {student.age}\")\n",
        "                return\n",
        "        print(f\"Student {name} not found.\")\n",
        "\n",
        "# Usage example\n",
        "if __name__ == \"__main__\":\n",
        "    sms = StudentManagementSystem()\n",
        "\n",
        "    sms.add_student(\"John Doe\", 101, 20)\n",
        "    sms.add_student(\"Jane Smith\", 102, 21)\n",
        "    sms.add_student(\"Alice Johnson\", 103, 22)\n",
        "\n",
        "    sms.display_all_students()\n",
        "\n",
        "    sms.search_student(\"Jane Smith\")\n",
        "    sms.search_student(\"Bob Brown\")\n"
      ],
      "metadata": {
        "colab": {
          "base_uri": "https://localhost:8080/"
        },
        "id": "iIPPmP-_aorX",
        "outputId": "ea3b67ba-d760-4b3a-9c13-2d0112e905d1"
      },
      "execution_count": 2,
      "outputs": [
        {
          "output_type": "stream",
          "name": "stdout",
          "text": [
            "Student John Doe added successfully.\n",
            "Student Jane Smith added successfully.\n",
            "Student Alice Johnson added successfully.\n",
            "List of all students:\n",
            "Name: John Doe, Roll Number: 101, Age: 20\n",
            "Name: Jane Smith, Roll Number: 102, Age: 21\n",
            "Name: Alice Johnson, Roll Number: 103, Age: 22\n",
            "Student Jane Smith found. Roll Number: 102, Age: 21\n",
            "Student Bob Brown not found.\n"
          ]
        }
      ]
    },
    {
      "cell_type": "code",
      "source": [
        "class DictToClass:\n",
        "    def __init__(self, dictionary):\n",
        "        for key, value in dictionary.items():\n",
        "            setattr(self, key, value)\n",
        "\n",
        "student_dict = {'name': 'John', 'age': 25, 'grade': 'A'}\n",
        "\n",
        "student = DictToClass(student_dict)\n",
        "\n",
        "print(student.name)   # Output: John\n",
        "print(student.age)    # Output: 25\n",
        "print(student.grade)  # Output: A\n"
      ],
      "metadata": {
        "colab": {
          "base_uri": "https://localhost:8080/"
        },
        "id": "MBeko-fRa-Nt",
        "outputId": "cd3b356f-203f-4c89-ed17-3a8c641073ba"
      },
      "execution_count": 3,
      "outputs": [
        {
          "output_type": "stream",
          "name": "stdout",
          "text": [
            "John\n",
            "25\n",
            "A\n"
          ]
        }
      ]
    },
    {
      "cell_type": "code",
      "source": [
        "class RabinKarp:\n",
        "    def __init__(self, text, pattern):\n",
        "        self.text = text\n",
        "        self.pattern = pattern\n",
        "        self.prime = 101  # A prime number for hashing\n",
        "        self.d = 256  # Number of characters in the input alphabet\n",
        "\n",
        "    def search(self):\n",
        "        pattern_len = len(self.pattern)\n",
        "        text_len = len(self.text)\n",
        "        pattern_hash = 0  # Hash value for pattern\n",
        "        text_hash = 0  # Hash value for text\n",
        "        h = 1\n",
        "\n",
        "        for i in range(pattern_len - 1):\n",
        "            h = (h * self.d) % self.prime\n",
        "\n",
        "        for i in range(pattern_len):\n",
        "            pattern_hash = (self.d * pattern_hash + ord(self.pattern[i])) % self.prime\n",
        "            text_hash = (self.d * text_hash + ord(self.text[i])) % self.prime\n",
        "\n",
        "        for i in range(text_len - pattern_len + 1):\n",
        "            if pattern_hash == text_hash:\n",
        "                match = True\n",
        "                for j in range(pattern_len):\n",
        "                    if self.text[i + j] != self.pattern[j]:\n",
        "                        match = False\n",
        "                        break\n",
        "                if match:\n",
        "                    print(\"Pattern found at index:\", i)\n",
        "\n",
        "            if i < text_len - pattern_len:\n",
        "                text_hash = (self.d * (text_hash - ord(self.text[i]) * h) + ord(self.text[i + pattern_len])) % self.prime\n",
        "\n",
        "                if text_hash < 0:\n",
        "                    text_hash = text_hash + self.prime\n",
        "\n",
        "# Example usage\n",
        "if __name__ == \"__main__\":\n",
        "    text = \"AABAACAADAABAABA\"\n",
        "    pattern = \"AABA\"\n",
        "    rk = RabinKarp(text, pattern)\n",
        "    rk.search()\n"
      ],
      "metadata": {
        "colab": {
          "base_uri": "https://localhost:8080/"
        },
        "id": "GsUdaqNbb4GB",
        "outputId": "fc585c75-abb4-4d2d-bc56-a4a252534931"
      },
      "execution_count": 4,
      "outputs": [
        {
          "output_type": "stream",
          "name": "stdout",
          "text": [
            "Pattern found at index: 0\n",
            "Pattern found at index: 9\n",
            "Pattern found at index: 12\n"
          ]
        }
      ]
    }
  ]
}