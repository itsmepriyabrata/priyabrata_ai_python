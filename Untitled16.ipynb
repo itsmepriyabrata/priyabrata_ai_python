{
  "nbformat": 4,
  "nbformat_minor": 0,
  "metadata": {
    "colab": {
      "provenance": [],
      "authorship_tag": "ABX9TyNx0qDduakjUgp6Suz8TdPp",
      "include_colab_link": true
    },
    "kernelspec": {
      "name": "python3",
      "display_name": "Python 3"
    },
    "language_info": {
      "name": "python"
    }
  },
  "cells": [
    {
      "cell_type": "markdown",
      "metadata": {
        "id": "view-in-github",
        "colab_type": "text"
      },
      "source": [
        "<a href=\"https://colab.research.google.com/github/itsmepriyabrata/priyabrata_ai_python/blob/main/Untitled16.ipynb\" target=\"_parent\"><img src=\"https://colab.research.google.com/assets/colab-badge.svg\" alt=\"Open In Colab\"/></a>"
      ]
    },
    {
      "cell_type": "code",
      "execution_count": 1,
      "metadata": {
        "colab": {
          "base_uri": "https://localhost:8080/"
        },
        "id": "zByrxQJEFJ86",
        "outputId": "4fa8afd2-1db7-403d-a6b4-929f76a59788"
      },
      "outputs": [
        {
          "output_type": "stream",
          "name": "stdout",
          "text": [
            "[3, 7, 2, 6, 10]\n"
          ]
        }
      ],
      "source": [
        "list1 = [1, 3, 5, 7, 9]\n",
        "list2 = [2, 4, 6, 8, 10]\n",
        "\n",
        "result_list = []\n",
        "\n",
        "for i in range(len(list1)):\n",
        "    if i % 2 != 0:  # odd index\n",
        "        result_list.append(list1[i])\n",
        "\n",
        "for i in range(len(list2)):\n",
        "    if i % 2 == 0:  # even index\n",
        "        result_list.append(list2[i])\n",
        "\n",
        "print(result_list)\n"
      ]
    },
    {
      "cell_type": "code",
      "source": [
        "# Sample list\n",
        "my_list = [1, 2, 3, 4, 5]\n",
        "\n",
        "my_list.remove(3)  # Remove the first occurrence of value 3\n",
        "print(\"List after removing item 3:\", my_list)\n",
        "\n",
        "my_list.append(6)  # Add 6 at the end of the list\n",
        "print(\"List after adding item 6:\", my_list)\n",
        "\n",
        "my_list.insert(2, 7)  # Insert 7 at index 2\n",
        "print(\"List after inserting item 7 at index 2:\", my_list)\n"
      ],
      "metadata": {
        "colab": {
          "base_uri": "https://localhost:8080/"
        },
        "id": "H77nJT6OFxek",
        "outputId": "25b5bd65-765d-4ac4-803f-ec81e2663b74"
      },
      "execution_count": 2,
      "outputs": [
        {
          "output_type": "stream",
          "name": "stdout",
          "text": [
            "List after removing item 3: [1, 2, 4, 5]\n",
            "List after adding item 6: [1, 2, 4, 5, 6]\n",
            "List after inserting item 7 at index 2: [1, 2, 7, 4, 5, 6]\n"
          ]
        }
      ]
    },
    {
      "cell_type": "code",
      "source": [
        "# Sample list\n",
        "my_list = [1, 2, 3, 4, 5, 6, 7, 8, 9]\n",
        "\n",
        "chunk_size = len(my_list) // 3\n",
        "\n",
        "chunks = [my_list[i:i+chunk_size][::-1] for i in range(0, len(my_list), chunk_size)]\n",
        "\n",
        "print(\"Original List:\", my_list)\n",
        "print(\"List after slicing into 3 equal chunks and reversing each chunk:\", chunks)\n"
      ],
      "metadata": {
        "colab": {
          "base_uri": "https://localhost:8080/"
        },
        "id": "hJWNbNaBGJ0V",
        "outputId": "ccfbbb8c-4772-423e-f856-5d05a290ed3a"
      },
      "execution_count": 3,
      "outputs": [
        {
          "output_type": "stream",
          "name": "stdout",
          "text": [
            "Original List: [1, 2, 3, 4, 5, 6, 7, 8, 9]\n",
            "List after slicing into 3 equal chunks and reversing each chunk: [[3, 2, 1], [6, 5, 4], [9, 8, 7]]\n"
          ]
        }
      ]
    },
    {
      "cell_type": "code",
      "source": [
        "from collections import Counter\n",
        "\n",
        "my_list = [1, 2, 2, 3, 3, 3, 4, 4, 4, 4]\n",
        "\n",
        "element_count = Counter(my_list)\n",
        "\n",
        "print(\"Element Counts:\")\n",
        "for element, count in element_count.items():\n",
        "    print(f\"{element}: {count}\")\n"
      ],
      "metadata": {
        "colab": {
          "base_uri": "https://localhost:8080/"
        },
        "id": "dt0UkoN5GxpA",
        "outputId": "f125fb81-c570-417c-e2b4-6bd67f16fd8e"
      },
      "execution_count": 4,
      "outputs": [
        {
          "output_type": "stream",
          "name": "stdout",
          "text": [
            "Element Counts:\n",
            "1: 1\n",
            "2: 2\n",
            "3: 3\n",
            "4: 4\n"
          ]
        }
      ]
    },
    {
      "cell_type": "code",
      "source": [
        "list1 = [1, 2, 3]\n",
        "list2 = ['a', 'b', 'c']\n",
        "\n",
        "pairs_set = set(zip(list1, list2))\n",
        "\n",
        "print(\"Set of pairs:\")\n",
        "for pair in pairs_set:\n",
        "    print(pair)\n"
      ],
      "metadata": {
        "colab": {
          "base_uri": "https://localhost:8080/"
        },
        "id": "MSWJR73mHILM",
        "outputId": "cf3a4297-0cb4-4916-95c0-b74cd382a24b"
      },
      "execution_count": 5,
      "outputs": [
        {
          "output_type": "stream",
          "name": "stdout",
          "text": [
            "Set of pairs:\n",
            "(2, 'b')\n",
            "(1, 'a')\n",
            "(3, 'c')\n"
          ]
        }
      ]
    },
    {
      "cell_type": "code",
      "source": [
        "# Sample sets\n",
        "set1 = {1, 2, 3, 4, 5}\n",
        "set2 = {4, 5, 6, 7, 8}\n",
        "\n",
        "intersection = set1.intersection(set2)\n",
        "\n",
        "set1.difference_update(intersection)\n",
        "\n",
        "print(\"Set 1 after removing common elements:\", set1)\n"
      ],
      "metadata": {
        "colab": {
          "base_uri": "https://localhost:8080/"
        },
        "id": "VWeIWmV4HqAr",
        "outputId": "2637ff07-0905-4a17-ad34-bcab601c4356"
      },
      "execution_count": 6,
      "outputs": [
        {
          "output_type": "stream",
          "name": "stdout",
          "text": [
            "Set 1 after removing common elements: {1, 2, 3}\n"
          ]
        }
      ]
    },
    {
      "cell_type": "code",
      "source": [
        "# Sample sets\n",
        "set1 = {1, 2, 3, 4, 5}\n",
        "set2 = {3, 4}\n",
        "\n",
        "if set1.issubset(set2):\n",
        "    set1.clear()\n",
        "    print(\"Set 1 is a subset of Set 2. Set 1 is now empty.\")\n",
        "elif set2.issubset(set1):\n",
        "    set2.clear()\n",
        "    print(\"Set 2 is a subset of Set 1. Set 2 is now empty.\")\n",
        "else:\n",
        "    print(\"Neither set is a subset of the other.\")\n",
        "\n",
        "print(\"Set 1:\", set1)\n",
        "print(\"Set 2:\", set2)\n"
      ],
      "metadata": {
        "colab": {
          "base_uri": "https://localhost:8080/"
        },
        "id": "GrxlEsGNISZx",
        "outputId": "6695ca68-ba4c-4c5d-af08-bbc95ca1dd34"
      },
      "execution_count": 7,
      "outputs": [
        {
          "output_type": "stream",
          "name": "stdout",
          "text": [
            "Set 2 is a subset of Set 1. Set 2 is now empty.\n",
            "Set 1: {1, 2, 3, 4, 5}\n",
            "Set 2: set()\n"
          ]
        }
      ]
    }
  ]
}