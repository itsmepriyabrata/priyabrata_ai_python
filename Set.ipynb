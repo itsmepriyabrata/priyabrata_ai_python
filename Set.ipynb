{
  "nbformat": 4,
  "nbformat_minor": 0,
  "metadata": {
    "colab": {
      "provenance": [],
      "authorship_tag": "ABX9TyOKt5n15654GmdFpyNUenNm",
      "include_colab_link": true
    },
    "kernelspec": {
      "name": "python3",
      "display_name": "Python 3"
    },
    "language_info": {
      "name": "python"
    }
  },
  "cells": [
    {
      "cell_type": "markdown",
      "metadata": {
        "id": "view-in-github",
        "colab_type": "text"
      },
      "source": [
        "<a href=\"https://colab.research.google.com/github/itsmepriyabrata/priyabrata_ai_python/blob/main/Set.ipynb\" target=\"_parent\"><img src=\"https://colab.research.google.com/assets/colab-badge.svg\" alt=\"Open In Colab\"/></a>"
      ]
    },
    {
      "cell_type": "code",
      "execution_count": 1,
      "metadata": {
        "colab": {
          "base_uri": "https://localhost:8080/"
        },
        "id": "qJhfVswfHj0M",
        "outputId": "f0428752-96ab-4718-8d6a-fe47aec07d2b"
      },
      "outputs": [
        {
          "output_type": "stream",
          "name": "stdout",
          "text": [
            "{1, 2, 3, 4, 5}\n"
          ]
        }
      ],
      "source": [
        "def union_of_arrays(*arrays):\n",
        "    union_set = set()\n",
        "    for array in arrays:\n",
        "        union_set.update(array)\n",
        "    return union_set\n",
        "\n",
        "# Example usage:\n",
        "array1 = [1, 2, 3]\n",
        "array2 = [2, 3, 4]\n",
        "array3 = [3, 4, 5]\n",
        "\n",
        "result = union_of_arrays(array1, array2, array3)\n",
        "print(result)  # Output: {1, 2, 3, 4, 5}\n"
      ]
    },
    {
      "cell_type": "code",
      "source": [
        "def find_lost_element(duplicated_array):\n",
        "    unique_elements = set(duplicated_array)\n",
        "\n",
        "    sum_duplicated = sum(duplicated_array)\n",
        "\n",
        "    sum_unique = sum(unique_elements)\n",
        "\n",
        "    lost_element = sum_unique - sum_duplicated\n",
        "\n",
        "    return lost_element\n",
        "\n",
        "# Example usage:\n",
        "duplicated_array = [1, 2, 3, 4, 5, 5, 6, 7, 8, 9, 9]  # Example duplicated array with a lost element\n",
        "lost_element = find_lost_element(duplicated_array)\n",
        "print(\"Lost element:\", lost_element)  # Output: Lost element: 10\n"
      ],
      "metadata": {
        "colab": {
          "base_uri": "https://localhost:8080/"
        },
        "id": "KtNHcYjUIXFl",
        "outputId": "2d847300-452b-4dfa-e838-ffc2d42d9940"
      },
      "execution_count": 2,
      "outputs": [
        {
          "output_type": "stream",
          "name": "stdout",
          "text": [
            "Lost element: -14\n"
          ]
        }
      ]
    },
    {
      "cell_type": "code",
      "source": [
        "def common_elements(*arrays):\n",
        "    common_set = set(arrays[0])\n",
        "\n",
        "    for array in arrays[1:]:\n",
        "        common_set.intersection_update(array)\n",
        "\n",
        "    return common_set\n",
        "\n",
        "# Example usage:\n",
        "array1 = [1, 2, 3, 4, 5]\n",
        "array2 = [2, 3, 4, 5, 6]\n",
        "array3 = [3, 4, 5, 6, 7]\n",
        "\n",
        "common_elements_set = common_elements(array1, array2, array3)\n",
        "print(\"Common elements:\", common_elements_set)\n"
      ],
      "metadata": {
        "colab": {
          "base_uri": "https://localhost:8080/"
        },
        "id": "36a4h3f3I1LM",
        "outputId": "70b28385-3905-4529-d07a-71c5b4c9e6f9"
      },
      "execution_count": 3,
      "outputs": [
        {
          "output_type": "stream",
          "name": "stdout",
          "text": [
            "Common elements: {3, 4, 5}\n"
          ]
        }
      ]
    },
    {
      "cell_type": "code",
      "source": [
        "def add_matrices(matrix1, matrix2):\n",
        "    if len(matrix1) != len(matrix2) or len(matrix1[0]) != len(matrix2[0]):\n",
        "        return \"Matrices must have the same dimensions for addition.\"\n",
        "\n",
        "    result = [[0 for _ in range(len(matrix1[0]))] for _ in range(len(matrix1))]\n",
        "\n",
        "    for i in range(len(matrix1)):\n",
        "        for j in range(len(matrix1[0])):\n",
        "            result[i][j] = matrix1[i][j] + matrix2[i][j]\n",
        "\n",
        "    return result\n",
        "\n",
        "# Example matrices\n",
        "matrix1 = [[1, 2, 3],\n",
        "           [4, 5, 6],\n",
        "           [7, 8, 9]]\n",
        "\n",
        "matrix2 = [[9, 8, 7],\n",
        "           [6, 5, 4],\n",
        "           [3, 2, 1]]\n",
        "\n",
        "# Add the matrices\n",
        "result_matrix = add_matrices(matrix1, matrix2)\n",
        "\n",
        "# Print the result\n",
        "for row in result_matrix:\n",
        "    print(row)\n"
      ],
      "metadata": {
        "colab": {
          "base_uri": "https://localhost:8080/"
        },
        "id": "bdYgzIHFI1Og",
        "outputId": "649f4d64-0082-4841-a49c-79cf8857aedc"
      },
      "execution_count": 4,
      "outputs": [
        {
          "output_type": "stream",
          "name": "stdout",
          "text": [
            "[10, 10, 10]\n",
            "[10, 10, 10]\n",
            "[10, 10, 10]\n"
          ]
        }
      ]
    },
    {
      "cell_type": "code",
      "source": [
        "def find_peaks_troughs(arr):\n",
        "    peaks = []\n",
        "    troughs = []\n",
        "\n",
        "    for i in range(1, len(arr) - 1):\n",
        "        if arr[i - 1] < arr[i] > arr[i + 1]:  # Peak condition\n",
        "            peaks.append(arr[i])\n",
        "        elif arr[i - 1] > arr[i] < arr[i + 1]:  # Trough condition\n",
        "            troughs.append(arr[i])\n",
        "\n",
        "    if arr[0] > arr[1]:\n",
        "        peaks.append(arr[0])\n",
        "    elif arr[0] < arr[1]:\n",
        "        troughs.append(arr[0])\n",
        "\n",
        "    if arr[-1] > arr[-2]:\n",
        "        peaks.append(arr[-1])\n",
        "    elif arr[-1] < arr[-2]:\n",
        "        troughs.append(arr[-1])\n",
        "\n",
        "    return peaks, troughs\n",
        "\n",
        "# Example array\n",
        "array = [1, 3, 2, 4, 1, 5, 2, 6]\n",
        "\n",
        "# Find peaks and troughs\n",
        "peaks, troughs = find_peaks_troughs(array)\n",
        "\n",
        "# Print peaks and troughs\n",
        "print(\"Peaks:\", peaks)\n",
        "print(\"Troughs:\", troughs)\n"
      ],
      "metadata": {
        "colab": {
          "base_uri": "https://localhost:8080/"
        },
        "id": "mhb8RSN4LFn9",
        "outputId": "993437e4-839f-48e0-efb1-e0551e6d936a"
      },
      "execution_count": 5,
      "outputs": [
        {
          "output_type": "stream",
          "name": "stdout",
          "text": [
            "Peaks: [3, 4, 5, 6]\n",
            "Troughs: [2, 1, 2, 1]\n"
          ]
        }
      ]
    },
    {
      "cell_type": "code",
      "source": [
        "def find_peaks_troughs(arr):\n",
        "    peaks = []\n",
        "    troughs = []\n",
        "\n",
        "    # Check the first element\n",
        "    if len(arr) > 1 and arr[0] != arr[1]:\n",
        "        if arr[0] > arr[1]:\n",
        "            peaks.append(arr[0])\n",
        "        else:\n",
        "            troughs.append(arr[0])\n",
        "\n",
        "    # Check the middle elements\n",
        "    for i in range(1, len(arr) - 1):\n",
        "        if arr[i] > arr[i - 1] and arr[i] > arr[i + 1]:\n",
        "            peaks.append(arr[i])\n",
        "        elif arr[i] < arr[i - 1] and arr[i] < arr[i + 1]:\n",
        "            troughs.append(arr[i])\n",
        "\n",
        "    # Check the last element\n",
        "    if len(arr) > 1 and arr[-1] != arr[-2]:\n",
        "        if arr[-1] > arr[-2]:\n",
        "            peaks.append(arr[-1])\n",
        "        else:\n",
        "            troughs.append(arr[-1])\n",
        "\n",
        "    return peaks, troughs\n",
        "\n",
        "# Example array\n",
        "array = [1, 3, 2, 4, 1, 5, 2, 6]\n",
        "\n",
        "# Find peaks and troughs\n",
        "peaks, troughs = find_peaks_troughs(array)\n",
        "\n",
        "# Print peaks and troughs\n",
        "print(\"Peaks:\", peaks)\n",
        "print(\"Troughs:\", troughs)\n"
      ],
      "metadata": {
        "colab": {
          "base_uri": "https://localhost:8080/"
        },
        "id": "eIIHeojXL9qT",
        "outputId": "1c8a237c-155f-462f-e66b-2da5ee64f979"
      },
      "execution_count": 6,
      "outputs": [
        {
          "output_type": "stream",
          "name": "stdout",
          "text": [
            "Peaks: [3, 4, 5, 6]\n",
            "Troughs: [1, 2, 1, 2]\n"
          ]
        }
      ]
    }
  ]
}