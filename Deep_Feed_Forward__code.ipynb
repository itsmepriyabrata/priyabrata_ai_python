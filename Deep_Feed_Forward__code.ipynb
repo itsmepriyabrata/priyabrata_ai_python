{
  "nbformat": 4,
  "nbformat_minor": 0,
  "metadata": {
    "colab": {
      "provenance": [],
      "authorship_tag": "ABX9TyO/S8mer+C6pniTsT9DCAkR",
      "include_colab_link": true
    },
    "kernelspec": {
      "name": "python3",
      "display_name": "Python 3"
    },
    "language_info": {
      "name": "python"
    }
  },
  "cells": [
    {
      "cell_type": "markdown",
      "metadata": {
        "id": "view-in-github",
        "colab_type": "text"
      },
      "source": [
        "<a href=\"https://colab.research.google.com/github/itsmepriyabrata/priyabrata_ai_python/blob/main/Deep_Feed_Forward__code.ipynb\" target=\"_parent\"><img src=\"https://colab.research.google.com/assets/colab-badge.svg\" alt=\"Open In Colab\"/></a>"
      ]
    },
    {
      "cell_type": "code",
      "execution_count": 1,
      "metadata": {
        "colab": {
          "base_uri": "https://localhost:8080/"
        },
        "id": "OrkbMBdtSQ3N",
        "outputId": "e8adf8b7-355a-4c08-fe96-3d61c5e83e84"
      },
      "outputs": [
        {
          "output_type": "stream",
          "name": "stdout",
          "text": [
            "Prediction for Puri: High Enhancement\n",
            "Prediction for Cuttack: Low Enhancement\n",
            "Prediction for Khurda: High Enhancement\n"
          ]
        }
      ],
      "source": [
        "import numpy as np\n",
        "\n",
        "# Sample data related to education enhancement in Odisha\n",
        "# Features: [Student-Teacher Ratio, School Infrastructure Score, Parental Involvement Score]\n",
        "X = np.array([[20, 8, 7], [25, 7, 6], [18, 9, 8], [22, 6, 7], [24, 8, 7],\n",
        "              [21, 7, 6], [23, 9, 8], [19, 6, 7], [26, 8, 7], [17, 7, 6]])\n",
        "\n",
        "# Binary labels: 0 (low education enhancement) or 1 (high education enhancement)\n",
        "y = np.array([1, 1, 1, 0, 1, 0, 1, 0, 1, 0])\n",
        "\n",
        "district_names = [\"Puri\", \"Cuttack\", \"Khurda\", \"Balasore\", \"Sundargarh\",\n",
        "                  \"Kendrapara\", \"Bhadrak\", \"Angul\", \"Bolangir\", \"Jajpur\"]\n",
        "\n",
        "class RadialBasisNetwork:\n",
        "    def __init__(self, num_features, num_hidden_units):\n",
        "        self.num_features = num_features\n",
        "        self.num_hidden_units = num_hidden_units\n",
        "        self.centers = None\n",
        "        self.width = None\n",
        "        self.weights = None\n",
        "\n",
        "    def rbf_kernel(self, x, c, width):\n",
        "        return np.exp(-np.linalg.norm(x - c) / (2 * (width ** 2)))\n",
        "\n",
        "    def calculate_hidden_layer(self, X):\n",
        "        hidden_layer = np.zeros((X.shape[0], self.num_hidden_units))\n",
        "        for i, x in enumerate(X):\n",
        "            for j, c in enumerate(self.centers):\n",
        "                hidden_layer[i, j] = self.rbf_kernel(x, c, self.width[j])\n",
        "        return hidden_layer\n",
        "\n",
        "    def fit(self, X, y, num_centers=10):\n",
        "        self.centers = X[np.random.choice(X.shape[0], self.num_hidden_units, replace=False)]\n",
        "\n",
        "        self.width = np.full(self.num_hidden_units, np.std(X) / np.sqrt(2 * self.num_hidden_units))\n",
        "\n",
        "        hidden_layer = self.calculate_hidden_layer(X)\n",
        "\n",
        "        self.weights = np.dot(np.linalg.pinv(hidden_layer), y)\n",
        "\n",
        "    def predict(self, X):\n",
        "        hidden_layer = self.calculate_hidden_layer(X)\n",
        "        return np.dot(hidden_layer, self.weights)\n",
        "\n",
        "rbn = RadialBasisNetwork(num_features=X.shape[1], num_hidden_units=5)\n",
        "\n",
        "rbn.fit(X, y)\n",
        "\n",
        "new_data = np.array([[21, 8, 7], [23, 7, 6], [20, 9, 8]])\n",
        "\n",
        "predictions = rbn.predict(new_data)\n",
        "\n",
        "education_enhancement = [\"Low Enhancement\" if pred < 0.5 else \"High Enhancement\" for pred in predictions]\n",
        "\n",
        "for i in range(len(new_data)):\n",
        "    print(f\"Prediction for {district_names[i]}: {education_enhancement[i]}\")\n"
      ]
    },
    {
      "cell_type": "code",
      "source": [
        "import numpy as np\n",
        "\n",
        "# Sample data related to NLP in Odia language\n",
        "# Features: [Word Length, Average Word Frequency, Sentence Length]\n",
        "X = np.array([[5, 2, 10], [6, 3, 12], [4, 1, 8], [7, 4, 15], [5, 2, 11],\n",
        "              [4, 2, 9], [6, 3, 13], [5, 2, 10], [7, 4, 14], [6, 3, 12],\n",
        "              [5, 2, 11], [4, 1, 8], [6, 3, 13], [5, 2, 10], [7, 4, 15]])\n",
        "\n",
        "# Binary labels: 0 (not relevant) or 1 (relevant) for NLP tasks\n",
        "y = np.array([0, 1, 0, 1, 0, 0, 1, 0, 1, 1, 0, 1, 0, 1, 1])\n",
        "\n",
        "# District names\n",
        "district_names = [\"Puri\", \"Cuttack\", \"Khurda\", \"Balasore\", \"Sundargarh\",\n",
        "                  \"Kendrapara\", \"Bhadrak\", \"Angul\", \"Bolangir\", \"Jajpur\",\n",
        "                  \"Baripada\", \"Jharsuguda\", \"Paradip\", \"Dhenkanal\", \"Keonjhar\"]\n",
        "\n",
        "class RadialBasisNetwork:\n",
        "    def __init__(self, num_features, num_hidden_units):\n",
        "        self.num_features = num_features\n",
        "        self.num_hidden_units = num_hidden_units\n",
        "        self.centers = None\n",
        "        self.width = None\n",
        "        self.weights = None\n",
        "\n",
        "    def rbf_kernel(self, x, c, width):\n",
        "        return np.exp(-np.linalg.norm(x - c) / (2 * (width ** 2)))\n",
        "\n",
        "    def calculate_hidden_layer(self, X):\n",
        "        hidden_layer = np.zeros((X.shape[0], self.num_hidden_units))\n",
        "        for i, x in enumerate(X):\n",
        "            for j, c in enumerate(self.centers):\n",
        "                hidden_layer[i, j] = self.rbf_kernel(x, c, self.width[j])\n",
        "        return hidden_layer\n",
        "\n",
        "    def fit(self, X, y, num_centers=10):\n",
        "        self.centers = X[np.random.choice(X.shape[0], self.num_hidden_units, replace=False)]\n",
        "\n",
        "        self.width = np.full(self.num_hidden_units, np.std(X) / np.sqrt(2 * self.num_hidden_units))\n",
        "\n",
        "        hidden_layer = self.calculate_hidden_layer(X)\n",
        "\n",
        "        self.weights = np.dot(np.linalg.pinv(hidden_layer), y)\n",
        "\n",
        "    def predict(self, X):\n",
        "        hidden_layer = self.calculate_hidden_layer(X)\n",
        "        return np.dot(hidden_layer, self.weights)\n",
        "\n",
        "rbn = RadialBasisNetwork(num_features=X.shape[1], num_hidden_units=5)\n",
        "\n",
        "rbn.fit(X, y)\n",
        "\n",
        "new_data = np.array([[5, 2, 10], [6, 3, 12], [7, 4, 15]])\n",
        "\n",
        "predictions = rbn.predict(new_data)\n",
        "\n",
        "nlp_task_relevance = [\"Not Relevant\" if pred < 0.5 else \"Relevant\" for pred in predictions]\n",
        "\n",
        "for i in range(len(new_data)):\n",
        "    print(f\"Prediction for NLP task with data {i+1}: {nlp_task_relevance[i]}\")\n"
      ],
      "metadata": {
        "colab": {
          "base_uri": "https://localhost:8080/"
        },
        "id": "o5r074ijS3NU",
        "outputId": "f5cb77a6-8b4f-45cb-b69b-f12fe223a163"
      },
      "execution_count": 2,
      "outputs": [
        {
          "output_type": "stream",
          "name": "stdout",
          "text": [
            "Prediction for NLP task with data 1: Not Relevant\n",
            "Prediction for NLP task with data 2: Relevant\n",
            "Prediction for NLP task with data 3: Relevant\n"
          ]
        }
      ]
    }
  ]
}