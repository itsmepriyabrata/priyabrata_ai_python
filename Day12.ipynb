{
  "nbformat": 4,
  "nbformat_minor": 0,
  "metadata": {
    "colab": {
      "provenance": [],
      "authorship_tag": "ABX9TyOQud5JmJD/L7slLjjr3Cbc",
      "include_colab_link": true
    },
    "kernelspec": {
      "name": "python3",
      "display_name": "Python 3"
    },
    "language_info": {
      "name": "python"
    }
  },
  "cells": [
    {
      "cell_type": "markdown",
      "metadata": {
        "id": "view-in-github",
        "colab_type": "text"
      },
      "source": [
        "<a href=\"https://colab.research.google.com/github/itsmepriyabrata/priyabrata_ai_python/blob/main/Day12.ipynb\" target=\"_parent\"><img src=\"https://colab.research.google.com/assets/colab-badge.svg\" alt=\"Open In Colab\"/></a>"
      ]
    },
    {
      "cell_type": "code",
      "execution_count": 1,
      "metadata": {
        "colab": {
          "base_uri": "https://localhost:8080/"
        },
        "id": "izw-_vDLaEtJ",
        "outputId": "a18cd2b0-fde5-42b7-aab8-a7664884bd1d"
      },
      "outputs": [
        {
          "output_type": "stream",
          "name": "stdout",
          "text": [
            "Sum of the series up to 10 terms is: 55\n"
          ]
        }
      ],
      "source": [
        "def sum_of_series(n):\n",
        "    return (n * (n + 1)) // 2\n",
        "\n",
        "# Example usage\n",
        "n = 10\n",
        "sum_up_to_n = sum_of_series(n)\n",
        "print(\"Sum of the series up to\", n, \"terms is:\", sum_up_to_n)\n"
      ]
    },
    {
      "cell_type": "code",
      "source": [
        "def sum_of_series(n):\n",
        "    series_sum = 0\n",
        "    term = 0\n",
        "    for i in range(1, n + 1):\n",
        "        term = term * 10 + 2  # Appending 2 to the current term\n",
        "        series_sum += term    # Adding the current term to the sum\n",
        "    return series_sum\n",
        "\n",
        "# Test the function\n",
        "n = 5\n",
        "result = sum_of_series(n)\n",
        "print(\"Sum of the series up to\", n, \"terms is:\", result)\n"
      ],
      "metadata": {
        "colab": {
          "base_uri": "https://localhost:8080/"
        },
        "id": "3Z7mZFSoapbu",
        "outputId": "ba542576-2863-4fa2-88b0-d9b3e82dc71a"
      },
      "execution_count": 2,
      "outputs": [
        {
          "output_type": "stream",
          "name": "stdout",
          "text": [
            "Sum of the series up to 5 terms is: 24690\n"
          ]
        }
      ]
    },
    {
      "cell_type": "code",
      "source": [
        "def cubes_up_to_n(n):\n",
        "    cubes = []\n",
        "    for i in range(1, n + 1):\n",
        "        cubes.append(i ** 3)\n",
        "    return cubes\n",
        "\n",
        "# Test the function\n",
        "given_number = 5\n",
        "cubes_list = cubes_up_to_n(given_number)\n",
        "print(\"Cubes of numbers from 1 to\", given_number, \"are:\", cubes_list)\n"
      ],
      "metadata": {
        "colab": {
          "base_uri": "https://localhost:8080/"
        },
        "id": "NKacQnFra5jg",
        "outputId": "1995cc8c-60f2-4ab9-d187-3ae29c69fbc0"
      },
      "execution_count": 3,
      "outputs": [
        {
          "output_type": "stream",
          "name": "stdout",
          "text": [
            "Cubes of numbers from 1 to 5 are: [1, 8, 27, 64, 125]\n"
          ]
        }
      ]
    },
    {
      "cell_type": "code",
      "source": [
        "def display_odd_index_elements(lst):\n",
        "    for i in range(1, len(lst), 2):\n",
        "        print(lst[i])\n",
        "\n",
        "# Test the function\n",
        "given_list = [10, 20, 30, 40, 50, 60, 70]\n",
        "print(\"Elements at odd index positions:\")\n",
        "display_odd_index_elements(given_list)\n"
      ],
      "metadata": {
        "colab": {
          "base_uri": "https://localhost:8080/"
        },
        "id": "4LL0-KIlbGH9",
        "outputId": "5fa7cc00-bf8d-4100-eb5c-6f95b10ff43a"
      },
      "execution_count": 4,
      "outputs": [
        {
          "output_type": "stream",
          "name": "stdout",
          "text": [
            "Elements at odd index positions:\n",
            "20\n",
            "40\n",
            "60\n"
          ]
        }
      ]
    },
    {
      "cell_type": "code",
      "source": [
        "class Node:\n",
        "    def __init__(self, data):\n",
        "        self.data = data\n",
        "        self.next = None\n",
        "\n",
        "class LinkedList:\n",
        "    def __init__(self):\n",
        "        self.head = None\n",
        "\n",
        "    def append(self, data):\n",
        "        new_node = Node(data)\n",
        "        if self.head is None:\n",
        "            self.head = new_node\n",
        "            return\n",
        "        last_node = self.head\n",
        "        while last_node.next:\n",
        "            last_node = last_node.next\n",
        "        last_node.next = new_node\n",
        "\n",
        "    def display(self):\n",
        "        current = self.head\n",
        "        while current:\n",
        "            print(current.data, end=\" \")\n",
        "            current = current.next\n",
        "        print()\n",
        "\n",
        "    def reverse(self):\n",
        "        prev = None\n",
        "        current = self.head\n",
        "        while current:\n",
        "            next_node = current.next\n",
        "            current.next = prev\n",
        "            prev = current\n",
        "            current = next_node\n",
        "        self.head = prev\n",
        "\n",
        "# Example usage\n",
        "linked_list = LinkedList()\n",
        "linked_list.append(1)\n",
        "linked_list.append(2)\n",
        "linked_list.append(3)\n",
        "linked_list.append(4)\n",
        "\n",
        "print(\"Original linked list:\")\n",
        "linked_list.display()\n",
        "\n",
        "linked_list.reverse()\n",
        "\n",
        "print(\"Reversed linked list:\")\n",
        "linked_list.display()\n"
      ],
      "metadata": {
        "colab": {
          "base_uri": "https://localhost:8080/"
        },
        "id": "eckPDiJlbsrJ",
        "outputId": "b4daebf2-b634-4114-e2c9-bb87473981c4"
      },
      "execution_count": 5,
      "outputs": [
        {
          "output_type": "stream",
          "name": "stdout",
          "text": [
            "Original linked list:\n",
            "1 2 3 4 \n",
            "Reversed linked list:\n",
            "4 3 2 1 \n"
          ]
        }
      ]
    },
    {
      "cell_type": "code",
      "source": [
        "def largest_prime_factor(n):\n",
        "    factor = 2\n",
        "    while factor * factor <= n:\n",
        "        if n % factor == 0:\n",
        "            n //= factor\n",
        "        else:\n",
        "            factor += 1\n",
        "    return n\n",
        "\n",
        "# Example usage\n",
        "number = 315\n",
        "largest_prime = largest_prime_factor(number)\n",
        "print(\"Largest prime factor of\", number, \"is:\", largest_prime)\n"
      ],
      "metadata": {
        "colab": {
          "base_uri": "https://localhost:8080/"
        },
        "id": "1j57X67FcpIc",
        "outputId": "61161d88-45ce-437c-ca87-b93b0a0072e0"
      },
      "execution_count": 6,
      "outputs": [
        {
          "output_type": "stream",
          "name": "stdout",
          "text": [
            "Largest prime factor of 315 is: 7\n"
          ]
        }
      ]
    }
  ]
}