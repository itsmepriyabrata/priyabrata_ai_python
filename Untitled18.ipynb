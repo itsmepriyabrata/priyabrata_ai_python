{
  "nbformat": 4,
  "nbformat_minor": 0,
  "metadata": {
    "colab": {
      "provenance": [],
      "toc_visible": true,
      "authorship_tag": "ABX9TyMgPlElSM6pvPolXbWTlqWG",
      "include_colab_link": true
    },
    "kernelspec": {
      "name": "python3",
      "display_name": "Python 3"
    },
    "language_info": {
      "name": "python"
    }
  },
  "cells": [
    {
      "cell_type": "markdown",
      "metadata": {
        "id": "view-in-github",
        "colab_type": "text"
      },
      "source": [
        "<a href=\"https://colab.research.google.com/github/itsmepriyabrata/priyabrata_ai_python/blob/main/Untitled18.ipynb\" target=\"_parent\"><img src=\"https://colab.research.google.com/assets/colab-badge.svg\" alt=\"Open In Colab\"/></a>"
      ]
    },
    {
      "cell_type": "code",
      "source": [
        "import librosa\n",
        "import numpy as np\n",
        "from scipy.signal import resample\n",
        "\n",
        "# Load the audio file\n",
        "audio_path = '/content/Kalinga War _ Bibhuti Bhusan Swain(MP3_160K).mp3'\n",
        "y, sr = librosa.load(audio_path, sr=None)\n",
        "\n",
        "print(\"Type of y:\", type(y))\n",
        "print(\"Type of sr:\", type(sr))\n",
        "\n",
        "target_sr = 22050\n",
        "y_resampled = resample(y, int(len(y) * target_sr / sr))\n",
        "\n",
        "print(\"Type of y_resampled:\", type(y_resampled))\n",
        "\n",
        "y_normalized = librosa.util.normalize(y_resampled)\n",
        "\n",
        "y_trimmed, _ = librosa.effects.trim(y_normalized)\n",
        "\n",
        "y_denoised = librosa.effects.preemphasis(y_trimmed)\n",
        "\n",
        "mfccs = librosa.feature.mfcc(y=y_denoised, sr=target_sr, n_mfcc=13)\n",
        "\n",
        "np.save('preprocessed_audio.npy', mfccs)\n",
        "\n",
        "print(\"Shape of extracted features:\", mfccs.shape)\n"
      ],
      "metadata": {
        "id": "APga4oCVKI5f"
      },
      "execution_count": null,
      "outputs": []
    },
    {
      "cell_type": "code",
      "source": [
        "class Car:\n",
        "    def __init__(self, make, model, year):\n",
        "        self.make = make\n",
        "        self.model = model\n",
        "        self.year = year\n",
        "        self.odometer_reading = 0\n",
        "\n",
        "    def get_car_info(self):\n",
        "        return f\"{self.year} {self.make} {self.model}\"\n",
        "\n",
        "    def read_odometer(self):\n",
        "        return f\"This car has {self.odometer_reading} miles on it.\"\n",
        "\n",
        "    def update_odometer(self, mileage):\n",
        "        if mileage >= self.odometer_reading:\n",
        "            self.odometer_reading = mileage\n",
        "        else:\n",
        "            print(\"You can't roll back an odometer!\")\n",
        "\n",
        "    def increment_odometer(self, miles):\n",
        "        self.odometer_reading += miles\n",
        "\n",
        "\n",
        "my_car = Car(\"Toyota\", \"Camry\", 2020)\n",
        "\n",
        "print(my_car.get_car_info())\n",
        "print(my_car.read_odometer())\n",
        "\n",
        "my_car.update_odometer(15000)\n",
        "print(my_car.read_odometer())\n",
        "\n",
        "my_car.increment_odometer(100)\n",
        "print(my_car.read_odometer())\n"
      ],
      "metadata": {
        "colab": {
          "base_uri": "https://localhost:8080/"
        },
        "id": "IDNoUQZQN4Q4",
        "outputId": "e33b801e-3154-4c32-cde3-e9c94f38f2eb"
      },
      "execution_count": 2,
      "outputs": [
        {
          "output_type": "stream",
          "name": "stdout",
          "text": [
            "2020 Toyota Camry\n",
            "This car has 0 miles on it.\n",
            "This car has 15000 miles on it.\n",
            "This car has 15100 miles on it.\n"
          ]
        }
      ]
    },
    {
      "cell_type": "code",
      "source": [
        "class Vehicle:\n",
        "    def __init__(self, make, model, year):\n",
        "        self.make = make\n",
        "        self.model = model\n",
        "        self.year = year\n",
        "        self.odometer_reading = 0\n",
        "\n",
        "    def get_car_info(self):\n",
        "        return f\"{self.year} {self.make} {self.model}\"\n",
        "\n",
        "    def read_odometer(self):\n",
        "        return f\"This car has {self.odometer_reading} miles on it.\"\n",
        "\n",
        "    def update_odometer(self, mileage):\n",
        "        if mileage >= self.odometer_reading:\n",
        "            self.odometer_reading = mileage\n",
        "        else:\n",
        "            print(\"You can't roll back an odometer!\")\n",
        "\n",
        "    def increment_odometer(self, miles):\n",
        "        self.odometer_reading += miles\n",
        "\n",
        "\n",
        "class Bus(Vehicle):\n",
        "    def __init__(self, make, model, year, passengers):\n",
        "        super().__init__(make, model, year)\n",
        "        self.passengers = passengers\n",
        "\n",
        "    def get_bus_info(self):\n",
        "        return f\"{self.year} {self.make} {self.model} with {self.passengers} passengers\"\n",
        "\n",
        "\n",
        "my_car = Vehicle(\"Toyota\", \"Camry\", 2020)\n",
        "\n",
        "print(my_car.get_car_info())\n",
        "print(my_car.read_odometer())\n",
        "\n",
        "my_car.update_odometer(15000)\n",
        "print(my_car.read_odometer())\n",
        "\n",
        "my_car.increment_odometer(100)\n",
        "print(my_car.read_odometer())\n",
        "\n",
        "my_bus = Bus(\"Volvo\", \"B7L\", 2015, 50)\n",
        "\n",
        "print(my_bus.get_bus_info())\n",
        "print(my_bus.read_odometer())\n",
        "\n",
        "my_bus.update_odometer(20000)\n",
        "print(my_bus.read_odometer())\n"
      ],
      "metadata": {
        "colab": {
          "base_uri": "https://localhost:8080/"
        },
        "id": "u3-V4jHhPCqs",
        "outputId": "77dd304e-ead5-4901-c8c3-5c46f5aeea07"
      },
      "execution_count": 3,
      "outputs": [
        {
          "output_type": "stream",
          "name": "stdout",
          "text": [
            "2020 Toyota Camry\n",
            "This car has 0 miles on it.\n",
            "This car has 15000 miles on it.\n",
            "This car has 15100 miles on it.\n",
            "2015 Volvo B7L with 50 passengers\n",
            "This car has 0 miles on it.\n",
            "This car has 20000 miles on it.\n"
          ]
        }
      ]
    },
    {
      "cell_type": "code",
      "source": [
        "class MyClass:\n",
        "    # Class attribute shared by all instances\n",
        "    shared_property = \"same value for all instances\"\n",
        "\n",
        "    def __init__(self, other_property):\n",
        "        self.other_property = other_property\n",
        "\n",
        "obj1 = MyClass(\"value1\")\n",
        "obj2 = MyClass(\"value2\")\n",
        "\n",
        "print(obj1.shared_property)\n",
        "print(obj2.shared_property)\n"
      ],
      "metadata": {
        "colab": {
          "base_uri": "https://localhost:8080/"
        },
        "id": "frTgHFm-Pdgk",
        "outputId": "a9a7df49-a938-4aad-f1a4-35447db4ad52"
      },
      "execution_count": 4,
      "outputs": [
        {
          "output_type": "stream",
          "name": "stdout",
          "text": [
            "same value for all instances\n",
            "same value for all instances\n"
          ]
        }
      ]
    }
  ]
}