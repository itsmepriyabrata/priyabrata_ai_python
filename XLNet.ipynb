{
  "nbformat": 4,
  "nbformat_minor": 0,
  "metadata": {
    "colab": {
      "provenance": [],
      "authorship_tag": "ABX9TyORkBHHulqxX/VEi1BTvHjz",
      "include_colab_link": true
    },
    "kernelspec": {
      "name": "python3",
      "display_name": "Python 3"
    },
    "language_info": {
      "name": "python"
    }
  },
  "cells": [
    {
      "cell_type": "markdown",
      "metadata": {
        "id": "view-in-github",
        "colab_type": "text"
      },
      "source": [
        "<a href=\"https://colab.research.google.com/github/itsmepriyabrata/priyabrata_ai_python/blob/main/XLNet.ipynb\" target=\"_parent\"><img src=\"https://colab.research.google.com/assets/colab-badge.svg\" alt=\"Open In Colab\"/></a>"
      ]
    },
    {
      "cell_type": "code",
      "source": [
        "import torch\n",
        "from transformers import XLNetTokenizer, XLNetForSequenceClassification, pipeline\n",
        "\n",
        "model_name = \"xlnet-base-cased\"\n",
        "tokenizer = XLNetTokenizer.from_pretrained(model_name)\n",
        "model = XLNetForSequenceClassification.from_pretrained(model_name)\n",
        "\n",
        "nlp = pipeline(\"sentiment-analysis\", model=model, tokenizer=tokenizer)\n",
        "\n",
        "sentences = [\n",
        "    \"I love natural language processing.\",\n",
        "    \"This is a terrible mistake.\"\n",
        "]\n",
        "\n",
        "def classify_sentences(sentences):\n",
        "    results = nlp(sentences)\n",
        "    return results\n",
        "\n",
        "results = classify_sentences(sentences)\n",
        "\n",
        "for sentence, result in zip(sentences, results):\n",
        "    print(f\"Sentence: {sentence}\")\n",
        "    print(f\"Classification: {result}\\n\")\n"
      ],
      "metadata": {
        "colab": {
          "base_uri": "https://localhost:8080/"
        },
        "id": "CfvwZqmq56mK",
        "outputId": "e5d705aa-5c85-436f-ce29-1d1a13fe4d4d"
      },
      "execution_count": 3,
      "outputs": [
        {
          "output_type": "stream",
          "name": "stderr",
          "text": [
            "Some weights of XLNetForSequenceClassification were not initialized from the model checkpoint at xlnet-base-cased and are newly initialized: ['logits_proj.bias', 'logits_proj.weight', 'sequence_summary.summary.bias', 'sequence_summary.summary.weight']\n",
            "You should probably TRAIN this model on a down-stream task to be able to use it for predictions and inference.\n"
          ]
        },
        {
          "output_type": "stream",
          "name": "stdout",
          "text": [
            "Sentence: I love natural language processing.\n",
            "Classification: {'label': 'LABEL_1', 'score': 0.5247953534126282}\n",
            "\n",
            "Sentence: This is a terrible mistake.\n",
            "Classification: {'label': 'LABEL_1', 'score': 0.6453126072883606}\n",
            "\n"
          ]
        }
      ]
    }
  ]
}