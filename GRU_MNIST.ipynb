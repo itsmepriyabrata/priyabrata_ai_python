{
  "nbformat": 4,
  "nbformat_minor": 0,
  "metadata": {
    "colab": {
      "provenance": [],
      "mount_file_id": "https://github.com/itsmepriyabrata/priyabrata_ai_python/blob/main/GRU_MNIST.ipynb",
      "authorship_tag": "ABX9TyNzro1G6IFzYdvbDx01ECD9",
      "include_colab_link": true
    },
    "kernelspec": {
      "name": "python3",
      "display_name": "Python 3"
    },
    "language_info": {
      "name": "python"
    }
  },
  "cells": [
    {
      "cell_type": "markdown",
      "metadata": {
        "id": "view-in-github",
        "colab_type": "text"
      },
      "source": [
        "<a href=\"https://colab.research.google.com/github/itsmepriyabrata/priyabrata_ai_python/blob/main/GRU_MNIST.ipynb\" target=\"_parent\"><img src=\"https://colab.research.google.com/assets/colab-badge.svg\" alt=\"Open In Colab\"/></a>"
      ]
    },
    {
      "cell_type": "code",
      "execution_count": null,
      "metadata": {
        "colab": {
          "base_uri": "https://localhost:8080/"
        },
        "id": "8XkUVcospPPN",
        "outputId": "86345011-7398-4a5c-cb5c-8b0144a2c441"
      },
      "outputs": [
        {
          "output_type": "stream",
          "name": "stdout",
          "text": [
            "Requirement already satisfied: tensorflow in /usr/local/lib/python3.10/dist-packages (2.15.0)\n",
            "Requirement already satisfied: absl-py>=1.0.0 in /usr/local/lib/python3.10/dist-packages (from tensorflow) (1.4.0)\n",
            "Requirement already satisfied: astunparse>=1.6.0 in /usr/local/lib/python3.10/dist-packages (from tensorflow) (1.6.3)\n",
            "Requirement already satisfied: flatbuffers>=23.5.26 in /usr/local/lib/python3.10/dist-packages (from tensorflow) (24.3.25)\n",
            "Requirement already satisfied: gast!=0.5.0,!=0.5.1,!=0.5.2,>=0.2.1 in /usr/local/lib/python3.10/dist-packages (from tensorflow) (0.5.4)\n",
            "Requirement already satisfied: google-pasta>=0.1.1 in /usr/local/lib/python3.10/dist-packages (from tensorflow) (0.2.0)\n",
            "Requirement already satisfied: h5py>=2.9.0 in /usr/local/lib/python3.10/dist-packages (from tensorflow) (3.9.0)\n",
            "Requirement already satisfied: libclang>=13.0.0 in /usr/local/lib/python3.10/dist-packages (from tensorflow) (18.1.1)\n",
            "Requirement already satisfied: ml-dtypes~=0.2.0 in /usr/local/lib/python3.10/dist-packages (from tensorflow) (0.2.0)\n",
            "Requirement already satisfied: numpy<2.0.0,>=1.23.5 in /usr/local/lib/python3.10/dist-packages (from tensorflow) (1.25.2)\n",
            "Requirement already satisfied: opt-einsum>=2.3.2 in /usr/local/lib/python3.10/dist-packages (from tensorflow) (3.3.0)\n",
            "Requirement already satisfied: packaging in /usr/local/lib/python3.10/dist-packages (from tensorflow) (24.0)\n",
            "Requirement already satisfied: protobuf!=4.21.0,!=4.21.1,!=4.21.2,!=4.21.3,!=4.21.4,!=4.21.5,<5.0.0dev,>=3.20.3 in /usr/local/lib/python3.10/dist-packages (from tensorflow) (3.20.3)\n",
            "Requirement already satisfied: setuptools in /usr/local/lib/python3.10/dist-packages (from tensorflow) (67.7.2)\n",
            "Requirement already satisfied: six>=1.12.0 in /usr/local/lib/python3.10/dist-packages (from tensorflow) (1.16.0)\n",
            "Requirement already satisfied: termcolor>=1.1.0 in /usr/local/lib/python3.10/dist-packages (from tensorflow) (2.4.0)\n",
            "Requirement already satisfied: typing-extensions>=3.6.6 in /usr/local/lib/python3.10/dist-packages (from tensorflow) (4.10.0)\n",
            "Requirement already satisfied: wrapt<1.15,>=1.11.0 in /usr/local/lib/python3.10/dist-packages (from tensorflow) (1.14.1)\n",
            "Requirement already satisfied: tensorflow-io-gcs-filesystem>=0.23.1 in /usr/local/lib/python3.10/dist-packages (from tensorflow) (0.36.0)\n",
            "Requirement already satisfied: grpcio<2.0,>=1.24.3 in /usr/local/lib/python3.10/dist-packages (from tensorflow) (1.62.1)\n",
            "Requirement already satisfied: tensorboard<2.16,>=2.15 in /usr/local/lib/python3.10/dist-packages (from tensorflow) (2.15.2)\n",
            "Requirement already satisfied: tensorflow-estimator<2.16,>=2.15.0 in /usr/local/lib/python3.10/dist-packages (from tensorflow) (2.15.0)\n",
            "Requirement already satisfied: keras<2.16,>=2.15.0 in /usr/local/lib/python3.10/dist-packages (from tensorflow) (2.15.0)\n",
            "Requirement already satisfied: wheel<1.0,>=0.23.0 in /usr/local/lib/python3.10/dist-packages (from astunparse>=1.6.0->tensorflow) (0.43.0)\n",
            "Requirement already satisfied: google-auth<3,>=1.6.3 in /usr/local/lib/python3.10/dist-packages (from tensorboard<2.16,>=2.15->tensorflow) (2.27.0)\n",
            "Requirement already satisfied: google-auth-oauthlib<2,>=0.5 in /usr/local/lib/python3.10/dist-packages (from tensorboard<2.16,>=2.15->tensorflow) (1.2.0)\n",
            "Requirement already satisfied: markdown>=2.6.8 in /usr/local/lib/python3.10/dist-packages (from tensorboard<2.16,>=2.15->tensorflow) (3.6)\n",
            "Requirement already satisfied: requests<3,>=2.21.0 in /usr/local/lib/python3.10/dist-packages (from tensorboard<2.16,>=2.15->tensorflow) (2.31.0)\n",
            "Requirement already satisfied: tensorboard-data-server<0.8.0,>=0.7.0 in /usr/local/lib/python3.10/dist-packages (from tensorboard<2.16,>=2.15->tensorflow) (0.7.2)\n",
            "Requirement already satisfied: werkzeug>=1.0.1 in /usr/local/lib/python3.10/dist-packages (from tensorboard<2.16,>=2.15->tensorflow) (3.0.2)\n",
            "Requirement already satisfied: cachetools<6.0,>=2.0.0 in /usr/local/lib/python3.10/dist-packages (from google-auth<3,>=1.6.3->tensorboard<2.16,>=2.15->tensorflow) (5.3.3)\n",
            "Requirement already satisfied: pyasn1-modules>=0.2.1 in /usr/local/lib/python3.10/dist-packages (from google-auth<3,>=1.6.3->tensorboard<2.16,>=2.15->tensorflow) (0.4.0)\n",
            "Requirement already satisfied: rsa<5,>=3.1.4 in /usr/local/lib/python3.10/dist-packages (from google-auth<3,>=1.6.3->tensorboard<2.16,>=2.15->tensorflow) (4.9)\n",
            "Requirement already satisfied: requests-oauthlib>=0.7.0 in /usr/local/lib/python3.10/dist-packages (from google-auth-oauthlib<2,>=0.5->tensorboard<2.16,>=2.15->tensorflow) (1.3.1)\n",
            "Requirement already satisfied: charset-normalizer<4,>=2 in /usr/local/lib/python3.10/dist-packages (from requests<3,>=2.21.0->tensorboard<2.16,>=2.15->tensorflow) (3.3.2)\n",
            "Requirement already satisfied: idna<4,>=2.5 in /usr/local/lib/python3.10/dist-packages (from requests<3,>=2.21.0->tensorboard<2.16,>=2.15->tensorflow) (3.6)\n",
            "Requirement already satisfied: urllib3<3,>=1.21.1 in /usr/local/lib/python3.10/dist-packages (from requests<3,>=2.21.0->tensorboard<2.16,>=2.15->tensorflow) (2.0.7)\n",
            "Requirement already satisfied: certifi>=2017.4.17 in /usr/local/lib/python3.10/dist-packages (from requests<3,>=2.21.0->tensorboard<2.16,>=2.15->tensorflow) (2024.2.2)\n",
            "Requirement already satisfied: MarkupSafe>=2.1.1 in /usr/local/lib/python3.10/dist-packages (from werkzeug>=1.0.1->tensorboard<2.16,>=2.15->tensorflow) (2.1.5)\n",
            "Requirement already satisfied: pyasn1<0.7.0,>=0.4.6 in /usr/local/lib/python3.10/dist-packages (from pyasn1-modules>=0.2.1->google-auth<3,>=1.6.3->tensorboard<2.16,>=2.15->tensorflow) (0.6.0)\n",
            "Requirement already satisfied: oauthlib>=3.0.0 in /usr/local/lib/python3.10/dist-packages (from requests-oauthlib>=0.7.0->google-auth-oauthlib<2,>=0.5->tensorboard<2.16,>=2.15->tensorflow) (3.2.2)\n"
          ]
        }
      ],
      "source": [
        "pip install tensorflow\n"
      ]
    },
    {
      "cell_type": "code",
      "source": [
        "import tensorflow as tf\n",
        "from tensorflow import keras\n",
        "from tensorflow.keras import layers\n",
        "\n",
        "model = keras.Sequential()\n",
        "model.add(layers.GRU(64, input_shape=(28, 28)))\n",
        "model.add(layers.BatchNormalization())\n",
        "model.add(layers.Dense(10))\n",
        "print(model.summary())\n",
        "mnist = keras.datasets.mnist\n",
        "(x_train, y_train), (x_test, y_test) = mnist.load_data()\n",
        "x_train, x_test = x_train/255.0, x_test/255.0\n",
        "x_validate, y_validate = x_test[:-10], y_test[:-10]\n",
        "x_test, y_test = x_test[-10:], y_test[-10:]\n",
        "print(x_test,y_test)"
      ],
      "metadata": {
        "colab": {
          "base_uri": "https://localhost:8080/"
        },
        "id": "rOXmcjJGpYSf",
        "outputId": "14bdf9fa-1919-48c0-e9f0-85b23aa84af4"
      },
      "execution_count": null,
      "outputs": [
        {
          "output_type": "stream",
          "name": "stdout",
          "text": [
            "Model: \"sequential_3\"\n",
            "_________________________________________________________________\n",
            " Layer (type)                Output Shape              Param #   \n",
            "=================================================================\n",
            " gru_3 (GRU)                 (None, 64)                18048     \n",
            "                                                                 \n",
            " batch_normalization_3 (Bat  (None, 64)                256       \n",
            " chNormalization)                                                \n",
            "                                                                 \n",
            " dense_3 (Dense)             (None, 10)                650       \n",
            "                                                                 \n",
            "=================================================================\n",
            "Total params: 18954 (74.04 KB)\n",
            "Trainable params: 18826 (73.54 KB)\n",
            "Non-trainable params: 128 (512.00 Byte)\n",
            "_________________________________________________________________\n",
            "None\n",
            "[[[0. 0. 0. ... 0. 0. 0.]\n",
            "  [0. 0. 0. ... 0. 0. 0.]\n",
            "  [0. 0. 0. ... 0. 0. 0.]\n",
            "  ...\n",
            "  [0. 0. 0. ... 0. 0. 0.]\n",
            "  [0. 0. 0. ... 0. 0. 0.]\n",
            "  [0. 0. 0. ... 0. 0. 0.]]\n",
            "\n",
            " [[0. 0. 0. ... 0. 0. 0.]\n",
            "  [0. 0. 0. ... 0. 0. 0.]\n",
            "  [0. 0. 0. ... 0. 0. 0.]\n",
            "  ...\n",
            "  [0. 0. 0. ... 0. 0. 0.]\n",
            "  [0. 0. 0. ... 0. 0. 0.]\n",
            "  [0. 0. 0. ... 0. 0. 0.]]\n",
            "\n",
            " [[0. 0. 0. ... 0. 0. 0.]\n",
            "  [0. 0. 0. ... 0. 0. 0.]\n",
            "  [0. 0. 0. ... 0. 0. 0.]\n",
            "  ...\n",
            "  [0. 0. 0. ... 0. 0. 0.]\n",
            "  [0. 0. 0. ... 0. 0. 0.]\n",
            "  [0. 0. 0. ... 0. 0. 0.]]\n",
            "\n",
            " ...\n",
            "\n",
            " [[0. 0. 0. ... 0. 0. 0.]\n",
            "  [0. 0. 0. ... 0. 0. 0.]\n",
            "  [0. 0. 0. ... 0. 0. 0.]\n",
            "  ...\n",
            "  [0. 0. 0. ... 0. 0. 0.]\n",
            "  [0. 0. 0. ... 0. 0. 0.]\n",
            "  [0. 0. 0. ... 0. 0. 0.]]\n",
            "\n",
            " [[0. 0. 0. ... 0. 0. 0.]\n",
            "  [0. 0. 0. ... 0. 0. 0.]\n",
            "  [0. 0. 0. ... 0. 0. 0.]\n",
            "  ...\n",
            "  [0. 0. 0. ... 0. 0. 0.]\n",
            "  [0. 0. 0. ... 0. 0. 0.]\n",
            "  [0. 0. 0. ... 0. 0. 0.]]\n",
            "\n",
            " [[0. 0. 0. ... 0. 0. 0.]\n",
            "  [0. 0. 0. ... 0. 0. 0.]\n",
            "  [0. 0. 0. ... 0. 0. 0.]\n",
            "  ...\n",
            "  [0. 0. 0. ... 0. 0. 0.]\n",
            "  [0. 0. 0. ... 0. 0. 0.]\n",
            "  [0. 0. 0. ... 0. 0. 0.]]] [7 8 9 0 1 2 3 4 5 6]\n"
          ]
        }
      ]
    },
    {
      "cell_type": "code",
      "source": [
        "model.compile(\n",
        "    loss=keras.losses.SparseCategoricalCrossentropy(from_logits=True),\n",
        "    optimizer=\"sgd\",\n",
        "    metrics=[\"accuracy\"],\n",
        ")"
      ],
      "metadata": {
        "id": "UMyIl5xRqDjZ"
      },
      "execution_count": null,
      "outputs": []
    },
    {
      "cell_type": "code",
      "source": [
        "model.fit(\n",
        "    x_train, y_train, validation_data=(x_validate, y_validate), batch_size=64, epochs=10\n",
        ")"
      ],
      "metadata": {
        "colab": {
          "base_uri": "https://localhost:8080/"
        },
        "id": "s0QpA1ghqM-4",
        "outputId": "3d20b552-477e-42f7-e973-4545826dd581"
      },
      "execution_count": null,
      "outputs": [
        {
          "output_type": "stream",
          "name": "stdout",
          "text": [
            "Epoch 1/10\n",
            "938/938 [==============================] - 17s 16ms/step - loss: 1.4094 - accuracy: 0.5264 - val_loss: 1.0062 - val_accuracy: 0.6755\n",
            "Epoch 2/10\n",
            "938/938 [==============================] - 16s 17ms/step - loss: 0.7634 - accuracy: 0.7533 - val_loss: 0.5724 - val_accuracy: 0.8078\n",
            "Epoch 3/10\n",
            "938/938 [==============================] - 16s 17ms/step - loss: 0.4841 - accuracy: 0.8490 - val_loss: 0.6310 - val_accuracy: 0.7805\n",
            "Epoch 4/10\n",
            "938/938 [==============================] - 15s 16ms/step - loss: 0.3587 - accuracy: 0.8915 - val_loss: 0.3017 - val_accuracy: 0.9067\n",
            "Epoch 5/10\n",
            "938/938 [==============================] - 15s 16ms/step - loss: 0.2772 - accuracy: 0.9166 - val_loss: 0.2262 - val_accuracy: 0.9312\n",
            "Epoch 6/10\n",
            "938/938 [==============================] - 15s 16ms/step - loss: 0.2224 - accuracy: 0.9335 - val_loss: 0.1841 - val_accuracy: 0.9404\n",
            "Epoch 7/10\n",
            "938/938 [==============================] - 16s 17ms/step - loss: 0.1892 - accuracy: 0.9427 - val_loss: 0.3022 - val_accuracy: 0.8976\n",
            "Epoch 8/10\n",
            "938/938 [==============================] - 16s 17ms/step - loss: 0.1680 - accuracy: 0.9485 - val_loss: 0.1969 - val_accuracy: 0.9346\n",
            "Epoch 9/10\n",
            "938/938 [==============================] - 15s 16ms/step - loss: 0.1513 - accuracy: 0.9530 - val_loss: 0.1341 - val_accuracy: 0.9569\n",
            "Epoch 10/10\n",
            "938/938 [==============================] - 15s 16ms/step - loss: 0.1402 - accuracy: 0.9571 - val_loss: 0.2484 - val_accuracy: 0.9196\n"
          ]
        },
        {
          "output_type": "execute_result",
          "data": {
            "text/plain": [
              "<keras.src.callbacks.History at 0x7ecbc50cd8a0>"
            ]
          },
          "metadata": {},
          "execution_count": 6
        }
      ]
    },
    {
      "cell_type": "code",
      "source": [
        "for i in range(10):\n",
        "    result = tf.argmax(model.predict(tf.expand_dims(x_test[i], 0)), axis=1)\n",
        "    print(result.numpy(), y_test[i])"
      ],
      "metadata": {
        "colab": {
          "base_uri": "https://localhost:8080/"
        },
        "id": "7EtRBVSxqQsC",
        "outputId": "6776b6ce-de35-41bb-8e55-f828760b6e91"
      },
      "execution_count": null,
      "outputs": [
        {
          "output_type": "stream",
          "name": "stdout",
          "text": [
            "1/1 [==============================] - 0s 403ms/step\n",
            "[8] 7\n",
            "1/1 [==============================] - 0s 19ms/step\n",
            "[8] 8\n",
            "1/1 [==============================] - 0s 19ms/step\n",
            "[8] 9\n",
            "1/1 [==============================] - 0s 23ms/step\n",
            "[8] 0\n",
            "1/1 [==============================] - 0s 27ms/step\n",
            "[8] 1\n",
            "1/1 [==============================] - 0s 23ms/step\n",
            "[8] 2\n",
            "1/1 [==============================] - 0s 22ms/step\n",
            "[8] 3\n",
            "1/1 [==============================] - 0s 23ms/step\n",
            "[8] 4\n",
            "1/1 [==============================] - 0s 22ms/step\n",
            "[8] 5\n",
            "1/1 [==============================] - 0s 19ms/step\n",
            "[8] 6\n"
          ]
        }
      ]
    },
    {
      "cell_type": "code",
      "source": [
        "import tensorflow as tf\n",
        "from tensorflow import keras\n",
        "from tensorflow.keras import layers\n",
        "\n",
        "model = keras.Sequential()\n",
        "model.add(layers.GRU(64, input_shape=(28, 28)))\n",
        "model.add(layers.BatchNormalization())\n",
        "model.add(layers.Dense(10))\n",
        "\n",
        "print(model.summary())\n",
        "\n",
        "mnist = keras.datasets.mnist\n",
        "(x_train, y_train), (x_test, y_test) = mnist.load_data()\n",
        "x_train, x_test = x_train / 255.0, x_test / 255.0\n",
        "x_validate, y_validate = x_test[:-10], y_test[:-10]\n",
        "x_test, y_test = x_test[-10:], y_test[-10:]\n",
        "\n",
        "model.compile(\n",
        "    loss=keras.losses.SparseCategoricalCrossentropy(from_logits=True),\n",
        "    optimizer=\"sgd\",\n",
        "    metrics=[\"accuracy\"],\n",
        ")\n",
        "\n",
        "model.fit(\n",
        "    x_train, y_train, validation_data=(x_validate, y_validate), batch_size=64, epochs=10\n",
        ")\n",
        "\n",
        "model.save(\"trained_gru_model.h5\")\n",
        "\n",
        "for i in range(10):\n",
        "    result = tf.argmax(model.predict(tf.expand_dims(x_test[i], 0)), axis=1)\n",
        "    print(result.numpy(), y_test[i])\n"
      ],
      "metadata": {
        "id": "fgIiNFjay2bC",
        "outputId": "3907435f-6a23-40b7-bca1-307bc441c6c4",
        "colab": {
          "base_uri": "https://localhost:8080/"
        }
      },
      "execution_count": 1,
      "outputs": [
        {
          "output_type": "stream",
          "name": "stdout",
          "text": [
            "Model: \"sequential\"\n",
            "_________________________________________________________________\n",
            " Layer (type)                Output Shape              Param #   \n",
            "=================================================================\n",
            " gru (GRU)                   (None, 64)                18048     \n",
            "                                                                 \n",
            " batch_normalization (Batch  (None, 64)                256       \n",
            " Normalization)                                                  \n",
            "                                                                 \n",
            " dense (Dense)               (None, 10)                650       \n",
            "                                                                 \n",
            "=================================================================\n",
            "Total params: 18954 (74.04 KB)\n",
            "Trainable params: 18826 (73.54 KB)\n",
            "Non-trainable params: 128 (512.00 Byte)\n",
            "_________________________________________________________________\n",
            "None\n",
            "Downloading data from https://storage.googleapis.com/tensorflow/tf-keras-datasets/mnist.npz\n",
            "11490434/11490434 [==============================] - 0s 0us/step\n",
            "Epoch 1/10\n",
            "938/938 [==============================] - 30s 25ms/step - loss: 1.4217 - accuracy: 0.5189 - val_loss: 1.0014 - val_accuracy: 0.6671\n",
            "Epoch 2/10\n",
            "938/938 [==============================] - 19s 20ms/step - loss: 0.8221 - accuracy: 0.7352 - val_loss: 0.6432 - val_accuracy: 0.7941\n",
            "Epoch 3/10\n",
            "938/938 [==============================] - 17s 18ms/step - loss: 0.5310 - accuracy: 0.8333 - val_loss: 0.3967 - val_accuracy: 0.8770\n",
            "Epoch 4/10\n",
            "938/938 [==============================] - 17s 18ms/step - loss: 0.3654 - accuracy: 0.8881 - val_loss: 0.4545 - val_accuracy: 0.8459\n",
            "Epoch 5/10\n",
            "938/938 [==============================] - 18s 20ms/step - loss: 0.2769 - accuracy: 0.9161 - val_loss: 0.2614 - val_accuracy: 0.9171\n",
            "Epoch 6/10\n",
            "938/938 [==============================] - 17s 19ms/step - loss: 0.2260 - accuracy: 0.9310 - val_loss: 0.3771 - val_accuracy: 0.8706\n",
            "Epoch 7/10\n",
            "938/938 [==============================] - 18s 20ms/step - loss: 0.1951 - accuracy: 0.9394 - val_loss: 0.2216 - val_accuracy: 0.9280\n",
            "Epoch 8/10\n",
            "938/938 [==============================] - 17s 19ms/step - loss: 0.1726 - accuracy: 0.9471 - val_loss: 0.1768 - val_accuracy: 0.9436\n",
            "Epoch 9/10\n",
            "938/938 [==============================] - 20s 21ms/step - loss: 0.1550 - accuracy: 0.9524 - val_loss: 0.1604 - val_accuracy: 0.9478\n",
            "Epoch 10/10\n",
            "938/938 [==============================] - 17s 18ms/step - loss: 0.1421 - accuracy: 0.9566 - val_loss: 0.1541 - val_accuracy: 0.9506\n"
          ]
        },
        {
          "output_type": "stream",
          "name": "stderr",
          "text": [
            "/usr/local/lib/python3.10/dist-packages/keras/src/engine/training.py:3103: UserWarning: You are saving your model as an HDF5 file via `model.save()`. This file format is considered legacy. We recommend using instead the native Keras format, e.g. `model.save('my_model.keras')`.\n",
            "  saving_api.save_model(\n"
          ]
        },
        {
          "output_type": "stream",
          "name": "stdout",
          "text": [
            "1/1 [==============================] - 0s 459ms/step\n",
            "[7] 7\n",
            "1/1 [==============================] - 0s 23ms/step\n",
            "[8] 8\n",
            "1/1 [==============================] - 0s 21ms/step\n",
            "[4] 9\n",
            "1/1 [==============================] - 0s 21ms/step\n",
            "[0] 0\n",
            "1/1 [==============================] - 0s 23ms/step\n",
            "[1] 1\n",
            "1/1 [==============================] - 0s 20ms/step\n",
            "[2] 2\n",
            "1/1 [==============================] - 0s 21ms/step\n",
            "[3] 3\n",
            "1/1 [==============================] - 0s 21ms/step\n",
            "[4] 4\n",
            "1/1 [==============================] - 0s 22ms/step\n",
            "[5] 5\n",
            "1/1 [==============================] - 0s 23ms/step\n",
            "[6] 6\n"
          ]
        }
      ]
    },
    {
      "cell_type": "code",
      "source": [
        "from tensorflow.keras.models import load_model\n",
        "\n",
        "model = load_model('/content/trained_gru_model.h5')\n"
      ],
      "metadata": {
        "id": "1lunkbwj5TbJ"
      },
      "execution_count": 17,
      "outputs": []
    },
    {
      "cell_type": "code",
      "source": [
        "import numpy as np\n",
        "\n",
        "def prepare_input(audio_file):\n",
        "    \"\"\"\n",
        "    Prepare input data for the GRU model.\n",
        "\n",
        "    Parameters:\n",
        "        audio_file (str): Path to the preprocessed audio data file (in .npy format).\n",
        "\n",
        "    Returns:\n",
        "        np.ndarray: Preprocessed input data.\n",
        "    \"\"\"\n",
        "    preprocessed_audio = np.load(audio_file)\n",
        "\n",
        "    input_data = np.expand_dims(preprocessed_audio, axis=0)  # Add batch dimension\n",
        "\n",
        "    return input_data\n",
        "input_data = prepare_input('/content/preprocessed_audio 2.npy')\n"
      ],
      "metadata": {
        "id": "lVsFSXoA55ss"
      },
      "execution_count": 16,
      "outputs": []
    },
    {
      "cell_type": "code",
      "source": [
        "def predict_class(input_data):\n",
        "    \"\"\"\n",
        "    Perform model inference and predict class label.\n",
        "\n",
        "    Parameters:\n",
        "        input_data (np.ndarray): Preprocessed input data.\n",
        "\n",
        "    Returns:\n",
        "        np.ndarray: Model prediction.\n",
        "    \"\"\"\n",
        "    prediction = model.predict(input_data)\n",
        "\n",
        "    return prediction\n"
      ],
      "metadata": {
        "id": "HP43f5j76gob"
      },
      "execution_count": 15,
      "outputs": []
    },
    {
      "cell_type": "code",
      "source": [
        "def interpret_prediction(prediction):\n",
        "    \"\"\"\n",
        "    Interpret the model prediction.\n",
        "\n",
        "    Parameters:\n",
        "        prediction (np.ndarray): Model prediction.\n",
        "    \"\"\"\n",
        "    print(\"Predicted class:\", prediction)\n"
      ],
      "metadata": {
        "id": "iWJEPtzw6k5f"
      },
      "execution_count": 14,
      "outputs": []
    },
    {
      "cell_type": "code",
      "source": [
        "import numpy as np\n",
        "import librosa\n",
        "\n",
        "def extract_mfcc(audio_file):\n",
        "    pass\n",
        "\n",
        "def validate_audio(audio_file):\n",
        "    pass\n",
        "\n",
        "validate_audio('/content/drive/MyDrive/AUDIO FOLDER/output_3.wav')\n"
      ],
      "metadata": {
        "id": "yQcIQFko8xSm"
      },
      "execution_count": 13,
      "outputs": []
    }
  ]
}