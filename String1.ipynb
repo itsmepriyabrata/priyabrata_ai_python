{
  "nbformat": 4,
  "nbformat_minor": 0,
  "metadata": {
    "colab": {
      "provenance": [],
      "authorship_tag": "ABX9TyMj9+xWeBgeb67VY0U4O/Ij",
      "include_colab_link": true
    },
    "kernelspec": {
      "name": "python3",
      "display_name": "Python 3"
    },
    "language_info": {
      "name": "python"
    }
  },
  "cells": [
    {
      "cell_type": "markdown",
      "metadata": {
        "id": "view-in-github",
        "colab_type": "text"
      },
      "source": [
        "<a href=\"https://colab.research.google.com/github/itsmepriyabrata/priyabrata_ai_python/blob/main/String1.ipynb\" target=\"_parent\"><img src=\"https://colab.research.google.com/assets/colab-badge.svg\" alt=\"Open In Colab\"/></a>"
      ]
    },
    {
      "cell_type": "code",
      "source": [
        "def is_symmetrical(string):\n",
        "    return string == string[::-1]\n",
        "\n",
        "def is_palindrome(string):\n",
        "    string = ''.join(string.split()).lower()  # Removing spaces and converting to lowercase\n",
        "    return is_symmetrical(string)\n",
        "\n",
        "# Test the functions\n",
        "string = input(\"Enter a string: \")\n",
        "if is_symmetrical(string):\n",
        "    print(\"The string is symmetrical.\")\n",
        "else:\n",
        "    print(\"The string is not symmetrical.\")\n",
        "\n",
        "if is_palindrome(string):\n",
        "    print(\"The string is a palindrome.\")\n",
        "else:\n",
        "    print(\"The string is not a palindrome.\")\n"
      ],
      "metadata": {
        "colab": {
          "base_uri": "https://localhost:8080/"
        },
        "id": "VAszCH0LkdvZ",
        "outputId": "bb371581-3a49-45f4-fb80-eadc3fe3af26"
      },
      "execution_count": 2,
      "outputs": [
        {
          "output_type": "stream",
          "name": "stdout",
          "text": [
            "Enter a string: amama\n",
            "The string is symmetrical.\n",
            "The string is a palindrome.\n"
          ]
        }
      ]
    }
  ]
}