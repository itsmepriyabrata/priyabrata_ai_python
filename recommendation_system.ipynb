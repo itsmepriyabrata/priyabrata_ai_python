{
  "nbformat": 4,
  "nbformat_minor": 0,
  "metadata": {
    "colab": {
      "provenance": [],
      "authorship_tag": "ABX9TyOxereTqBsBkK+/yoJoGI6q",
      "include_colab_link": true
    },
    "kernelspec": {
      "name": "python3",
      "display_name": "Python 3"
    },
    "language_info": {
      "name": "python"
    }
  },
  "cells": [
    {
      "cell_type": "markdown",
      "metadata": {
        "id": "view-in-github",
        "colab_type": "text"
      },
      "source": [
        "<a href=\"https://colab.research.google.com/github/itsmepriyabrata/priyabrata_ai_python/blob/main/recommendation_system.ipynb\" target=\"_parent\"><img src=\"https://colab.research.google.com/assets/colab-badge.svg\" alt=\"Open In Colab\"/></a>"
      ]
    },
    {
      "cell_type": "markdown",
      "source": [
        "collaborative flitering"
      ],
      "metadata": {
        "id": "OPtM32XU28LY"
      }
    },
    {
      "cell_type": "code",
      "source": [
        "from surprise import KNNBasic\n",
        "from surprise import Dataset\n",
        "from surprise import Reader\n",
        "from surprise.model_selection import train_test_split\n",
        "from surprise import accuracy\n",
        "\n",
        "data = Dataset.load_builtin('ml-100k')\n",
        "trainset, testset = train_test_split(data, test_size=0.25)\n",
        "\n",
        "sim_options = {\n",
        "    'name': 'cosine',\n",
        "    'user_based': True\n",
        "}\n",
        "\n",
        "algo = KNNBasic(sim_options=sim_options)\n",
        "algo.fit(trainset)\n",
        "predictions = algo.test(testset)\n",
        "accuracy.rmse(predictions)\n",
        "\n",
        "user_id = str(196)\n",
        "item_id = str(302)\n",
        "pred = algo.predict(user_id, item_id, r_ui=4, verbose=True)\n"
      ],
      "metadata": {
        "id": "mcXzMS9x27ee"
      },
      "execution_count": null,
      "outputs": []
    },
    {
      "cell_type": "markdown",
      "source": [
        "Content-based filtering"
      ],
      "metadata": {
        "id": "f_MCdcDy3FSj"
      }
    },
    {
      "cell_type": "code",
      "source": [
        "import pandas as pd\n",
        "from sklearn.feature_extraction.text import TfidfVectorizer\n",
        "from sklearn.metrics.pairwise import linear_kernel\n",
        "\n",
        "movies = {\n",
        "    'title': ['The Matrix', 'The Matrix Reloaded', 'The Matrix Revolutions', 'The Godfather', 'The Dark Knight', 'Inception'],\n",
        "    'genre': ['Action, Sci-Fi', 'Action, Sci-Fi', 'Action, Sci-Fi', 'Crime, Drama', 'Action, Crime, Drama', 'Action, Adventure, Sci-Fi']\n",
        "}\n",
        "\n",
        "df = pd.DataFrame(movies)\n",
        "print(\"Movie DataFrame:\")\n",
        "print(df)\n",
        "\n",
        "tfidf = TfidfVectorizer(stop_words='english')\n",
        "tfidf_matrix = tfidf.fit_transform(df['genre'])\n",
        "cosine_sim = linear_kernel(tfidf_matrix, tfidf_matrix)\n",
        "print(\"\\nCosine Similarity Matrix:\")\n",
        "print(cosine_sim)\n",
        "\n",
        "def get_recommendations(title, cosine_sim=cosine_sim):\n",
        "    idx = df[df['title'] == title].index[0]\n",
        "    sim_scores = list(enumerate(cosine_sim[idx]))\n",
        "    sim_scores = sorted(sim_scores, key=lambda x: x[1], reverse=True)\n",
        "    sim_scores = sim_scores[1:4]\n",
        "    movie_indices = [i[0] for i in sim_scores]\n",
        "    return df['title'].iloc[movie_indices]\n",
        "\n",
        "recommendations = get_recommendations('The Matrix')\n",
        "print(\"\\nRecommendations for 'The Matrix':\")\n",
        "print(recommendations)\n"
      ],
      "metadata": {
        "colab": {
          "base_uri": "https://localhost:8080/"
        },
        "id": "irC9AyZ63sQj",
        "outputId": "0bd7b74e-b495-43fa-8bb6-2d7716f377de"
      },
      "execution_count": 4,
      "outputs": [
        {
          "output_type": "stream",
          "name": "stdout",
          "text": [
            "Movie DataFrame:\n",
            "                    title                      genre\n",
            "0              The Matrix             Action, Sci-Fi\n",
            "1     The Matrix Reloaded             Action, Sci-Fi\n",
            "2  The Matrix Revolutions             Action, Sci-Fi\n",
            "3           The Godfather               Crime, Drama\n",
            "4         The Dark Knight       Action, Crime, Drama\n",
            "5               Inception  Action, Adventure, Sci-Fi\n",
            "\n",
            "Cosine Similarity Matrix:\n",
            "[[1.         1.         1.         0.         0.21060348 0.701038  ]\n",
            " [1.         1.         1.         0.         0.21060348 0.701038  ]\n",
            " [1.         1.         1.         0.         0.21060348 0.701038  ]\n",
            " [0.         0.         0.         1.         0.91471225 0.        ]\n",
            " [0.21060348 0.21060348 0.21060348 0.91471225 1.         0.14764104]\n",
            " [0.701038   0.701038   0.701038   0.         0.14764104 1.        ]]\n",
            "\n",
            "Recommendations for 'The Matrix':\n",
            "1       The Matrix Reloaded\n",
            "2    The Matrix Revolutions\n",
            "5                 Inception\n",
            "Name: title, dtype: object\n"
          ]
        }
      ]
    },
    {
      "cell_type": "markdown",
      "source": [
        "Matrix factorization techniques"
      ],
      "metadata": {
        "id": "lyGNbXZJ3vil"
      }
    },
    {
      "cell_type": "code",
      "source": [
        "import numpy as np\n",
        "\n",
        "class MatrixFactorization:\n",
        "    def __init__(self, R, K, alpha, beta, iterations):\n",
        "        self.R = R\n",
        "        self.num_users, self.num_items = R.shape\n",
        "        self.K = K\n",
        "        self.alpha = alpha\n",
        "        self.beta = beta\n",
        "        self.iterations = iterations\n",
        "\n",
        "    def train(self):\n",
        "        self.P = np.random.normal(scale=1./self.K, size=(self.num_users, self.K))\n",
        "        self.Q = np.random.normal(scale=1./self.K, size=(self.num_items, self.K))\n",
        "        self.b_u = np.zeros(self.num_users)\n",
        "        self.b_i = np.zeros(self.num_items)\n",
        "        self.b = np.mean(self.R[np.where(self.R != 0)])\n",
        "        self.samples = [(i, j, self.R[i, j]) for i in range(self.num_users) for j in range(self.num_items) if self.R[i, j] > 0]\n",
        "        training_process = []\n",
        "        for i in range(self.iterations):\n",
        "            np.random.shuffle(self.samples)\n",
        "            self.sgd()\n",
        "            mse = self.mse()\n",
        "            training_process.append((i, mse))\n",
        "        return training_process\n",
        "\n",
        "    def mse(self):\n",
        "        xs, ys = self.R.nonzero()\n",
        "        predicted = self.full_matrix()\n",
        "        error = 0\n",
        "        for x, y in zip(xs, ys):\n",
        "            error += pow(self.R[x, y] - predicted[x, y], 2)\n",
        "        return np.sqrt(error)\n",
        "\n",
        "    def sgd(self):\n",
        "        for i, j, r in self.samples:\n",
        "            prediction = self.get_prediction(i, j)\n",
        "            e = (r - prediction)\n",
        "            self.b_u[i] += self.alpha * (e - self.beta * self.b_u[i])\n",
        "            self.b_i[j] += self.alpha * (e - self.beta * self.b_i[j])\n",
        "            self.P[i, :] += self.alpha * (e * self.Q[j, :] - self.beta * self.P[i, :])\n",
        "            self.Q[j, :] += self.alpha * (e * self.P[i, :] - self.beta * self.Q[j, :])\n",
        "\n",
        "    def get_prediction(self, i, j):\n",
        "        prediction = self.b + self.b_u[i] + self.b_i[j] + self.P[i, :].dot(self.Q[j, :].T)\n",
        "        return prediction\n",
        "\n",
        "    def full_matrix(self):\n",
        "        return self.b + self.b_u[:, np.newaxis] + self.b_i[np.newaxis:, ] + self.P.dot(self.Q.T)\n",
        "\n",
        "R = np.array([\n",
        "    [5, 3, 0, 1],\n",
        "    [4, 0, 0, 1],\n",
        "    [1, 1, 0, 5],\n",
        "    [1, 0, 0, 4],\n",
        "    [0, 1, 5, 4],\n",
        "])\n",
        "\n",
        "mf = MatrixFactorization(R, K=2, alpha=0.1, beta=0.01, iterations=20)\n",
        "training_process = mf.train()\n",
        "print(mf.full_matrix())\n"
      ],
      "metadata": {
        "colab": {
          "base_uri": "https://localhost:8080/"
        },
        "id": "R8dLDxjI31ei",
        "outputId": "a45acf5f-2383-4cdd-de54-894c1755ee1d"
      },
      "execution_count": 5,
      "outputs": [
        {
          "output_type": "stream",
          "name": "stdout",
          "text": [
            "[[5.05723399 2.78316384 7.14249152 1.0587515 ]\n",
            " [3.89254245 1.6218153  5.78247828 1.00649681]\n",
            " [1.12315857 0.72153566 2.74280182 5.01059543]\n",
            " [0.99726485 0.34352795 2.65129873 3.98273841]\n",
            " [2.87701184 1.62466409 4.58310464 3.88803962]]\n"
          ]
        }
      ]
    }
  ]
}