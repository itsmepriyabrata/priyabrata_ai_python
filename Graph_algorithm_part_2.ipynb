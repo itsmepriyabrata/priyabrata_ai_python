{
  "nbformat": 4,
  "nbformat_minor": 0,
  "metadata": {
    "colab": {
      "provenance": [],
      "authorship_tag": "ABX9TyOnx53GNA8yE3UAw0T5tOYc",
      "include_colab_link": true
    },
    "kernelspec": {
      "name": "python3",
      "display_name": "Python 3"
    },
    "language_info": {
      "name": "python"
    }
  },
  "cells": [
    {
      "cell_type": "markdown",
      "metadata": {
        "id": "view-in-github",
        "colab_type": "text"
      },
      "source": [
        "<a href=\"https://colab.research.google.com/github/itsmepriyabrata/priyabrata_ai_python/blob/main/Graph_algorithm_part_2.ipynb\" target=\"_parent\"><img src=\"https://colab.research.google.com/assets/colab-badge.svg\" alt=\"Open In Colab\"/></a>"
      ]
    },
    {
      "cell_type": "markdown",
      "source": [
        "Graph attention networks"
      ],
      "metadata": {
        "id": "gv3T8cLsnMx1"
      }
    },
    {
      "cell_type": "code",
      "source": [
        "import tensorflow as tf\n",
        "\n",
        "class GATConv(tf.keras.layers.Layer):\n",
        "  \"\"\"\n",
        "  A single Graph Attention Network (GAT) layer implementation in TensorFlow.\n",
        "  \"\"\"\n",
        "  def __init__(self, in_features, out_features, num_heads=1, concat=True, **kwargs):\n",
        "    super(GATConv, self).__init__(**kwargs)\n",
        "    self.in_features = in_features\n",
        "    self.out_features = out_features\n",
        "    self.num_heads = num_heads\n",
        "    self.concat = concat\n",
        "\n",
        "    self.W = tf.keras.layers.Dense(out_features * num_heads, use_bias=False)\n",
        "\n",
        "    self.a = tf.keras.layers.Dense(1, use_bias=True)\n",
        "\n",
        "    self.leaky_relu = tf.keras.layers.LeakyReLU(alpha=0.2)\n",
        "\n",
        "  def call(self, inputs, training=None):\n",
        "    \"\"\"\n",
        "    Forward pass of the GAT layer.\n",
        "\n",
        "    Args:\n",
        "        inputs: A tuple of tensors representing (node features, adjacency matrix).\n",
        "        training: Boolean indicating training mode (optional).\n",
        "\n",
        "    Returns:\n",
        "        A tensor representing the output features of the GAT layer.\n",
        "    \"\"\"\n",
        "    node_features, adj_matrix = inputs\n",
        "\n",
        "    Wh = tf.split(self.W(node_features), self.num_heads, axis=-1)\n",
        "\n",
        "    if adj_matrix.shape[-1] != Wh[0].shape[-1]:\n",
        "      adj_matrix = tf.reshape(adj_matrix, (-1, 1, adj_matrix.shape[-1]))  # Add a dimension\n",
        "      adj_matrix = tf.cast(adj_matrix, dtype=Wh[0].dtype)  # Cast to match Wh's data type\n",
        "\n",
        "    a_input = tf.concat([tf.expand_dims(Wh[i], axis=1) for i in range(self.num_heads)], axis=-1)\n",
        "    a_input = tf.concat([a_input, adj_matrix], axis=-1)\n",
        "    e = self.leaky_relu(self.a(a_input))\n",
        "\n",
        "    attention = tf.nn.softmax(e, axis=-2)\n",
        "\n",
        "    output = tf.matmul(attention, tf.transpose(Wh[0], perm=[0, 2, 1]))\n",
        "    for i in range(1, self.num_heads):\n",
        "      output = tf.concat([output, tf.matmul(attention, tf.transpose(Wh[i], perm=[0, 2, 1]))], axis=-1)\n",
        "\n",
        "    if self.concat:\n",
        "      output = tf.concat(output, axis=-1)\n",
        "\n",
        "    return output\n",
        "\n",
        "node_features = tf.random.uniform((10, 5))  # Replace with your actual data\n",
        "adj_matrix = tf.ones((10, 10))  # Replace with your actual adjacency matrix (ensure compatible shape)\n",
        "\n",
        "try:\n",
        "  gat_layer = GATConv(5, 10, num_heads=2)\n",
        "  output = gat_layer((node_features, adj_matrix))\n",
        "  print(output.shape)\n",
        "except Exception as e:\n",
        "  print(f\"An error occurred: {e}\")\n"
      ],
      "metadata": {
        "colab": {
          "base_uri": "https://localhost:8080/"
        },
        "id": "HnM070yzmf1R",
        "outputId": "038a1657-256d-467d-abcf-4bb843d3b142"
      },
      "execution_count": 3,
      "outputs": [
        {
          "output_type": "stream",
          "name": "stdout",
          "text": [
            "An error occurred: Exception encountered when calling layer 'gat_conv_2' (type GATConv).\n",
            "\n",
            "{{function_node __wrapped__ConcatV2_N_2_device_/job:localhost/replica:0/task:0/device:CPU:0}} ConcatOp : Ranks of all input tensors should match: shape[0] = [10,1,20] vs. shape[1] = [10,10] [Op:ConcatV2] name: concat\n",
            "\n",
            "Call arguments received by layer 'gat_conv_2' (type GATConv):\n",
            "  • inputs=('tf.Tensor(shape=(10, 5), dtype=float32)', 'tf.Tensor(shape=(10, 10), dtype=float32)')\n",
            "  • training=None\n"
          ]
        }
      ]
    },
    {
      "cell_type": "markdown",
      "source": [
        "GraphSAGE"
      ],
      "metadata": {
        "id": "3QBa3-8wnTI8"
      }
    },
    {
      "cell_type": "code",
      "source": [
        "import tensorflow as tf\n",
        "\n",
        "class GraphSAGEConv(tf.keras.layers.Layer):\n",
        "  \"\"\"\n",
        "  A GraphSAGE convolutional layer implementation in TensorFlow.\n",
        "  \"\"\"\n",
        "  def __init__(self, in_features, out_features, aggregate_func=\"mean\", bias=False, **kwargs):\n",
        "    super(GraphSAGEConv, self).__init__(**kwargs)\n",
        "    self.in_features = in_features\n",
        "    self.out_features = out_features\n",
        "    self.aggregate_func = aggregate_func\n",
        "    self.bias = bias\n",
        "\n",
        "    self.W = tf.keras.layers.Dense(out_features, use_bias=bias)\n",
        "\n",
        "  def call(self, inputs, training=None):\n",
        "    \"\"\"\n",
        "    Forward pass of the GraphSAGE layer.\n",
        "\n",
        "    Args:\n",
        "        inputs: A tuple of tensors representing (node features, neighbor features, sampling mask).\n",
        "        training: Boolean indicating training mode (optional).\n",
        "\n",
        "    Returns:\n",
        "        A tensor representing the aggregated node features.\n",
        "    \"\"\"\n",
        "    node_features, neighbor_features, mask = inputs\n",
        "\n",
        "    self_transformed_features = self.W(node_features)\n",
        "\n",
        "    if self.aggregate_func == \"mean\":\n",
        "      aggregated_features = tf.math.reduce_mean(neighbor_features * mask, axis=1)\n",
        "    elif self.aggregate_func == \"sum\":\n",
        "      aggregated_features = tf.math.reduce_sum(neighbor_features * mask, axis=1)\n",
        "    else:\n",
        "      raise ValueError(f\"Invalid aggregate function: {self.aggregate_func}\")\n",
        "\n",
        "    combined_features = tf.concat([self_transformed_features, aggregated_features], axis=-1)\n",
        "\n",
        "    output = tf.nn.relu(combined_features)\n",
        "    return output\n",
        "\n",
        "class GraphSAGE(tf.keras.Model):\n",
        "  \"\"\"\n",
        "  A basic GraphSAGE model with multiple convolutional layers.\n",
        "  \"\"\"\n",
        "  def __init__(self, input_dim, hidden_dim, output_dim, num_layers=2, aggregate_func=\"mean\", **kwargs):\n",
        "    super(GraphSAGE, self).__init__(**kwargs)\n",
        "    self.layers = []\n",
        "\n",
        "    self.layers.append(GraphSAGEConv(input_dim, hidden_dim, aggregate_func=aggregate_func))\n",
        "\n",
        "    for _ in range(1, num_layers):\n",
        "      self.layers.append(GraphSAGEConv(hidden_dim, hidden_dim, aggregate_func=aggregate_func))\n",
        "\n",
        "    self.layers.append(GraphSAGEConv(hidden_dim, output_dim, aggregate_func=\"mean\"))\n",
        "\n",
        "  def call(self, inputs, training=None):\n",
        "    \"\"\"\n",
        "    Forward pass of the GraphSAGE model.\n",
        "\n",
        "    Args:\n",
        "        inputs: A tuple of tensors representing (node features, neighbor features list, sampling mask list).\n",
        "        training: Boolean indicating training mode (optional).\n",
        "\n",
        "    Returns:\n",
        "        A tensor representing the node embeddings.\n",
        "    \"\"\"\n",
        "    node_features = inputs[0]\n",
        "    neighbor_features_list, sampling_mask_list = inputs[1:]\n",
        "\n",
        "    hidden_features = node_features\n",
        "    for layer, neighbor_features, sampling_mask in zip(self.layers, neighbor_features_list, sampling_mask_list):\n",
        "      hidden_features = layer((hidden_features, neighbor_features, sampling_mask))\n",
        "\n",
        "    return hidden_features\n",
        "\n",
        "def sample_neighbors(adj_matrix, num_neighbors):\n",
        "  neighbor_indices = tf.random.uniform((adj_matrix.shape[0], num_neighbors), minval=0, maxval=adj_matrix.shape[0], dtype=tf.int32)\n",
        "  neighbor_features = tf.gather(adj_matrix, neighbor_indices, axis=-1)\n",
        "  return neighbor_features\n",
        "\n",
        "node_features = tf.random.uniform((10, 5))  # Replace with your actual data\n",
        "adj_matrix = tf.ones((10, 10))  # Replace with your actual adjacency matrix\n",
        "\n"
      ],
      "metadata": {
        "id": "xQPeNd7dnYf4"
      },
      "execution_count": 4,
      "outputs": []
    },
    {
      "cell_type": "markdown",
      "source": [
        "Graph isomorphism networks"
      ],
      "metadata": {
        "id": "5jWRJ0n4n4Vq"
      }
    },
    {
      "cell_type": "code",
      "source": [
        "import tensorflow as tf\n",
        "\n",
        "class GINConv(tf.keras.layers.Layer):\n",
        "  \"\"\"\n",
        "  A single Graph Isomorphism Network (GINConv) layer implementation in TensorFlow.\n",
        "  \"\"\"\n",
        "  def __init__(self, in_features, out_features, **kwargs):\n",
        "    super(GINConv, self).__init__(**kwargs)\n",
        "    self.in_features = in_features\n",
        "    self.out_features = out_features\n",
        "\n",
        "    self.w1 = tf.keras.layers.Dense(out_features, use_bias=False)  # For message passing\n",
        "    self.w2 = tf.keras.layers.Dense(out_features, use_bias=False)  # For updating node features\n",
        "\n",
        "    self.act = tf.keras.activations.relu\n",
        "\n",
        "  def call(self, inputs, training=None):\n",
        "    \"\"\"\n",
        "    Forward pass of the GINConv layer.\n",
        "\n",
        "    Args:\n",
        "        inputs: A tuple of tensors representing (node features, adjacency matrix).\n",
        "        training: Boolean indicating training mode (optional).\n",
        "\n",
        "    Returns:\n",
        "        A tensor representing the updated node features after message passing.\n",
        "    \"\"\"\n",
        "    node_features, adj_matrix = inputs\n",
        "\n",
        "    message = tf.matmul(adj_matrix, self.w1(node_features))\n",
        "    message = self.act(message)\n",
        "\n",
        "    output = self.w2(node_features) + message\n",
        "\n",
        "    return output\n",
        "\n",
        "node_features = tf.random.uniform((10, 5))\n",
        "adj_matrix = tf.ones((10, 10))\n",
        "gin_conv = GINConv(5, 10)\n",
        "output = gin_conv((node_features, adj_matrix))\n",
        "print(output.shape)"
      ],
      "metadata": {
        "colab": {
          "base_uri": "https://localhost:8080/"
        },
        "id": "IZffG5v-uJ67",
        "outputId": "065ef29c-e2bc-42c3-a95e-a3120b3d97b3"
      },
      "execution_count": 7,
      "outputs": [
        {
          "output_type": "stream",
          "name": "stdout",
          "text": [
            "(10, 10)\n"
          ]
        }
      ]
    },
    {
      "cell_type": "markdown",
      "source": [
        "Random Walk"
      ],
      "metadata": {
        "id": "BjdIsgcjvO_R"
      }
    },
    {
      "cell_type": "code",
      "source": [
        "import random\n",
        "\n",
        "class Graph:\n",
        "  \"\"\"\n",
        "  A simple graph data structure using an adjacency list representation.\n",
        "  \"\"\"\n",
        "  def __init__(self):\n",
        "    self.adj_list = {}\n",
        "\n",
        "  def add_edge(self, source, destination):\n",
        "    \"\"\"\n",
        "    Adds a directed edge from source node to destination node.\n",
        "    \"\"\"\n",
        "    if source not in self.adj_list:\n",
        "      self.adj_list[source] = []\n",
        "    self.adj_list[source].append(destination)\n",
        "\n",
        "  def random_walk(self, start_node, num_steps):\n",
        "    \"\"\"\n",
        "    Performs a random walk on the graph starting from a given node\n",
        "    and taking a specified number of steps.\n",
        "\n",
        "    Args:\n",
        "        start_node: The node to start the walk from.\n",
        "        num_steps: The number of steps to take in the walk.\n",
        "\n",
        "    Returns:\n",
        "        A list of nodes visited during the random walk.\n",
        "    \"\"\"\n",
        "    walk = [start_node]\n",
        "    current_node = start_node\n",
        "    for _ in range(num_steps):\n",
        "      if current_node not in self.adj_list:\n",
        "        break  # No neighbors, end the walk\n",
        "      next_node = random.choice(self.adj_list[current_node])\n",
        "      walk.append(next_node)\n",
        "      current_node = next_node\n",
        "    return walk\n",
        "\n",
        "graph = Graph()\n",
        "graph.add_edge(\"A\", \"B\")\n",
        "graph.add_edge(\"A\", \"C\")\n",
        "graph.add_edge(\"B\", \"D\")\n",
        "graph.add_edge(\"C\", \"E\")\n",
        "\n",
        "start_node = \"A\"\n",
        "num_steps = 5\n",
        "\n",
        "walk = graph.random_walk(start_node, num_steps)\n",
        "print(f\"Random walk from {start_node} for {num_steps} steps: {walk}\")\n"
      ],
      "metadata": {
        "colab": {
          "base_uri": "https://localhost:8080/"
        },
        "id": "_D8GukZjvVXH",
        "outputId": "5f470dd3-6404-40d0-a266-57a9169e6525"
      },
      "execution_count": 8,
      "outputs": [
        {
          "output_type": "stream",
          "name": "stdout",
          "text": [
            "Random walk from A for 5 steps: ['A', 'B', 'D']\n"
          ]
        }
      ]
    },
    {
      "cell_type": "markdown",
      "source": [
        "community detection algorithms"
      ],
      "metadata": {
        "id": "EVLSJgQOwilo"
      }
    },
    {
      "cell_type": "code",
      "source": [
        "!pip install --upgrade networkx\n",
        "\n",
        "import networkx as nx\n",
        "\n",
        "graph = nx.Graph()\n",
        "graph.add_edge(\"A\", \"B\")\n",
        "graph.add_edge(\"A\", \"C\")\n",
        "graph.add_edge(\"B\", \"D\")\n",
        "graph.add_edge(\"C\", \"E\")\n",
        "graph.add_edge(\"D\", \"E\")\n",
        "graph.add_edge(\"E\", \"F\")\n",
        "graph.add_edge(\"B\", \"F\")\n",
        "\n",
        "def modularity(graph, communities):\n",
        "  total_edges = graph.number_of_edges()\n",
        "  mod = 0\n",
        "  for community in communities:\n",
        "    for i in community:\n",
        "      for j in community:\n",
        "        if graph.has_edge(i, j):\n",
        "          mod += 1 / (2 * total_edges) - (graph.degree[i] * graph.degree[j]) / (2 * total_edges**2)\n",
        "  return mod\n",
        "\n",
        "communities = list(nx.community.greedy_modularity_communities(graph))\n",
        "\n",
        "print(\"Detected communities:\")\n",
        "for i, community in enumerate(communities):\n",
        "  print(f\"Community {i+1}: {community}\")"
      ],
      "metadata": {
        "colab": {
          "base_uri": "https://localhost:8080/"
        },
        "id": "wEq1GAX7x0PY",
        "outputId": "11ea1516-fe4d-492a-e16b-400068de775e"
      },
      "execution_count": 10,
      "outputs": [
        {
          "output_type": "stream",
          "name": "stdout",
          "text": [
            "Requirement already satisfied: networkx in /usr/local/lib/python3.10/dist-packages (3.3)\n",
            "Detected communities:\n",
            "Community 1: frozenset({'D', 'E', 'B', 'F'})\n",
            "Community 2: frozenset({'A', 'C'})\n"
          ]
        }
      ]
    }
  ]
}