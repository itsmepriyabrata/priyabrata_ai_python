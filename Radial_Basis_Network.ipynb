{
  "nbformat": 4,
  "nbformat_minor": 0,
  "metadata": {
    "colab": {
      "provenance": [],
      "authorship_tag": "ABX9TyMuFITIQvQH3f43WekQ9NZ/",
      "include_colab_link": true
    },
    "kernelspec": {
      "name": "python3",
      "display_name": "Python 3"
    },
    "language_info": {
      "name": "python"
    }
  },
  "cells": [
    {
      "cell_type": "markdown",
      "metadata": {
        "id": "view-in-github",
        "colab_type": "text"
      },
      "source": [
        "<a href=\"https://colab.research.google.com/github/itsmepriyabrata/priyabrata_ai_python/blob/main/Radial_Basis_Network.ipynb\" target=\"_parent\"><img src=\"https://colab.research.google.com/assets/colab-badge.svg\" alt=\"Open In Colab\"/></a>"
      ]
    },
    {
      "cell_type": "code",
      "execution_count": 6,
      "metadata": {
        "colab": {
          "base_uri": "https://localhost:8080/"
        },
        "id": "9ELpHbPNrxGj",
        "outputId": "03e87481-1c62-4521-8a1a-ff1b70f6142c"
      },
      "outputs": [
        {
          "output_type": "stream",
          "name": "stdout",
          "text": [
            "Prediction for Puri: Low Financial Risk\n",
            "Prediction for Cuttack: High Financial Risk\n",
            "Prediction for Khurda: Low Financial Risk\n"
          ]
        }
      ],
      "source": [
        " import numpy as np\n",
        "\n",
        "# Sample data related to financial risk assessment in Odisha\n",
        "# Features: [GDP Growth Rate (%), Inflation Rate (%), Debt-to-GDP Ratio (%)]\n",
        "X = np.array([[7.5, 4.2, 35.6], [6.8, 4.5, 38.2], [8.2, 4.0, 34.8], [6.5, 4.8, 40.5], [7.9, 4.3, 36.7],\n",
        "              [6.7, 4.7, 39.3], [8.0, 4.1, 35.2], [7.3, 4.4, 37.8], [8.5, 3.9, 33.6], [7.1, 4.6, 38.9]])\n",
        "\n",
        "# Binary labels: 0 (low financial risk) or 1 (high financial risk)\n",
        "y = np.array([0, 1, 0, 1, 0, 1, 0, 1, 0, 1])\n",
        "\n",
        "district_names = [\"Puri\", \"Cuttack\", \"Khurda\", \"Balasore\", \"Sundargarh\",\n",
        "                  \"Kendrapara\", \"Bhadrak\", \"Angul\", \"Bolangir\", \"Jajpur\"]\n",
        "\n",
        "class RadialBasisNetwork:\n",
        "    def __init__(self, num_features, num_hidden_units):\n",
        "        self.num_features = num_features\n",
        "        self.num_hidden_units = num_hidden_units\n",
        "        self.centers = None\n",
        "        self.width = None\n",
        "        self.weights = None\n",
        "\n",
        "    def rbf_kernel(self, x, c, width):\n",
        "        return np.exp(-np.linalg.norm(x - c) / (2 * (width ** 2)))\n",
        "\n",
        "    def calculate_hidden_layer(self, X):\n",
        "        hidden_layer = np.zeros((X.shape[0], self.num_hidden_units))\n",
        "        for i, x in enumerate(X):\n",
        "            for j, c in enumerate(self.centers):\n",
        "                hidden_layer[i, j] = self.rbf_kernel(x, c, self.width[j])\n",
        "        return hidden_layer\n",
        "\n",
        "    def fit(self, X, y, num_centers=10):\n",
        "        self.width = np.zeros(self.num_hidden_units)\n",
        "        for i in range(self.num_hidden_units):\n",
        "            self.width[i] = np.std(X) / np.sqrt(2 * self.num_hidden_units)\n",
        "\n",
        "        self.centers = X[np.random.choice(X.shape[0], self.num_hidden_units, replace=False)]\n",
        "\n",
        "        hidden_layer = self.calculate_hidden_layer(X)\n",
        "        self.weights = np.dot(np.linalg.pinv(hidden_layer), y)\n",
        "\n",
        "    def predict(self, X):\n",
        "        hidden_layer = self.calculate_hidden_layer(X)\n",
        "        return np.dot(hidden_layer, self.weights)\n",
        "\n",
        "rbn = RadialBasisNetwork(num_features=X.shape[1], num_hidden_units=5)\n",
        "\n",
        "rbn.fit(X, y)\n",
        "\n",
        "new_data = np.array([[7.7, 4.0, 37.0], [6.9, 4.6, 39.5], [8.3, 4.2, 35.9]])\n",
        "\n",
        "predictions = rbn.predict(new_data)\n",
        "\n",
        "risk_assessment = [\"Low Financial Risk\" if pred < 0.5 else \"High Financial Risk\" for pred in predictions]\n",
        "\n",
        "for i in range(len(new_data)):\n",
        "    print(f\"Prediction for {district_names[i]}: {risk_assessment[i]}\")\n"
      ]
    },
    {
      "cell_type": "code",
      "source": [
        "import numpy as np\n",
        "\n",
        "# Sample data related to resource prioritization in Odisha\n",
        "# Features: [Population Density (people/km^2), Healthcare Facility Density (facilities/km^2), Disaster Risk Level]\n",
        "X = np.array([[300, 5, 0.1], [200, 3, 0.05], [400, 8, 0.2], [250, 4, 0.08], [350, 6, 0.12],\n",
        "              [180, 2, 0.03], [320, 7, 0.15], [280, 3, 0.07], [220, 5, 0.09], [400, 9, 0.25]])\n",
        "\n",
        "district_names = [\"Bhubaneswar\", \"Puri\", \"Cuttack\", \"Rourkela\", \"Sambalpur\",\n",
        "                  \"Baleshwar\", \"Berhampur\", \"Brahmapur\", \"Balangir\", \"Bhadrak\"]\n",
        "\n",
        "class RadialBasisNetwork:\n",
        "    def __init__(self, num_features, num_hidden_units):\n",
        "        self.num_features = num_features\n",
        "        self.num_hidden_units = num_hidden_units\n",
        "        self.centers = None\n",
        "        self.width = None\n",
        "        self.weights = None\n",
        "\n",
        "    def rbf_kernel(self, x, c, width):\n",
        "        return np.exp(-np.linalg.norm(x - c) / (2 * (width ** 2)))\n",
        "\n",
        "    def calculate_hidden_layer(self, X):\n",
        "        hidden_layer = np.zeros((X.shape[0], self.num_hidden_units))\n",
        "        for i, x in enumerate(X):\n",
        "            for j, c in enumerate(self.centers):\n",
        "                hidden_layer[i, j] = self.rbf_kernel(x, c, self.width[j])\n",
        "        return hidden_layer\n",
        "\n",
        "    def fit(self, X, y, num_centers=10):\n",
        "        self.centers = X[np.random.choice(X.shape[0], self.num_hidden_units, replace=False)]\n",
        "        self.width = np.full(self.num_hidden_units, np.std(X) / np.sqrt(2 * self.num_hidden_units))\n",
        "\n",
        "        hidden_layer = self.calculate_hidden_layer(X)\n",
        "\n",
        "        self.weights = np.dot(np.linalg.pinv(hidden_layer), y)\n",
        "\n",
        "    def predict(self, X):\n",
        "        hidden_layer = self.calculate_hidden_layer(X)\n",
        "        return np.dot(hidden_layer, self.weights)\n",
        "\n",
        "rbn = RadialBasisNetwork(num_features=X.shape[1], num_hidden_units=5)\n",
        "\n",
        "\n",
        "disaster_risk_threshold = 0.1\n",
        "y = np.array([1 if risk > disaster_risk_threshold else 0 for risk in X[:, 2]])\n",
        "\n",
        "rbn.fit(X, y)\n",
        "\n",
        "new_data = np.array([[250, 5, 0.08], [350, 7, 0.15], [200, 3, 0.05]])\n",
        "\n",
        "predictions = rbn.predict(new_data)\n",
        "\n",
        "resource_prioritization = [\"High Priority\" if pred > 0.5 else \"Low Priority\" for pred in predictions]\n",
        "\n",
        "for i in range(len(new_data)):\n",
        "    print(f\"Resource Priority for {district_names[i]}: {resource_prioritization[i]}\")\n"
      ],
      "metadata": {
        "colab": {
          "base_uri": "https://localhost:8080/"
        },
        "id": "Vp_e8CLzHz4A",
        "outputId": "e0ad8db5-3ca9-4f5f-d9e6-c34e4c576d8d"
      },
      "execution_count": 1,
      "outputs": [
        {
          "output_type": "stream",
          "name": "stdout",
          "text": [
            "Resource Priority for Bhubaneswar: Low Priority\n",
            "Resource Priority for Puri: High Priority\n",
            "Resource Priority for Cuttack: Low Priority\n"
          ]
        }
      ]
    },
    {
      "cell_type": "code",
      "source": [
        "import numpy as np\n",
        "\n",
        "# Sample data related to climate change modeling in Odisha\n",
        "# Features: [Average Temperature (°C), Precipitation (mm), Sea Level Rise (cm)]\n",
        "X = np.array([[28.5, 150, 5], [29.0, 160, 6], [28.0, 140, 4], [29.5, 165, 7], [28.2, 155, 5],\n",
        "              [27.8, 145, 4], [28.8, 170, 8], [28.3, 148, 5.5], [28.7, 158, 6.5], [29.2, 162, 7],\n",
        "              [28.4, 153, 5], [28.9, 168, 7.5], [28.1, 147, 4.5], [28.6, 157, 6], [29.1, 163, 7.2]])\n",
        "\n",
        "# Binary labels: 0 (low climate change impact) or 1 (high climate change impact)\n",
        "y = np.array([0, 1, 0, 1, 0, 0, 1, 0, 1, 1, 0, 1, 0, 1, 1])\n",
        "\n",
        "district_names = [\"Puri\", \"Cuttack\", \"Khurda\", \"Balasore\", \"Sundargarh\",\n",
        "                  \"Kendrapara\", \"Bhadrak\", \"Angul\", \"Bolangir\", \"Jajpur\",\n",
        "                  \"Baripada\", \"Jharsuguda\", \"Paradip\", \"Dhenkanal\", \"Keonjhar\"]\n",
        "\n",
        "class RadialBasisNetwork:\n",
        "    def __init__(self, num_features, num_hidden_units):\n",
        "        self.num_features = num_features\n",
        "        self.num_hidden_units = num_hidden_units\n",
        "        self.centers = None\n",
        "        self.width = None\n",
        "        self.weights = None\n",
        "\n",
        "    def rbf_kernel(self, x, c, width):\n",
        "        return np.exp(-np.linalg.norm(x - c) / (2 * (width ** 2)))\n",
        "\n",
        "    def calculate_hidden_layer(self, X):\n",
        "        hidden_layer = np.zeros((X.shape[0], self.num_hidden_units))\n",
        "        for i, x in enumerate(X):\n",
        "            for j, c in enumerate(self.centers):\n",
        "                hidden_layer[i, j] = self.rbf_kernel(x, c, self.width[j])\n",
        "        return hidden_layer\n",
        "\n",
        "    def fit(self, X, y, num_centers=10):\n",
        "        self.centers = X[np.random.choice(X.shape[0], self.num_hidden_units, replace=False)]\n",
        "\n",
        "        self.width = np.full(self.num_hidden_units, np.std(X) / np.sqrt(2 * self.num_hidden_units))\n",
        "\n",
        "        hidden_layer = self.calculate_hidden_layer(X)\n",
        "\n",
        "        self.weights = np.dot(np.linalg.pinv(hidden_layer), y)\n",
        "\n",
        "    def predict(self, X):\n",
        "        hidden_layer = self.calculate_hidden_layer(X)\n",
        "        return np.dot(hidden_layer, self.weights)\n",
        "\n",
        "rbn = RadialBasisNetwork(num_features=X.shape[1], num_hidden_units=5)\n",
        "\n",
        "rbn.fit(X, y)\n",
        "\n",
        "new_data = np.array([[28.3, 155, 5.2], [28.8, 165, 6.8], [29.5, 150, 7.5]])\n",
        "\n",
        "predictions = rbn.predict(new_data)\n",
        "\n",
        "climate_change_impact = [\"Low Impact\" if pred < 0.5 else \"High Impact\" for pred in predictions]\n",
        "\n",
        "for i in range(len(new_data)):\n",
        "    print(f\"Prediction for {district_names[i]}: {climate_change_impact[i]}\")\n"
      ],
      "metadata": {
        "colab": {
          "base_uri": "https://localhost:8080/"
        },
        "id": "CiPeWJtMJahg",
        "outputId": "f7d2be08-28a6-43d8-b836-bec0209cf86c"
      },
      "execution_count": 4,
      "outputs": [
        {
          "output_type": "stream",
          "name": "stdout",
          "text": [
            "Prediction for Puri: Low Impact\n",
            "Prediction for Cuttack: High Impact\n",
            "Prediction for Khurda: Low Impact\n"
          ]
        }
      ]
    }
  ]
}