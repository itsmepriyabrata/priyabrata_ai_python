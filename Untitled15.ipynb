{
  "nbformat": 4,
  "nbformat_minor": 0,
  "metadata": {
    "colab": {
      "provenance": [],
      "authorship_tag": "ABX9TyOFM1hTsj3jA4qnXWA/zzi/",
      "include_colab_link": true
    },
    "kernelspec": {
      "name": "python3",
      "display_name": "Python 3"
    },
    "language_info": {
      "name": "python"
    }
  },
  "cells": [
    {
      "cell_type": "markdown",
      "metadata": {
        "id": "view-in-github",
        "colab_type": "text"
      },
      "source": [
        "<a href=\"https://colab.research.google.com/github/itsmepriyabrata/priyabrata_ai_python/blob/main/Untitled15.ipynb\" target=\"_parent\"><img src=\"https://colab.research.google.com/assets/colab-badge.svg\" alt=\"Open In Colab\"/></a>"
      ]
    },
    {
      "cell_type": "code",
      "source": [
        "import numpy as np\n",
        "\n",
        "def sigmoid(x):\n",
        "    return 1 / (1 + np.exp(-x))\n",
        "\n",
        "def sigmoid_derivative(x):\n",
        "    return x * (1 - x)\n",
        "\n",
        "def initialize_weights(input_size, hidden_layers, neurons_per_layer, output_size):\n",
        "    layers = [input_size] + hidden_layers + [output_size]\n",
        "    weights = []\n",
        "\n",
        "    for i in range(len(layers) - 1):\n",
        "        w = np.random.uniform(size=(layers[i], layers[i+1]))\n",
        "        weights.append(w)\n",
        "\n",
        "    return weights\n",
        "\n",
        "def forward_pass(input_data, weights, biases):\n",
        "    layer_outputs = [input_data]\n",
        "    for i in range(len(weights)):\n",
        "        layer_input = np.dot(layer_outputs[-1], weights[i]) + biases[i]\n",
        "        layer_output = sigmoid(layer_input)\n",
        "        layer_outputs.append(layer_output)\n",
        "\n",
        "    return layer_outputs\n",
        "\n",
        "def backward_pass(layer_outputs, target_output, weights):\n",
        "    errors = [target_output - layer_outputs[-1]]\n",
        "    deltas = [errors[-1] * sigmoid_derivative(layer_outputs[-1])]\n",
        "\n",
        "    for i in range(len(layer_outputs) - 2, 0, -1):\n",
        "        error = deltas[-1].dot(weights[i].T)\n",
        "        delta = error * sigmoid_derivative(layer_outputs[i])\n",
        "        errors.append(error)\n",
        "        deltas.append(delta)\n",
        "\n",
        "    return errors[::-1], deltas[::-1]\n",
        "\n",
        "def update_weights(weights, biases, layer_outputs, deltas, learning_rate):\n",
        "    for i in range(len(weights)):\n",
        "        weights[i] += layer_outputs[i].T.dot(deltas[i]) * learning_rate\n",
        "        biases[i] += np.sum(deltas[i], axis=0, keepdims=True) * learning_rate\n",
        "\n",
        "def train_neural_network(input_data, target_output, hidden_layers, neurons_per_layer, output_size, learning_rate, epochs):\n",
        "    input_size = input_data.shape[1]\n",
        "    weights = initialize_weights(input_size, hidden_layers, neurons_per_layer, output_size)\n",
        "    biases = [np.zeros((1, neurons)) for neurons in neurons_per_layer + [output_size]]\n",
        "\n",
        "    for epoch in range(epochs):\n",
        "        layer_outputs = forward_pass(input_data, weights, biases)\n",
        "        errors, deltas = backward_pass(layer_outputs, target_output, weights)\n",
        "        update_weights(weights, biases, layer_outputs, deltas, learning_rate)\n",
        "\n",
        "    return weights, biases\n",
        "\n",
        "# Example usage:\n",
        "input_data = np.array([[0, 0], [0, 1], [1, 0], [1, 1]])\n",
        "target_output = np.array([[0], [1], [1], [0]])\n",
        "\n",
        "hidden_layers = [4, 3]  # Define the number of neurons in each hidden layer\n",
        "neurons_per_layer = hidden_layers\n",
        "output_size = 1\n",
        "learning_rate = 0.01\n",
        "epochs = 10000\n",
        "\n",
        "trained_weights, trained_biases = train_neural_network(input_data, target_output, hidden_layers, neurons_per_layer, output_size, learning_rate, epochs)\n",
        "\n",
        "# Testing the trained model\n",
        "test_data = np.array([[0, 0], [0, 1], [1, 0], [1, 1]])\n",
        "output = forward_pass(test_data, trained_weights, trained_biases)[-1]\n",
        "\n",
        "print(\"Predicted Output after Training:\")\n",
        "print(output)"
      ],
      "metadata": {
        "colab": {
          "base_uri": "https://localhost:8080/"
        },
        "id": "01JPgaKPzMFu",
        "outputId": "5a207b51-1145-452b-c567-f7d9019a9b3b"
      },
      "execution_count": 4,
      "outputs": [
        {
          "output_type": "stream",
          "name": "stdout",
          "text": [
            "Predicted Output after Training:\n",
            "[[0.48725978]\n",
            " [0.50346501]\n",
            " [0.50360983]\n",
            " [0.51390872]]\n"
          ]
        }
      ]
    },
    {
      "cell_type": "code",
      "source": [
        "from sklearn.metrics import confusion_matrix\n",
        "import seaborn as sns\n",
        "import matplotlib.pyplot as plt\n",
        "\n",
        "def plot_confusion_matrix(true_labels, predicted_labels, classes):\n",
        "    cm = confusion_matrix(true_labels, predicted_labels)\n",
        "\n",
        "    plt.figure(figsize=(len(classes), len(classes)))\n",
        "    sns.heatmap(cm, annot=True, fmt=\"d\", cmap=\"Blues\", xticklabels=classes, yticklabels=classes)\n",
        "    plt.xlabel('Predicted')\n",
        "    plt.ylabel('True')\n",
        "    plt.title('Confusion Matrix')\n",
        "    plt.show()\n",
        "\n",
        "# Example usage:\n",
        "true_labels = [1, 0, 1, 2, 1, 0, 1, 2, 2, 0]\n",
        "predicted_labels = [1, 0, 1, 2, 1, 0, 2, 2, 2, 0]\n",
        "class_names = ['Class 0', 'Class 1', 'Class 2']\n",
        "\n",
        "plot_confusion_matrix(true_labels, predicted_labels, class_names)"
      ],
      "metadata": {
        "colab": {
          "base_uri": "https://localhost:8080/",
          "height": 333
        },
        "id": "e26jtE-Szbzn",
        "outputId": "b9810406-3c63-478b-ddbf-391a541da774"
      },
      "execution_count": 6,
      "outputs": [
        {
          "output_type": "display_data",
          "data": {
            "text/plain": [
              "<Figure size 300x300 with 2 Axes>"
            ],
            "image/png": "[encoded data removed]"
          },
          "metadata": {}
        }
      ]
    }
  ]
}