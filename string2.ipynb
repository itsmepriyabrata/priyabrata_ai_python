{
  "nbformat": 4,
  "nbformat_minor": 0,
  "metadata": {
    "colab": {
      "provenance": [],
      "authorship_tag": "ABX9TyPEeyO5zvMKopDcifbjAQ74",
      "include_colab_link": true
    },
    "kernelspec": {
      "name": "python3",
      "display_name": "Python 3"
    },
    "language_info": {
      "name": "python"
    }
  },
  "cells": [
    {
      "cell_type": "markdown",
      "metadata": {
        "id": "view-in-github",
        "colab_type": "text"
      },
      "source": [
        "<a href=\"https://colab.research.google.com/github/itsmepriyabrata/priyabrata_ai_python/blob/main/string2.ipynb\" target=\"_parent\"><img src=\"https://colab.research.google.com/assets/colab-badge.svg\" alt=\"Open In Colab\"/></a>"
      ]
    },
    {
      "cell_type": "code",
      "source": [
        "def is_symmetrical(string):\n",
        "    return string == string[::-1]\n",
        "\n",
        "def is_palindrome(string):\n",
        "    string = ''.join(string.split()).lower()  # Removing spaces and converting to lowercase\n",
        "    return is_symmetrical(string)\n",
        "\n",
        "# Test the functions\n",
        "string = input(\"Enter a string: \")\n",
        "if is_symmetrical(string):\n",
        "    print(\"The string is symmetrical.\")\n",
        "else:\n",
        "    print(\"The string is not symmetrical.\")\n",
        "\n",
        "if is_palindrome(string):\n",
        "    print(\"The string is a palindrome.\")\n",
        "else:\n",
        "    print(\"The string is not a palindrome.\")\n"
      ],
      "metadata": {
        "colab": {
          "base_uri": "https://localhost:8080/"
        },
        "id": "VAszCH0LkdvZ",
        "outputId": "bb371581-3a49-45f4-fb80-eadc3fe3af26"
      },
      "execution_count": 2,
      "outputs": [
        {
          "output_type": "stream",
          "name": "stdout",
          "text": [
            "Enter a string: amama\n",
            "The string is symmetrical.\n",
            "The string is a palindrome.\n"
          ]
        }
      ]
    },
    {
      "cell_type": "code",
      "source": [
        "def contains_substring(string, substring):\n",
        "    return string.find(substring) != -1\n",
        "\n",
        "# Test the function\n",
        "string = input(\"Enter a string: \")\n",
        "substring = input(\"Enter a substring to check for: \")\n",
        "\n",
        "if contains_substring(string, substring):\n",
        "    print(\"The string contains the substring.\")\n",
        "else:\n",
        "    print(\"The string does not contain the substring.\")\n"
      ],
      "metadata": {
        "colab": {
          "base_uri": "https://localhost:8080/"
        },
        "id": "5CLiD0Cfo4OB",
        "outputId": "f05c34c2-f12c-4396-8756-c79a6998081f"
      },
      "execution_count": 3,
      "outputs": [
        {
          "output_type": "stream",
          "name": "stdout",
          "text": [
            "Enter a string: priyabrata\n",
            "Enter a substring to check for: priya\n",
            "The string contains the substring.\n"
          ]
        }
      ]
    },
    {
      "cell_type": "code",
      "source": [],
      "metadata": {
        "id": "UCNEOPj0o4Q4"
      },
      "execution_count": null,
      "outputs": []
    }
  ]
}