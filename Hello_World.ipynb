{
  "nbformat": 4,
  "nbformat_minor": 0,
  "metadata": {
    "colab": {
      "provenance": [],
      "authorship_tag": "ABX9TyN4zLeA9o64ShRW+euYjEUy",
      "include_colab_link": true
    },
    "kernelspec": {
      "name": "python3",
      "display_name": "Python 3"
    },
    "language_info": {
      "name": "python"
    }
  },
  "cells": [
    {
      "cell_type": "markdown",
      "metadata": {
        "id": "view-in-github",
        "colab_type": "text"
      },
      "source": [
        "<a href=\"https://colab.research.google.com/github/itsmepriyabrata/priyabrata_ai_python/blob/main/Hello_World.ipynb\" target=\"_parent\"><img src=\"https://colab.research.google.com/assets/colab-badge.svg\" alt=\"Open In Colab\"/></a>"
      ]
    },
    {
      "cell_type": "code",
      "execution_count": null,
      "metadata": {
        "colab": {
          "base_uri": "https://localhost:8080/"
        },
        "id": "Q8Pt5ogFe0D6",
        "outputId": "97379255-153d-48e3-a8a8-56cea67d76e3"
      },
      "outputs": [
        {
          "output_type": "stream",
          "name": "stdout",
          "text": [
            "Enter your name: priyabrata\n",
            "Hello, priyabrata! Welcome to ThinkSphere AI.\n",
            "Your journey into the world of Artificial Intelligence starts here.\n",
            "Let's build a future together!\n"
          ]
        }
      ],
      "source": [
        "class ThinkSphereAI:\n",
        "    def __init__(self, student_name):\n",
        "        self.student_name = student_name\n",
        "\n",
        "    def welcome_message(self):\n",
        "        print(f\"Hello, {self.student_name}! Welcome to ThinkSphere AI.\")\n",
        "        print(\"Your journey into the world of Artificial Intelligence starts here.\")\n",
        "        print(\"Let's build a future together!\")\n",
        "\n",
        "def main():\n",
        "    name = input(\"Enter your name: \")\n",
        "\n",
        "    student = ThinkSphereAI(name)\n",
        "\n",
        "    student.welcome_message()\n",
        "\n",
        "if __name__ == \"__main__\":\n",
        "    main()\n"
      ]
    }
  ]
}